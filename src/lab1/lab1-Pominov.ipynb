{
 "cells": [
  {
   "cell_type": "markdown",
   "id": "2efd7c4c",
   "metadata": {},
   "source": [
    "# Лабораторная работа 1. Введение в Python"
   ]
  },
  {
   "cell_type": "markdown",
   "id": "aa6c9880",
   "metadata": {},
   "source": [
    "В данной работе вам необходимо изучить представленный  материал, последовательно запуская ячейки блокнота. \n",
    "После запуска любой ячейки с кодом, вы можете поменять ее содержимое для того, чтобы отработать материал на других переменных/числах/функциях.\n",
    "\n",
    "Кроме того, вам необходимо выполнить задания, записанные прямо в тексте блокнота после символов 📌📌📌 .\n",
    "Для записи ответов используйте ячейки под заданиями, содержащие запись `# Ваш код`.\n",
    "\n",
    "При выполнении задания рекомендуется обращаться:\n",
    "- к справке по Python 3 ([https://docs.python.org/3/tutorial/index.html]),\n",
    "- к учебнику `У. Маккини. Python и анализ данных`\n",
    "\n",
    "**Внимание:** На проверку отправляйте ноутбук, сохраненный под названием `lab1-Ваша_фамилия.ipynb`"
   ]
  },
  {
   "cell_type": "markdown",
   "id": "b7f2dff8",
   "metadata": {},
   "source": [
    "# Типы данных в Python"
   ]
  },
  {
   "cell_type": "markdown",
   "id": "faabcb88",
   "metadata": {},
   "source": [
    "## 1. Скалярные типы \n",
    "**Числовые типы** \n",
    "- **int**  - целое число со знаком \n",
    "- **float** - число с плавающей точкой (64-разрядное)"
   ]
  },
  {
   "cell_type": "code",
   "execution_count": null,
   "id": "fc7957eb",
   "metadata": {},
   "outputs": [],
   "source": [
    "x=4 # целое число\n",
    "y=0.25 # число с плавающей точкой \n",
    "z=2.5e-1# число с плавающей точкой в научной нотации"
   ]
  },
  {
   "cell_type": "code",
   "execution_count": null,
   "id": "54aba466",
   "metadata": {
    "scrolled": true
   },
   "outputs": [],
   "source": [
    "print(type(x)) # выясняем тип x\n",
    "print(y==z) # проверяем, равны ли y и z"
   ]
  },
  {
   "cell_type": "markdown",
   "id": "f23bb858",
   "metadata": {},
   "source": [
    "- Деление целых чисел (операция **`/`**) всегда дает число с плавающей точкой. \n",
    "- Для целочисленного деления (с отбрасыванием остатка) служит оператор **`//`** (результат все равно будет с плавающей точкой, но с нулем после запятой)\n",
    "- Для преобразования числовых типов друг в друга можно использовать функции `int()` и `float()` \n",
    "- Возведение в степень производится с помощью оператора ******"
   ]
  },
  {
   "cell_type": "code",
   "execution_count": null,
   "id": "8a15c977",
   "metadata": {},
   "outputs": [],
   "source": [
    "print(4/3)\n",
    "print(2**0.5)\n",
    "print(int(2.9))"
   ]
  },
  {
   "cell_type": "markdown",
   "id": "a71d4cea",
   "metadata": {},
   "source": [
    "**Строки**\n",
    "- **str** - тип строки. Может содержать любые символы Unicode\n",
    "\n",
    "Чтобы посмотреть, какие атрибуты и методы есть у строкового объекта `s`, напишите `s.`, затем нажмите `<Tab>`. Попробуйте в ячейке ниже."
   ]
  },
  {
   "cell_type": "code",
   "execution_count": null,
   "id": "cc65cc34",
   "metadata": {},
   "outputs": [],
   "source": [
    "s=\"hello\"\n",
    "# ваш код"
   ]
  },
  {
   "cell_type": "code",
   "execution_count": 1,
   "id": "389466fb",
   "metadata": {
    "scrolled": true
   },
   "outputs": [],
   "source": [
    "string_1='первый способ задать строку' # определение строки с помощью одинарных кавычек\n",
    "string_2=\"второй способ\" # определение строки с помощью двойных кавычек\""
   ]
  },
  {
   "cell_type": "code",
   "execution_count": null,
   "id": "1b125eda",
   "metadata": {},
   "outputs": [],
   "source": [
    "string_united=string_1+ ' мне нравится больше, чем '+ string_2 # конкатенация строк\n",
    "print(string_united)\n",
    "print(string_1.split('а')) # разбиение строки на \"слова\" по некоторому символу (по умолчанию - по пробелу)\n",
    "print(list(string_1))# посимвольное разбиение строки - создается объект \"список\", элементами которого являются отдельные символы"
   ]
  },
  {
   "cell_type": "code",
   "execution_count": null,
   "id": "0f628f45",
   "metadata": {},
   "outputs": [],
   "source": [
    "string_1=string_1.replace('первый', '1-й') # модификация строки с помощью метода replace()\n",
    "string_2=string_2.replace('второй', '2-й')\n",
    "print(string_1+ ' мне нравится больше, чем ', string_2)"
   ]
  },
  {
   "cell_type": "code",
   "execution_count": null,
   "id": "05690f73",
   "metadata": {},
   "outputs": [],
   "source": [
    "xx=str(x*102)# преобразование объекта x*102 в строку \n",
    "print(xx, type(xx))\n",
    "print(xx[2]) # к элементам строки можно обращаться по индексу"
   ]
  },
  {
   "cell_type": "code",
   "execution_count": null,
   "id": "0854e4ee",
   "metadata": {},
   "outputs": [],
   "source": [
    "### ваш код"
   ]
  },
  {
   "cell_type": "markdown",
   "id": "775b40a7",
   "metadata": {},
   "source": [
    "**Булевы значения**\n",
    "- **bool** - булев тип  (значения `True/False`)\n",
    "Чаще всего булевы значения получаются при проверке условий. Условия можно объединять с помощью `&`(and) `|`(or)"
   ]
  },
  {
   "cell_type": "code",
   "execution_count": null,
   "id": "f8c16361",
   "metadata": {},
   "outputs": [],
   "source": [
    "len(string_1)<len(string_2) # проверяем, короче ли строка 1, чем строка 2"
   ]
  },
  {
   "cell_type": "code",
   "execution_count": null,
   "id": "a9b75259",
   "metadata": {},
   "outputs": [],
   "source": [
    "print((2<3)|(4<3), (2<3)&(4<3), 2==3, 2!=3)# проверка различных условий"
   ]
  },
  {
   "cell_type": "markdown",
   "id": "5b696283",
   "metadata": {},
   "source": [
    "📌📌📌 **Задание 1**:\n",
    "\n",
    "1. Создайте строку:\n",
    "- Переменной `age`  присвойте ваш возраст в годах (в виде числа с плавающей точкой, например, `20.75`). \n",
    "- Переменная `years` должна вычисляться как число ваших полных лет (целое число).\n",
    "- С помощью операции конкатенации создайте строку `string`, в которой будет записано, сколько вам полных лет (Например, `\"Мне 20 полных лет\"`). Выведите полученную строку на экран.\n",
    "\n",
    "Код должен позволять менять информацию о возрасте, изменив только значение переменной `age`  \n",
    "\n",
    "2. Модифицируйте строку (используя необходимый метод переменной `string`), чтобы в ней сообщалось о том, сколько полных лет Пете. Выведите на экран"
   ]
  },
  {
   "cell_type": "code",
   "execution_count": 31,
   "id": "f43c9d34",
   "metadata": {},
   "outputs": [
    {
     "name": "stdout",
     "output_type": "stream",
     "text": [
      "I'm 21 years old\n"
     ]
    },
    {
     "data": {
      "text/plain": [
       "'Petya is 21 years old'"
      ]
     },
     "execution_count": 31,
     "metadata": {},
     "output_type": "execute_result"
    }
   ],
   "source": [
    "age = 21.0+(9-7)/12\n",
    "years = int(age)\n",
    "string = \"I'm \" + str(years) + \" years old\"\n",
    "print(string)\n",
    "\n",
    "#2\n",
    "\n",
    "string = string.replace(\"I'm\",\"Petya is\")\n",
    "string"
   ]
  },
  {
   "cell_type": "markdown",
   "id": "298baf8d",
   "metadata": {},
   "source": [
    "## 2. Дата и время\n",
    "Стандартный модуль `datetime` позволяет работать с информацией о дате и времени."
   ]
  },
  {
   "cell_type": "code",
   "execution_count": 21,
   "id": "90d285a2",
   "metadata": {},
   "outputs": [],
   "source": [
    "import datetime as dt"
   ]
  },
  {
   "cell_type": "code",
   "execution_count": null,
   "id": "a4ec4ead",
   "metadata": {},
   "outputs": [],
   "source": [
    "my_dt=dt.datetime(2022,7,30,15,12,1) #создание объекта с информацией о дате и времени\n",
    "print(my_dt)"
   ]
  },
  {
   "cell_type": "code",
   "execution_count": null,
   "id": "d523797a",
   "metadata": {},
   "outputs": [],
   "source": [
    "my_dt.month # можно обратиться отдельно к каждой компоненте \n",
    "# Попробуйте вывести информацию о годе, дне, часе, минуте, секунде"
   ]
  },
  {
   "cell_type": "code",
   "execution_count": null,
   "id": "dad55596",
   "metadata": {},
   "outputs": [],
   "source": [
    "now=dt.datetime.now() # Текущее время\n",
    "print(now.date())# Отдельно информация о дате\n",
    "print(now.time())# Отдельно информация о времени"
   ]
  },
  {
   "cell_type": "markdown",
   "id": "9cac2a8e",
   "metadata": {},
   "source": [
    "Метод `strftime()` форматирует объект datetime, представляя его в виде строки. Перечень спецификаций формата здесь [https://docs.python.org/3/library/datetime.html#strftime-and-strptime-behavior\n",
    "]"
   ]
  },
  {
   "cell_type": "code",
   "execution_count": null,
   "id": "65010b0e",
   "metadata": {},
   "outputs": [],
   "source": [
    "now_string=now.strftime('%d/%m/%Y')#Преобразование объекта datetime  в строку\n",
    "print(now_string)\n",
    "now_new=dt.datetime.strptime(now_string, '%d/%m/%Y') #Обратное преобразование \n",
    "print(now_new)"
   ]
  },
  {
   "cell_type": "code",
   "execution_count": null,
   "id": "98dcf2e2",
   "metadata": {},
   "outputs": [],
   "source": [
    "# Попробуйте разные варианты преобразований даты и времени в строку и обратно"
   ]
  },
  {
   "cell_type": "markdown",
   "id": "f341641d",
   "metadata": {},
   "source": [
    "Вычитание объектов `datetime` дает объект типа `timedelta` (длина временного периода)"
   ]
  },
  {
   "cell_type": "code",
   "execution_count": null,
   "id": "423ceb07",
   "metadata": {},
   "outputs": [],
   "source": [
    "delta=now-my_dt # длина временного периода между my_dt и now\n",
    "print(delta) # выводится информация о днях, часах, минутах и секундах периода\n",
    "print(delta.microseconds) #с помощью отдельных атрибутов можно вывести информацию о днях, секундах и микросекундах периода\n",
    "#print(now-my_dt.minutes())"
   ]
  },
  {
   "cell_type": "markdown",
   "id": "de3f1a2b",
   "metadata": {},
   "source": [
    "Сложение объектов `datetime` и `timedelta` дает новый объект datetime"
   ]
  },
  {
   "cell_type": "code",
   "execution_count": null,
   "id": "3b3004f1",
   "metadata": {
    "scrolled": true
   },
   "outputs": [],
   "source": [
    "new_dt=now+delta\n",
    "print(new_dt)"
   ]
  },
  {
   "cell_type": "markdown",
   "id": "e854f939",
   "metadata": {},
   "source": [
    "📌📌📌 **Задание 2**:\n",
    "\n",
    "1. Создайте объект `datetime` - дату и время своего рождения.\n",
    "2. Выведите на экран этот объект, преобразованный в строку по образцу (**`05 June 1999, Saturday`**) (обратите внимание на пунктуацию)\n",
    "3. Вычислите, сколько дней вы прожили до текущего момента. Выведите на экран."
   ]
  },
  {
   "cell_type": "code",
   "execution_count": null,
   "id": "9c0a1119",
   "metadata": {},
   "outputs": [
    {
     "name": "stdout",
     "output_type": "stream",
     "text": [
      "11 July 2004, Sunday\n"
     ]
    },
    {
     "data": {
      "text/plain": [
       "7726"
      ]
     },
     "execution_count": 25,
     "metadata": {},
     "output_type": "execute_result"
    }
   ],
   "source": [
    "## Ваш код\n",
    "birth_date = dt.datetime(2004,7,11)\n",
    "\n",
    "formatted_date = birth_date.strftime('%d %B %Y, %A')\n",
    "print(formatted_date)\n",
    "\n",
    "now = dt.datetime.now()\n",
    "days_lived = (now - birth_date).days\n",
    "days_lived"
   ]
  },
  {
   "cell_type": "markdown",
   "id": "6a43d4d8",
   "metadata": {},
   "source": [
    "## 3. Управляющие структуры"
   ]
  },
  {
   "cell_type": "markdown",
   "id": "ee3b35e5",
   "metadata": {},
   "source": [
    "**Условная конструкция if-elif-else**\n",
    "\n",
    "`оператор (if/elif/else) условие: блок`"
   ]
  },
  {
   "cell_type": "code",
   "execution_count": null,
   "id": "fba12615",
   "metadata": {},
   "outputs": [],
   "source": [
    "x=2# Попробуйте разные числа\n",
    "if x<0:\n",
    "    print('отрицательно')\n",
    "elif x==0:\n",
    "    print('равно нулю')\n",
    "elif x>1:\n",
    "    print(\"больше единицы\")\n",
    "else:\n",
    "    print(\"между нулем и единицей\")"
   ]
  },
  {
   "cell_type": "markdown",
   "id": "b00f8722",
   "metadata": {},
   "source": [
    "**Цикл for**\n",
    "\n",
    "`for переменная in коллекция:\n",
    "    блок`\n",
    "- Ключевое слово `continue` позволяет сразу перейти к следующей итерации цикла\n",
    "- Ключевое слово `break` осуществляет выход из самого внутреннего цикла \n",
    "- Простейший пример коллекции - список (list). Может содержать объекты разных типов. Создается с помощью прямых скобок (`a=[1,2,\"yes\",3.12]`) или путем преобразования некоторого объекта с помощью функции list `a=list('my name')` "
   ]
  },
  {
   "cell_type": "code",
   "execution_count": null,
   "id": "c123a724",
   "metadata": {},
   "outputs": [],
   "source": [
    "sequence=[1,2,None,4,None,5] # созданная коллекция имеет тип list\n",
    "summa=0\n",
    "for value in sequence:\n",
    "    if value is None:\n",
    "        continue\n",
    "    summa+=value\n",
    "print(summa)"
   ]
  },
  {
   "cell_type": "markdown",
   "id": "8a2687f7",
   "metadata": {},
   "source": [
    "Функция `range()` порождает коллекцию равноотстоящих целых чисел. Часто используется в циклах"
   ]
  },
  {
   "cell_type": "code",
   "execution_count": null,
   "id": "a747a75a",
   "metadata": {},
   "outputs": [],
   "source": [
    "r=range(10)\n",
    "print(r)\n",
    "print(list(r)) # Преобразуем колелекцию r в список\n",
    "r1=range(2,15,4) # аргументы: от, до, с какам шагом\n",
    "print(list(r1))"
   ]
  },
  {
   "cell_type": "markdown",
   "id": "542568b1",
   "metadata": {},
   "source": [
    "**Цикл while**\n",
    "\n",
    "`while условие: \n",
    "    блок`"
   ]
  },
  {
   "cell_type": "code",
   "execution_count": null,
   "id": "49cb37b6",
   "metadata": {},
   "outputs": [],
   "source": [
    "x=256 # Разберитесь, что вычисляется в этой ячейке\n",
    "summa=0\n",
    "while x>0.5:\n",
    "    if summa>500:\n",
    "        break\n",
    "    summa+=x\n",
    "    x=x//2\n",
    "print(summa)"
   ]
  },
  {
   "cell_type": "markdown",
   "id": "a55e603e",
   "metadata": {},
   "source": [
    "**Пользовательские функции**\n",
    "\n",
    "`def функция(позиционные аргументы, именованные аргументы): \n",
    "    блок \n",
    "    return() `\n",
    "\n",
    "- Именованные аргументы обычно используются для задания значений по умолчанию и необязательных аргументов\n",
    "- Именнованные аргументы должны находиться после всех позиционных, если таковые имеются "
   ]
  },
  {
   "cell_type": "code",
   "execution_count": null,
   "id": "4e7db151",
   "metadata": {},
   "outputs": [],
   "source": [
    "def my_fun(x,y,z=1): #Что делает эта функция?\n",
    "    if z>1:\n",
    "        return((x+y)**z)\n",
    "    else:\n",
    "        return(x+y)\n",
    "print(my_fun(1,2,2))\n",
    "print(my_fun(1,2,z=2))\n",
    "print(my_fun(1,2))\n",
    "print(my_fun(1,2, z=0))"
   ]
  },
  {
   "cell_type": "markdown",
   "id": "065202ac",
   "metadata": {},
   "source": [
    "📌📌📌 **Задание 3**:\n",
    "\n",
    "Это задание выполняется по вариантам.\n",
    "\n",
    "**Варианты:**\n",
    "\n",
    "1. Создайте пользовательскую фукнцию `f(x,t)`, которая в течение `t` секунд на каждой итерации цикла увеличивает  `x` на единицу, а по окончании работы возвращает получившееся в итоге число `x`. Один из аргументов функции `f` сделайте позиционным, а другой - именнованным. Выведите на экран значение этой функции при произвольно выбранных вами значениях аргументов.\n",
    "\n",
    "\n",
    "2. Строка `my_str` должна содержать первую строчку произвольного стихотворения, переменная `date` - дату его написания (если знаете только год написания, то день и месяц примите равными 1 января). Напишите функцию `my_fun(my_str, date)`, которая выводит на экран первую строку стихотворения и подписывает, сколько лет назад оно было написано (например, `Буря мглою небо кроет... Написано 197.75 лет назад`). Реализуйте для нескольких вариантов `my_str` и `date`.\n",
    "\n",
    "\n",
    "3. Реализуйте вычисление \"избирательного\" факториала натурального числа `n`: перемножаться между собой должны только числа, делящиеся нацело как на число `a`, так и на число `b`. Организуйте защиту от переполнения памяти, поставив разумное ограничение на `n`.\n",
    "    - вычислите \"избирательный\" факториал для произвольных натуральных чисел `n, a, b`\n",
    "    - с помощью функции \"избирательного\" факториала вычислите обычный факториал $10!$\n",
    "    \n",
    "    \n",
    "4. Строка `my_str` должна содержать текст из нескольких предложений. Напишите пользовательскую функцию, которая бы выводила на экран список символов, встреченных в `my_str` и количество раз, сколько эти символы встретились в строке.  Проверьте работу функции на нескольких вариантах `my_str`. (*Подсказка*: вам могут пригодиться функции `list()` и `set()`)"
   ]
  },
  {
   "cell_type": "code",
   "execution_count": 40,
   "id": "ca14b20d",
   "metadata": {},
   "outputs": [
    {
     "name": "stdout",
     "output_type": "stream",
     "text": [
      " :2\n",
      ".:1\n",
      "а:2\n",
      "д:2\n",
      "е:2\n",
      "ж:2\n",
      "к:1\n",
      "л:1\n",
      "н:1\n",
      "о:2\n",
      "р:1\n",
      "с:2\n",
      "т:3\n",
      "ь:1\n",
      "\n",
      "\n",
      "@:50\n",
      "\n",
      "\n"
     ]
    }
   ],
   "source": [
    "# Ваш код\n",
    "# Укажите номер варианта\n",
    "#4\n",
    "def count_str(my_str):\n",
    "    string = str(my_str.lower())\n",
    "    string.replace(\" \",'')\n",
    "    symbols = dict()\n",
    "    for c in string:\n",
    "        if c in symbols.keys():\n",
    "            symbols[c]+=1\n",
    "        else:\n",
    "            symbols[c] = 1\n",
    "    for key in sorted(symbols):\n",
    "        value = symbols[key]\n",
    "        print(f\"{key}:{value}\")\n",
    "    print('\\n')\n",
    "    \n",
    "count_str('Должна содержать текст.')\n",
    "count_str('@'*50)"
   ]
  }
 ],
 "metadata": {
  "kernelspec": {
   "display_name": "data_science (3.13.5)",
   "language": "python",
   "name": "python3"
  },
  "language_info": {
   "codemirror_mode": {
    "name": "ipython",
    "version": 3
   },
   "file_extension": ".py",
   "mimetype": "text/x-python",
   "name": "python",
   "nbconvert_exporter": "python",
   "pygments_lexer": "ipython3",
   "version": "3.13.5"
  }
 },
 "nbformat": 4,
 "nbformat_minor": 5
}
