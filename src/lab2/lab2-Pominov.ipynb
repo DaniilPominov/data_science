{
 "cells": [
  {
   "cell_type": "markdown",
   "id": "2efd7c4c",
   "metadata": {},
   "source": [
    "# Лабораторная работа 2. Структуры данных, функции, работа с файлами"
   ]
  },
  {
   "cell_type": "markdown",
   "id": "4b02e211",
   "metadata": {},
   "source": [
    "Скачайте в рабочую директорию файл `example.txt` - на этом файле вы будете отрабатывать изучаемы функции.\n",
    "\n",
    "В данной работе вам необходимо изучить представленный  материал, последовательно запуская ячейки блокнота. \n",
    "После запуска любой ячейки с кодом, вы можете поменять ее содержимое для того, чтобы отработать материал на других переменных/числах/функциях.\n",
    "\n",
    "Кроме того, вам необходимо выполнить задания, записанные прямо в тексте блокнота после символов 📌📌📌 .\n",
    "Для записи ответов используйте ячейки под заданиями, содержащие запись `# Ваш код`.\n",
    "\n",
    "При выполнении задания рекомендуется обращаться:\n",
    "- [к справке по Python 3](https://docs.python.org/3/tutorial/index.html),\n",
    "- к учебнику `У. Маккини. Python и анализ данных`"
   ]
  },
  {
   "cell_type": "markdown",
   "id": "b7f2dff8",
   "metadata": {},
   "source": [
    "# Структуры данных в Python"
   ]
  },
  {
   "cell_type": "markdown",
   "id": "a0ed8954",
   "metadata": {},
   "source": [
    "## 1. Изменяемые последовательности \n",
    " Начнем с уже знакомого по предыдущей лабораторной работе объекта - списка.\n",
    " \n",
    "### 1.1. Список (list)\n",
    "\n",
    "одномерная последовательность объектов, которая:\n",
    "- имеет переменную длину\n",
    "- может быть модифицирована\n",
    "- может состоять из объектов разного типа\n",
    "\n",
    "Способ задания:\n",
    "\n",
    "`a=[object_1,..., object_n]`"
   ]
  },
  {
   "cell_type": "code",
   "execution_count": 6,
   "id": "f7ef7d64",
   "metadata": {},
   "outputs": [
    {
     "name": "stdout",
     "output_type": "stream",
     "text": [
      "[1, 2, 3] <class 'list'>\n",
      "['Hello', 2, 1.23, True]\n"
     ]
    }
   ],
   "source": [
    "a=[1,2,3]\n",
    "print(a,type(a))# выведем объект a и убедимся, что это список\n",
    "b=['Hello', 2, 1.23,True] # создаем список из объектов разного типа\n",
    "print(b)"
   ]
  },
  {
   "cell_type": "markdown",
   "id": "bc85dc8b",
   "metadata": {},
   "source": [
    "**Добавление/удаление объектов в список/из списка:**\n",
    "    \n",
    "`a.append(new_object)` - добавление 1 нового объекта `new_object` в конец списка `a`;\n",
    "    \n",
    "`a.insert(index, new_object)` - добавление 1 нового объекта `new_object` в позицию `index` списка `a`;\n",
    "    \n",
    "`a.pop(index)` - удаление 1 объекта, находящегося в позиции `index` списка `a`;\n",
    "\n",
    "`a.remove(new_object)` - удаление *первого* найденного в списке `a` объекта `new_object`\n",
    "\n",
    "`list_1.extend(list_2)` - добавление в конец списка `list_1` элементов списка `list_2`\n",
    "\n",
    "`list_1+list_2` - конкатенация списков `list_1` и `list_2`"
   ]
  },
  {
   "cell_type": "code",
   "execution_count": 7,
   "id": "bd2344b3",
   "metadata": {},
   "outputs": [
    {
     "data": {
      "text/plain": [
       "[1, 3, 1, 'banana', 4, 3, 'apple']"
      ]
     },
     "execution_count": 7,
     "metadata": {},
     "output_type": "execute_result"
    }
   ],
   "source": [
    "a=[1,3,1,'apple','banana',4,3,'apple']\n",
    "a.remove('apple')\n",
    "a\n",
    "# примените к списку a все упомянутые методы"
   ]
  },
  {
   "cell_type": "markdown",
   "id": "4b33f9c6",
   "metadata": {},
   "source": [
    "**Сортировка, срезы списков:**\n",
    "    \n",
    "`a.sort()` - сортировка списка *inline*(т.е. без создания нового объекта);\n",
    "\n",
    "`a.sort(key=...)` - сортировка списка *inline* по ключу сортировки (в качестве ключа используется функция, которая вызывается для каждого элемента перед тем как производится сравнение для сортировки);\n",
    "\n",
    "`sorted(a)` - создание *нового* списка путем сортировки списка а; \n",
    "\n",
    "`a[start_index:stop_index]` - срез списка начиная с элемента с индексом `start_index` и заканчивая элементом с индексом `stop_index-1`"
   ]
  },
  {
   "cell_type": "code",
   "execution_count": 8,
   "id": "8e65069f",
   "metadata": {},
   "outputs": [
    {
     "name": "stdout",
     "output_type": "stream",
     "text": [
      "['1', 'hi', 'abc', 'ball', 'hello', 'pizza', 'geometry']\n",
      "['hi', 'abc'] ['1', 'hi', 'abc'] ['ball', 'hello', 'pizza', 'geometry']\n"
     ]
    }
   ],
   "source": [
    "my_list=['1','abc', 'hi', 'hello','geometry', 'pizza','ball' ]\n",
    "my_list.sort(key=len)\n",
    "print(my_list)\n",
    "print(my_list[1:3], my_list[:3], my_list[3:])\n",
    "\n",
    "# создайте новый список, состоящий из отсортированных первых пяти элементов произвольного списка чисел"
   ]
  },
  {
   "cell_type": "markdown",
   "id": "85c06157",
   "metadata": {},
   "source": [
    "### 1.2. Множество (set)\n",
    "Неупорядоченная коллекция *уникальных* элементов.\n",
    "\n",
    "`a={element_1, ..., element_n}`- создание множества;\n",
    "\n",
    "`a=set([element_1, ..., element_n])`- создание множества из списка;\n",
    "\n",
    "`a.add(element)` - добавление нового элемента в множество;\n",
    "\n",
    "`a.remove(element)` - удаление элемента из множества;\n",
    "\n",
    "Теоретико-множественные операции:\n",
    "\n",
    "`a.union(b)` - объединение множеств а и b;\n",
    "\n",
    "`a | b` - объединение множеств а и b;\n",
    "\n",
    "`a.intersection(b)` - пересечение множеств а и b;\n",
    "\n",
    "`a & b` - пересечение множеств а и b;"
   ]
  },
  {
   "cell_type": "code",
   "execution_count": 9,
   "id": "5877672f",
   "metadata": {
    "scrolled": true
   },
   "outputs": [
    {
     "data": {
      "text/plain": [
       "({3, 4, 6}, {0, 1, 2, 6})"
      ]
     },
     "execution_count": 9,
     "metadata": {},
     "output_type": "execute_result"
    }
   ],
   "source": [
    "set_1={3,6,3,4}\n",
    "set_2={6,0,1,2,2}\n",
    "set_1, set_2 # Обратите внимание  - в множествах все цифры встретилсь по 1 разу"
   ]
  },
  {
   "cell_type": "markdown",
   "id": "592b0b63",
   "metadata": {},
   "source": [
    "Обратиться к элементу множества по индексу нельзя. \n",
    "\n",
    "Если вам нужно обратиться к конкретному элементу, сначала преобразуйте множество в список:\n"
   ]
  },
  {
   "cell_type": "code",
   "execution_count": 10,
   "id": "79c158b0",
   "metadata": {
    "scrolled": true
   },
   "outputs": [
    {
     "ename": "TypeError",
     "evalue": "'set' object is not subscriptable",
     "output_type": "error",
     "traceback": [
      "\u001b[31m---------------------------------------------------------------------------\u001b[39m",
      "\u001b[31mTypeError\u001b[39m                                 Traceback (most recent call last)",
      "\u001b[36mCell\u001b[39m\u001b[36m \u001b[39m\u001b[32mIn[10]\u001b[39m\u001b[32m, line 1\u001b[39m\n\u001b[32m----> \u001b[39m\u001b[32m1\u001b[39m \u001b[43mset_1\u001b[49m\u001b[43m[\u001b[49m\u001b[32;43m0\u001b[39;49m\u001b[43m]\u001b[49m \u001b[38;5;66;03m# попробуем обратиться к элементу  множества по индексу\u001b[39;00m\n",
      "\u001b[31mTypeError\u001b[39m: 'set' object is not subscriptable"
     ]
    }
   ],
   "source": [
    "set_1[0] # попробуем обратиться к элементу  множества по индексу\n"
   ]
  },
  {
   "cell_type": "code",
   "execution_count": 11,
   "id": "7a5e9dce",
   "metadata": {},
   "outputs": [
    {
     "data": {
      "text/plain": [
       "3"
      ]
     },
     "execution_count": 11,
     "metadata": {},
     "output_type": "execute_result"
    }
   ],
   "source": [
    "list(set_1)[0]# преобразование множества в список"
   ]
  },
  {
   "cell_type": "markdown",
   "id": "96aedb0d",
   "metadata": {},
   "source": [
    "### 1.3. Словарь (dict)\n",
    "Это коллекция пар *ключ-значение* переменного размера.\n",
    "\n",
    "`a={key_1 : value_1, .., key_n: value_n}` - создание словаря\n",
    "\n",
    "*Ключами* могут быть только неизменяемые объекты, например, скалярные типы (int, float, str) или кортежи (про них - см. ниже).\n",
    "*Значениями* могут быть произвольные объекты.\n",
    "\n",
    "Методы  `keys()` и `values()` возвращают соответственно список ключей и список значений словаря.\n"
   ]
  },
  {
   "cell_type": "code",
   "execution_count": 12,
   "id": "7be1f269",
   "metadata": {
    "scrolled": false
   },
   "outputs": [
    {
     "name": "stdout",
     "output_type": "stream",
     "text": [
      "['Маша', 'Катя']\n",
      "Маша\n",
      "{'name': ['Маша', 'Катя'], 'age': [15, 14], 'score': [100, 96], 'eyes': ['grey', 'blue']}\n"
     ]
    }
   ],
   "source": [
    "my_dict={'name': ['Маша','Катя'], 'age':[15,14], 'score': [89,70]}\n",
    "print(my_dict['name']) # обращение к значению по ключу\n",
    "print(my_dict['name'][0])\n",
    "my_dict.update({'score':[100, 96], 'eyes': ['grey','blue']}) # модификация словаря inline\n",
    "print(my_dict)"
   ]
  },
  {
   "cell_type": "markdown",
   "id": "6a3fb872",
   "metadata": {},
   "source": [
    "Словарь можно рассматривать как коллекцию из двух последовательностей - ключей и значений. Попробуем создать словарь с помощью объединения последовательностей одинаковой длины:"
   ]
  },
  {
   "cell_type": "code",
   "execution_count": 13,
   "id": "17aedc98",
   "metadata": {},
   "outputs": [
    {
     "data": {
      "text/plain": [
       "{1: 5, 2: 4, 3: 3, 4: 2, 5: 1}"
      ]
     },
     "execution_count": 13,
     "metadata": {},
     "output_type": "execute_result"
    }
   ],
   "source": [
    "key_list=range(1,6)\n",
    "value_list=reversed(range(1,6))\n",
    "my_dict={} # создаем пустой словарь\n",
    "for key, value in zip(key_list, value_list): # про функцию zip будет ниже\n",
    "    my_dict[key]=value\n",
    "my_dict"
   ]
  },
  {
   "cell_type": "markdown",
   "id": "dc78701b",
   "metadata": {},
   "source": [
    "## 2. Неизменяемые последовательности\n",
    "### 2.1. Кортеж (tuple)\n",
    "\n",
    "Это одномерная неизменяемая последовательность фиксированной длины.\n",
    "\n",
    "`a=(element_1, ...element_n)` - создание кортежа;\n",
    "\n",
    "`a= element_1, ...element_n` - другой способ создания кортежа;\n",
    "\n",
    "`a[index]` - обращение к элементу кортежа;\n",
    "\n",
    "`a+b` - конкатенация кортежей а и b;\n",
    "\n",
    "`a*number` - конкатенация `number` копий кортежа a (так можно поступать и со списком)"
   ]
  },
  {
   "cell_type": "code",
   "execution_count": 14,
   "id": "fc7957eb",
   "metadata": {},
   "outputs": [
    {
     "data": {
      "text/plain": [
       "[4, 5]"
      ]
     },
     "execution_count": 14,
     "metadata": {},
     "output_type": "execute_result"
    }
   ],
   "source": [
    "tup=(1,2,3,[4,5],6)\n",
    "tup[3]"
   ]
  },
  {
   "cell_type": "code",
   "execution_count": 15,
   "id": "ea2a97cb",
   "metadata": {},
   "outputs": [
    {
     "ename": "TypeError",
     "evalue": "'tuple' object does not support item assignment",
     "output_type": "error",
     "traceback": [
      "\u001b[31m---------------------------------------------------------------------------\u001b[39m",
      "\u001b[31mTypeError\u001b[39m                                 Traceback (most recent call last)",
      "\u001b[36mCell\u001b[39m\u001b[36m \u001b[39m\u001b[32mIn[15]\u001b[39m\u001b[32m, line 2\u001b[39m\n\u001b[32m      1\u001b[39m \u001b[38;5;66;03m# убедимся, что кортеж нельзя изменять  - попробуем напрямую изменить 4-й элемент кортежа\u001b[39;00m\n\u001b[32m----> \u001b[39m\u001b[32m2\u001b[39m \u001b[43mtup\u001b[49m\u001b[43m[\u001b[49m\u001b[32;43m3\u001b[39;49m\u001b[43m]\u001b[49m=\u001b[32m9\u001b[39m\n",
      "\u001b[31mTypeError\u001b[39m: 'tuple' object does not support item assignment"
     ]
    }
   ],
   "source": [
    "# убедимся, что кортеж нельзя изменять  - попробуем напрямую изменить 4-й элемент кортежа\n",
    "tup[3]=9"
   ]
  },
  {
   "cell_type": "markdown",
   "id": "0db5b813",
   "metadata": {},
   "source": [
    "Полезным функционалом является возможность *распаковки* кортежей: при попытке присвоить изначение похожему на кортеж выражению, состоящему из нескольких переменных, интерпретатор пытается *распаковать*  значение в правой части оператора присваивания. \n",
    "\n",
    "Выше в 1.3. при создании словаря путем объединения последовательностей мы как раз воспользовались распаковкой кортежа.\n",
    "\n",
    "Другое распространенное применения распаковки - возврат нескольких значенией из функции"
   ]
  },
  {
   "cell_type": "code",
   "execution_count": 16,
   "id": "9b02a161",
   "metadata": {},
   "outputs": [
    {
     "data": {
      "text/plain": [
       "(4, 8)"
      ]
     },
     "execution_count": 16,
     "metadata": {},
     "output_type": "execute_result"
    }
   ],
   "source": [
    "def f(x):\n",
    "    a=x**2\n",
    "    b=x**3\n",
    "    return(a,b)\n",
    "\n",
    "square,cube=f(2)\n",
    "square,cube"
   ]
  },
  {
   "cell_type": "markdown",
   "id": "3747012f",
   "metadata": {},
   "source": [
    "# Встроенные функции последовательностей\n",
    "У последовательностей в Python есть несколько полезных функций. Рассмотрим некоторые.\n",
    "\n",
    "**enumerate()** - перенумерование элементов коллекции (такая функция в Python относится к *итераторам*). Функция возвращает номера элементов и значения элементов коллекции.\n",
    "\n",
    "`for i, value in enumerate(collection):\n",
    "    #действия над value`"
   ]
  },
  {
   "cell_type": "code",
   "execution_count": 17,
   "id": "ad2d6c03",
   "metadata": {},
   "outputs": [
    {
     "name": "stdout",
     "output_type": "stream",
     "text": [
      "11 5\n"
     ]
    }
   ],
   "source": [
    "# разберитесь, что происходит в этой ячейке и зачем потребовалась функция enumerate\n",
    "my_list=[1,4,8,1,2]\n",
    "summa_even=0\n",
    "summa_odd=0\n",
    "for item, value in enumerate(my_list):\n",
    "    if (item % 2==0):\n",
    "        summa_odd+=value\n",
    "    else: summa_even+=value\n",
    "print(summa_odd, summa_even)"
   ]
  },
  {
   "cell_type": "markdown",
   "id": "9f7cb32d",
   "metadata": {},
   "source": [
    "**zip()** - функция \"сшивает\" элементы нескольких последовательностей, создавая список кортежей. На вход принимает любое число аргументов, а число порождаемых ей кортежей определяется длиной самой короткой последовательности."
   ]
  },
  {
   "cell_type": "code",
   "execution_count": 18,
   "id": "db455a9a",
   "metadata": {},
   "outputs": [
    {
     "data": {
      "text/plain": [
       "[('один', 'one'), ('два', 'two'), ('три', 'three')]"
      ]
     },
     "execution_count": 18,
     "metadata": {},
     "output_type": "execute_result"
    }
   ],
   "source": [
    "ru=['один', 'два', 'три', 'четыре']\n",
    "eng=['one', 'two', 'three']\n",
    "zipped=zip(ru,eng)\n",
    "list(zipped)"
   ]
  },
  {
   "cell_type": "code",
   "execution_count": 19,
   "id": "9715f0fe",
   "metadata": {},
   "outputs": [
    {
     "data": {
      "image/png": "[encoded data removed]",
      "text/plain": [
       "<Figure size 640x480 with 1 Axes>"
      ]
     },
     "metadata": {},
     "output_type": "display_data"
    }
   ],
   "source": [
    "import matplotlib.pyplot as plt\n",
    "numbers=[1,2,3]\n",
    "colors=['blue', 'red', 'green']\n",
    "for num, col in zip(numbers, colors):\n",
    "    plt.axhline(y=num, color=col)# рисуем горизонтальную линию на высоте num цвета col"
   ]
  },
  {
   "cell_type": "markdown",
   "id": "44f3f857",
   "metadata": {},
   "source": [
    "# Работа с файлами"
   ]
  },
  {
   "cell_type": "markdown",
   "id": "62c8585c",
   "metadata": {},
   "source": [
    "`f=open(path)` - открытие файла, расположенного по пути `path` (по умолчанию - для чтения);\n",
    "\n",
    "`f.close()` - закрытие файла (делаем обязательно после работы с файлом, чтобы вернуть ресурсы операционной системы)\n",
    "#### Основные режимы открытия файлов \n",
    "| Режим | Описание |\n",
    "|:--- |:--- |\n",
    " | r | Режим чтения |\n",
    " | w | Режим записи. Создается новый файл (старый с тем же именем удаляется) |\n",
    " | a | Дописывание в конец существующего файла|\n",
    "  |r+ | Чтение и запись|\n",
    "  \n",
    "#### Чтение из файла\n",
    "`f.read(n)` - возвращает прочитанные из файла данные в виде строки. Необязательный аргумент `n` сообщает, сколько байтов читать;\n",
    "\n",
    "`f.readlines(n)` - возвращает список прочитанных из файла строк.Необязательный аргумент `n` сообщает, сколько строк читать;\n",
    "\n",
    "`f.write(str)` - записывает переданную строку в файл;\n",
    "\n",
    "`f.writelines(strings)` - записывает переданную последовательность строк в файл.\n",
    "\n",
    "\n"
   ]
  },
  {
   "cell_type": "code",
   "execution_count": 20,
   "id": "18da9cce",
   "metadata": {},
   "outputs": [
    {
     "data": {
      "text/plain": [
       "['Крокодилы жили в одно время с динозаврами.\\n',\n",
       " 'Крокодилы, как и аллигаторы, лягушки и черепахи пофвились 180 лет назад - еще до динозавров.\\n',\n",
       " 'В 2015 г. в Баварии нашли превосходно сохранившийся скелет доисторического крокодидла длиной 2,5 метра.\\n']"
      ]
     },
     "execution_count": 20,
     "metadata": {},
     "output_type": "execute_result"
    }
   ],
   "source": [
    "file1=open(\"example.txt\", 'r', encoding=\"utf8\")# используем кодировку \"utf8\" для русского текста\n",
    "lines=file1.readlines()\n",
    "file1.close()\n",
    "lines"
   ]
  },
  {
   "cell_type": "code",
   "execution_count": 21,
   "id": "c4623ad9",
   "metadata": {},
   "outputs": [
    {
     "data": {
      "text/plain": [
       "['Крокодилы жили в одно время с динозаврами.\\n',\n",
       " 'Крокодилы, как и аллигаторы, лягушки и черепахи появились 180 лет назад - еще до динозавров.\\n',\n",
       " 'В 2015 г. в Баварии нашли превосходно сохранившийся скелет доисторического крокодидла длиной 2,5 метра.\\n']"
      ]
     },
     "execution_count": 21,
     "metadata": {},
     "output_type": "execute_result"
    }
   ],
   "source": [
    "lines[1]=lines[1].replace('поф', 'поя')# исправляем опечатку во втором предложении\n",
    "# Добавьте код, чтобы исправить опечатку в последнем предложении\n",
    "lines"
   ]
  },
  {
   "cell_type": "code",
   "execution_count": 22,
   "id": "fc9cc50c",
   "metadata": {},
   "outputs": [],
   "source": [
    "file1=open(\"example.txt\", 'w', encoding=\"utf8\") \n",
    "file1.writelines(lines)# перезапишем в файл исправленный текст\n",
    "file1.close() # Откройте теперь файл в приложении Блокнот и убедитесь, что опечатки были исправлены"
   ]
  },
  {
   "cell_type": "markdown",
   "id": "065202ac",
   "metadata": {},
   "source": [
    "📌📌📌 **Задание**:\n",
    "\n",
    "Это задание выполняется по вариантам. \n",
    "\n",
    "**Варианты:**\n",
    "\n",
    "1. Скачайте файл `labs-var_1.txt`. Создайте словарь, в котором ключи - это предложения текста из файла, а значения - число символов в этом предложении (пробелы, знаки препинания и символ новой строки не учитывайте). Выведите словарь на экран.\n",
    "\n",
    "\n",
    "2. Создайте словарь с ключами `name`, `family_name`, `math`, `physics`, в котором поместите информацию об 1-2 студентах (имя, фамилия, оценка по математике, оценка по физике). Напишите пользовательскую функцию, которая добавляет данные на 1 нового студента в словарь. С помощью этой функции добавьте информацию еще о нескольких студентах. В текстовый файл `answer-lab2-var2.txt` запишите данные из словаря таким образом, чтобы на каждой строке через пробел помещались данные на 1 студента.\n",
    "\n",
    "\n",
    "3. Скачайте файл `labs-var_3.txt` и считайте оттуда данные в словарь, причем ключи словаря считайте из первой строки файла.  Значениями, соотвествующими i-му ключу, должны быть данные, находящиеся в файле в i-м столбце. Выведите словарь на экран.\n",
    "\n",
    "\n",
    "4. *** В рамках задания вы работаете только со словарями, значениями которого являются скалярные значения или непустые списки. Создайте функцию,  возвращающую список ключей словаря, которым соотвествуют числовые значения (или списки, содержащие только числа). Проверьте работоспособность функции на словаре\n",
    "\n",
    "    `my_dict={'name':['James', 'Igor', 'Jane', 'Bridgit'], 'age':[45, 22, 31, \"about 20\"], 'weight':[71, 65.25, 57, 55], 'group_number': 2}\n",
    "`\n",
    "    \n",
    "    Результат работы вашей функции запишите в файл `answer-lab2-var4.txt`"
   ]
  },
  {
   "cell_type": "code",
   "execution_count": null,
   "id": "f0c713f0",
   "metadata": {},
   "outputs": [],
   "source": [
    "### Ваш код\n",
    "import numbers\n",
    "\n",
    "my_dict={'name':['James', 'Igor', 'Jane', 'Bridgit'], 'age':[45, 22, 31, \"about 20\"], 'weight':[71, 65.25, 57, 55], 'group_number': 2}\n",
    "\n",
    "def fun_lab2(work_dict):\n",
    "    ans = \"\"\n",
    "    for key,value in work_dict.items():\n",
    "        if hasattr(value,\"__iter__\"): #if type(value)==list\n",
    "            if all(isinstance(val,numbers.Number)==True for val in value): #type(val)==float or type(val)==int or ...\n",
    "                ans+=key+\"\\n\"\n",
    "        else:\n",
    "            if isinstance(value,numbers.Number)==True:\n",
    "                ans+=key+\"\\n\"\n",
    "    f = open('answer-lab2-var4.txt','w')\n",
    "    f.write(ans)\n",
    "fun_lab2(my_dict)"
   ]
  },
  {
   "cell_type": "markdown",
   "id": "638a6f82",
   "metadata": {},
   "source": [
    "📌📌📌 **Дополнительное задание повышенной сложности** (для собственого развития, выполнять необязательно):\n",
    "\n",
    "В единственной строке записан текст. Для каждого слова из данного текста подсчитайте, сколько раз оно встречалось в этом тексте ранее.\n",
    "\n",
    "Словом считается последовательность непробельных символов идущих подряд, слова разделены одним или большим числом пробелов или символами конца строки."
   ]
  },
  {
   "cell_type": "code",
   "execution_count": 24,
   "id": "94efd9ff",
   "metadata": {},
   "outputs": [
    {
     "name": "stdout",
     "output_type": "stream",
     "text": [
      "{'один': 1, 'два': 2, 'один*': 1, 'один@': 1, 'python': 10}\n"
     ]
    }
   ],
   "source": [
    "### Ваш код\n",
    "def count_word(my_str):\n",
    "    string = str(my_str).strip()\n",
    "    words = string.replace(\"\\n\",\" \").lower().split(\" \")\n",
    "\n",
    "    for word in words:\n",
    "        word = word.strip()\n",
    "    while \"\" in words:\n",
    "        words.remove(\"\")\n",
    "    \n",
    "    ans = dict()\n",
    "\n",
    "    for word in words:\n",
    "        if word in ans.keys():\n",
    "            ans[word]+=1\n",
    "        else:\n",
    "            ans[word] = 1\n",
    "    print(ans)\n",
    "\n",
    "count_word(\"один \\n  \\n  два один* два один@ \"+\"python \"*10)"
   ]
  },
  {
   "cell_type": "code",
   "execution_count": null,
   "id": "09c57248",
   "metadata": {},
   "outputs": [],
   "source": []
  }
 ],
 "metadata": {
  "kernelspec": {
   "display_name": "data_science (3.13.5)",
   "language": "python",
   "name": "python3"
  },
  "language_info": {
   "codemirror_mode": {
    "name": "ipython",
    "version": 3
   },
   "file_extension": ".py",
   "mimetype": "text/x-python",
   "name": "python",
   "nbconvert_exporter": "python",
   "pygments_lexer": "ipython3",
   "version": "3.13.5"
  }
 },
 "nbformat": 4,
 "nbformat_minor": 5
}
