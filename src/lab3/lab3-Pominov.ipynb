{
 "cells": [
  {
   "cell_type": "markdown",
   "metadata": {},
   "source": [
    "# Лабораторная работа 3. Основы работы с библиотекой Pandas\n",
    "\n",
    "Скачайте в рабочую директорию файлы `country_statistics.csv` и `bikes.csv` - в них находятся данные, с которыми вы будете работать.\n",
    "\n",
    "Данная работа состоит из **трех** заданий. Они записаны в блокноте после символов 📌📌📌 . Для записи ответов используйте ячейки под заданиями, содержащие запись `# Ваш код`.\n",
    "\n",
    "При выполнении работы рекомендуется обращаться:\n",
    "\n",
    "- [к справке по Python 3](https://docs.python.org/3/tutorial/index.html),\n",
    "- к учебнику `У. Маккини. Python и анализ данных`\n",
    "- [к шпаргалке по Pandas на Harbr](https://habr.com/ru/company/ruvds/blog/494720/)"
   ]
  },
  {
   "cell_type": "markdown",
   "metadata": {},
   "source": [
    "![](https://filearmy.s3.amazonaws.com/2017/03/03/25b10be.jpg)\n",
    "\n",
    "Модуль Pandas предназначен для работы с данными, чем-то напоминающей работу в Excel. Данные хранятся в таблице с именованными колонками и пронумерованными строками.\n",
    "\n",
    "Две основные структуры данных в Pandas - *Series* и *DataFrame*.\n",
    "\n",
    "Для начала подключим модуль Pandas:"
   ]
  },
  {
   "cell_type": "code",
   "execution_count": 1,
   "metadata": {
    "collapsed": true
   },
   "outputs": [],
   "source": [
    "# Данная конструкция подключает модуль pandas  и позволяет обращаться \n",
    "# к его функциям через имя pd (при желании вы можете использовать и другое короткое имя, но pd - общеупотребимое ).\n",
    "import pandas as pd"
   ]
  },
  {
   "cell_type": "markdown",
   "metadata": {},
   "source": [
    "## 1. Объект Series \n",
    "\n",
    "**Series** - одномерные, похожий на массив объект, содержащий последовательность данных и ассоциированный с ними массив меток, который называется *индексом*.\n",
    "\n",
    "Простейший способ создать объект Series -  задать только массив данных:"
   ]
  },
  {
   "cell_type": "code",
   "execution_count": 2,
   "metadata": {
    "collapsed": true
   },
   "outputs": [
    {
     "data": {
      "text/plain": [
       "0    2.0\n",
       "1   -5.0\n",
       "2    7.8\n",
       "3    3.0\n",
       "dtype: float64"
      ]
     },
     "execution_count": 2,
     "metadata": {},
     "output_type": "execute_result"
    }
   ],
   "source": [
    "obj=pd.Series ([2,-5,7.8,3])\n",
    "obj"
   ]
  },
  {
   "cell_type": "markdown",
   "metadata": {},
   "source": [
    "В строковом представлении Series, отображаемом в интерактивном режиме, индекс находится слева, а значения справа. Поскольку мы не задали индекс для данных, то по умолчанию индекс задается как `range(n)`. \n",
    "\n",
    "Получить информацию о содержании и индексировании массива можно с помощью аттрибутов `values` и `index` соответственно:"
   ]
  },
  {
   "cell_type": "code",
   "execution_count": 3,
   "metadata": {
    "collapsed": true
   },
   "outputs": [
    {
     "name": "stdout",
     "output_type": "stream",
     "text": [
      "[ 2.  -5.   7.8  3. ]\n",
      "RangeIndex(start=0, stop=4, step=1)\n"
     ]
    }
   ],
   "source": [
    "print(obj.values)\n",
    "print(obj.index)"
   ]
  },
  {
   "cell_type": "markdown",
   "metadata": {},
   "source": [
    "Чтобы создать объект Series с индексом, индентифицирующим каждый элемент данных в соответсвии с некоторым смыслом, можно использовать в индексе  метки:"
   ]
  },
  {
   "cell_type": "code",
   "execution_count": 4,
   "metadata": {
    "collapsed": true
   },
   "outputs": [
    {
     "data": {
      "text/plain": [
       "left      25\n",
       "right     15\n",
       "top       20\n",
       "bottom    20\n",
       "dtype: int64"
      ]
     },
     "execution_count": 4,
     "metadata": {},
     "output_type": "execute_result"
    }
   ],
   "source": [
    "obj1=pd.Series([25,15,20,20], index=['left','right', 'top','bottom'])\n",
    "obj1"
   ]
  },
  {
   "cell_type": "markdown",
   "metadata": {},
   "source": [
    "Применение математических операций к объектам массива сохраняет связь с индексами:"
   ]
  },
  {
   "cell_type": "code",
   "execution_count": 5,
   "metadata": {
    "collapsed": true
   },
   "outputs": [
    {
     "data": {
      "text/plain": [
       "left      625\n",
       "right     225\n",
       "top       400\n",
       "bottom    400\n",
       "dtype: int64"
      ]
     },
     "execution_count": 5,
     "metadata": {},
     "output_type": "execute_result"
    }
   ],
   "source": [
    "obj1**2"
   ]
  },
  {
   "cell_type": "markdown",
   "metadata": {},
   "source": [
    "Объект Series можно представлять как упорядоченный словарь фиксированной длины, поскольку он отображает индекс на данные (как словарь отображает ключ на значение). Если имеется словарь Python, то из него можно создать объект Series:"
   ]
  },
  {
   "cell_type": "code",
   "execution_count": 6,
   "metadata": {
    "collapsed": true
   },
   "outputs": [
    {
     "data": {
      "text/plain": [
       "Oreo         23\n",
       "Choko pie    15\n",
       "Milka        30\n",
       "Mersi        40\n",
       "dtype: int64"
      ]
     },
     "execution_count": 6,
     "metadata": {},
     "output_type": "execute_result"
    }
   ],
   "source": [
    "my_dict={'Oreo': 23, 'Choko pie':15, 'Milka': 30, 'Mersi': 40}\n",
    "obj2=pd.Series(my_dict)\n",
    "obj2"
   ]
  },
  {
   "cell_type": "markdown",
   "metadata": {},
   "source": [
    "Если только часть словаря нужно перенесети в объект Series, то можно задать список ключей, значения по которым нужно занести в массив. И передать этот список как индексы:"
   ]
  },
  {
   "cell_type": "code",
   "execution_count": 7,
   "metadata": {
    "collapsed": true
   },
   "outputs": [
    {
     "data": {
      "text/plain": [
       "Oreo           23.0\n",
       "Choko pie      15.0\n",
       "Chupa-chups     NaN\n",
       "Mersi          40.0\n",
       "dtype: float64"
      ]
     },
     "execution_count": 7,
     "metadata": {},
     "output_type": "execute_result"
    }
   ],
   "source": [
    "inds=['Oreo', 'Choko pie', 'Chupa-chups', 'Mersi']\n",
    "obj3=pd.Series(my_dict, index=inds)\n",
    "obj3"
   ]
  },
  {
   "cell_type": "markdown",
   "metadata": {},
   "source": [
    "❓ Окуда в массисе `obj3` появилось значение NaN?"
   ]
  },
  {
   "cell_type": "markdown",
   "metadata": {},
   "source": [
    "**Отсутствующие значения** в Pandas обозначаются `NaN`. Для распознавания отсутсвующих данных в Pandas следует использовать фукцнии `isnull(obj)`  и `notnull(obj)`. Также у самих объектов Series есть встроенный метод `isnull()`."
   ]
  },
  {
   "cell_type": "code",
   "execution_count": 8,
   "metadata": {
    "collapsed": true
   },
   "outputs": [
    {
     "name": "stdout",
     "output_type": "stream",
     "text": [
      "Oreo           False\n",
      "Choko pie      False\n",
      "Chupa-chups     True\n",
      "Mersi          False\n",
      "dtype: bool\n",
      "Oreo            True\n",
      "Choko pie       True\n",
      "Chupa-chups    False\n",
      "Mersi           True\n",
      "dtype: bool\n",
      "Oreo           False\n",
      "Choko pie      False\n",
      "Chupa-chups     True\n",
      "Mersi          False\n",
      "dtype: bool\n"
     ]
    }
   ],
   "source": [
    "print(pd.isnull(obj3))\n",
    "print(pd.notnull(obj3))\n",
    "print(obj3.isnull())"
   ]
  },
  {
   "cell_type": "markdown",
   "metadata": {},
   "source": [
    "## 2. Объект DataFrame\n",
    "Объект DataFrame представляет собой табличную структуру данных, состоящую из упорядоченной коллекции столбцов, причем типы значений (числовой, строковый, булев и т.д.) в разных стобцах могут различаться. \n",
    "\n",
    "В объекте DataFrame хранятся два индекса: по строкам и по столбцам.  Можно считать, что это словарь объектов Series, имеющих общий индекс.\n",
    "\n",
    "Основные способы конструирования объекта DataFrame:\n",
    "- через словарь списков одинаковой длины или массивов NumPy (о них позже)\n",
    "- путем чтения таблиц из текстовых файлов с разделителями (`*.csv, *.txt`, и пр.) или электронных таблиц Excel."
   ]
  },
  {
   "cell_type": "markdown",
   "metadata": {},
   "source": [
    "### 2.1. Создание DataFrame внутренними средствами Python\n",
    "Создаем DataFrame из словаря:"
   ]
  },
  {
   "cell_type": "code",
   "execution_count": 9,
   "metadata": {
    "collapsed": true
   },
   "outputs": [
    {
     "data": {
      "text/html": [
       "<div>\n",
       "<style scoped>\n",
       "    .dataframe tbody tr th:only-of-type {\n",
       "        vertical-align: middle;\n",
       "    }\n",
       "\n",
       "    .dataframe tbody tr th {\n",
       "        vertical-align: top;\n",
       "    }\n",
       "\n",
       "    .dataframe thead th {\n",
       "        text-align: right;\n",
       "    }\n",
       "</style>\n",
       "<table border=\"1\" class=\"dataframe\">\n",
       "  <thead>\n",
       "    <tr style=\"text-align: right;\">\n",
       "      <th></th>\n",
       "      <th>state</th>\n",
       "      <th>year</th>\n",
       "      <th>pop</th>\n",
       "    </tr>\n",
       "  </thead>\n",
       "  <tbody>\n",
       "    <tr>\n",
       "      <th>0</th>\n",
       "      <td>Ohio</td>\n",
       "      <td>2000</td>\n",
       "      <td>1.5</td>\n",
       "    </tr>\n",
       "    <tr>\n",
       "      <th>1</th>\n",
       "      <td>Ohio</td>\n",
       "      <td>2001</td>\n",
       "      <td>1.7</td>\n",
       "    </tr>\n",
       "    <tr>\n",
       "      <th>2</th>\n",
       "      <td>Ohio</td>\n",
       "      <td>2002</td>\n",
       "      <td>3.6</td>\n",
       "    </tr>\n",
       "    <tr>\n",
       "      <th>3</th>\n",
       "      <td>Nevada</td>\n",
       "      <td>2001</td>\n",
       "      <td>2.4</td>\n",
       "    </tr>\n",
       "    <tr>\n",
       "      <th>4</th>\n",
       "      <td>Nevada</td>\n",
       "      <td>2002</td>\n",
       "      <td>2.9</td>\n",
       "    </tr>\n",
       "    <tr>\n",
       "      <th>5</th>\n",
       "      <td>Nevada</td>\n",
       "      <td>2003</td>\n",
       "      <td>3.2</td>\n",
       "    </tr>\n",
       "  </tbody>\n",
       "</table>\n",
       "</div>"
      ],
      "text/plain": [
       "    state  year  pop\n",
       "0    Ohio  2000  1.5\n",
       "1    Ohio  2001  1.7\n",
       "2    Ohio  2002  3.6\n",
       "3  Nevada  2001  2.4\n",
       "4  Nevada  2002  2.9\n",
       "5  Nevada  2003  3.2"
      ]
     },
     "execution_count": 9,
     "metadata": {},
     "output_type": "execute_result"
    }
   ],
   "source": [
    "my_dict={'state':['Ohio','Ohio','Ohio','Nevada', 'Nevada','Nevada'], \n",
    "          'year':[2000, 2001, 2002, 2001, 2002, 2003],\n",
    "          'pop': [1.5, 1.7, 3.6, 2.4, 2.9, 3.2]} # словарь, все значения которого - списки\n",
    "df=pd.DataFrame(my_dict) # создание объекта DataFrame из словаря. Ключи становятся столбцами\n",
    "df"
   ]
  },
  {
   "cell_type": "markdown",
   "metadata": {},
   "source": [
    "Индекс назначается автоматически как  `range(число_строк)`.\n",
    "Если есть желание назначить другой индекс или изменить расположение столбцов по порядку, это можно указать при создании DataFrame:"
   ]
  },
  {
   "cell_type": "code",
   "execution_count": 10,
   "metadata": {
    "collapsed": true
   },
   "outputs": [
    {
     "data": {
      "text/html": [
       "<div>\n",
       "<style scoped>\n",
       "    .dataframe tbody tr th:only-of-type {\n",
       "        vertical-align: middle;\n",
       "    }\n",
       "\n",
       "    .dataframe tbody tr th {\n",
       "        vertical-align: top;\n",
       "    }\n",
       "\n",
       "    .dataframe thead th {\n",
       "        text-align: right;\n",
       "    }\n",
       "</style>\n",
       "<table border=\"1\" class=\"dataframe\">\n",
       "  <thead>\n",
       "    <tr style=\"text-align: right;\">\n",
       "      <th></th>\n",
       "      <th>year</th>\n",
       "      <th>state</th>\n",
       "      <th>pop</th>\n",
       "    </tr>\n",
       "  </thead>\n",
       "  <tbody>\n",
       "    <tr>\n",
       "      <th>one</th>\n",
       "      <td>2000</td>\n",
       "      <td>Ohio</td>\n",
       "      <td>1.5</td>\n",
       "    </tr>\n",
       "    <tr>\n",
       "      <th>two</th>\n",
       "      <td>2001</td>\n",
       "      <td>Ohio</td>\n",
       "      <td>1.7</td>\n",
       "    </tr>\n",
       "    <tr>\n",
       "      <th>three</th>\n",
       "      <td>2002</td>\n",
       "      <td>Ohio</td>\n",
       "      <td>3.6</td>\n",
       "    </tr>\n",
       "    <tr>\n",
       "      <th>four</th>\n",
       "      <td>2001</td>\n",
       "      <td>Nevada</td>\n",
       "      <td>2.4</td>\n",
       "    </tr>\n",
       "    <tr>\n",
       "      <th>five</th>\n",
       "      <td>2002</td>\n",
       "      <td>Nevada</td>\n",
       "      <td>2.9</td>\n",
       "    </tr>\n",
       "    <tr>\n",
       "      <th>six</th>\n",
       "      <td>2003</td>\n",
       "      <td>Nevada</td>\n",
       "      <td>3.2</td>\n",
       "    </tr>\n",
       "  </tbody>\n",
       "</table>\n",
       "</div>"
      ],
      "text/plain": [
       "       year   state  pop\n",
       "one    2000    Ohio  1.5\n",
       "two    2001    Ohio  1.7\n",
       "three  2002    Ohio  3.6\n",
       "four   2001  Nevada  2.4\n",
       "five   2002  Nevada  2.9\n",
       "six    2003  Nevada  3.2"
      ]
     },
     "execution_count": 10,
     "metadata": {},
     "output_type": "execute_result"
    }
   ],
   "source": [
    "df2=pd.DataFrame(my_dict, columns=['year', 'state', 'pop'], \n",
    "                 index=['one', 'two','three', 'four', 'five', 'six'])\n",
    "df2"
   ]
  },
  {
   "cell_type": "markdown",
   "metadata": {},
   "source": [
    "Вывод первых  (последних) `n` строк таблицы осуществляется с помощью методов `head(n)` (`tail(n)`). По умолчанию `n=5`."
   ]
  },
  {
   "cell_type": "code",
   "execution_count": 11,
   "metadata": {
    "collapsed": true
   },
   "outputs": [
    {
     "data": {
      "text/html": [
       "<div>\n",
       "<style scoped>\n",
       "    .dataframe tbody tr th:only-of-type {\n",
       "        vertical-align: middle;\n",
       "    }\n",
       "\n",
       "    .dataframe tbody tr th {\n",
       "        vertical-align: top;\n",
       "    }\n",
       "\n",
       "    .dataframe thead th {\n",
       "        text-align: right;\n",
       "    }\n",
       "</style>\n",
       "<table border=\"1\" class=\"dataframe\">\n",
       "  <thead>\n",
       "    <tr style=\"text-align: right;\">\n",
       "      <th></th>\n",
       "      <th>year</th>\n",
       "      <th>state</th>\n",
       "      <th>pop</th>\n",
       "    </tr>\n",
       "  </thead>\n",
       "  <tbody>\n",
       "    <tr>\n",
       "      <th>one</th>\n",
       "      <td>2000</td>\n",
       "      <td>Ohio</td>\n",
       "      <td>1.5</td>\n",
       "    </tr>\n",
       "    <tr>\n",
       "      <th>two</th>\n",
       "      <td>2001</td>\n",
       "      <td>Ohio</td>\n",
       "      <td>1.7</td>\n",
       "    </tr>\n",
       "    <tr>\n",
       "      <th>three</th>\n",
       "      <td>2002</td>\n",
       "      <td>Ohio</td>\n",
       "      <td>3.6</td>\n",
       "    </tr>\n",
       "    <tr>\n",
       "      <th>four</th>\n",
       "      <td>2001</td>\n",
       "      <td>Nevada</td>\n",
       "      <td>2.4</td>\n",
       "    </tr>\n",
       "    <tr>\n",
       "      <th>five</th>\n",
       "      <td>2002</td>\n",
       "      <td>Nevada</td>\n",
       "      <td>2.9</td>\n",
       "    </tr>\n",
       "  </tbody>\n",
       "</table>\n",
       "</div>"
      ],
      "text/plain": [
       "       year   state  pop\n",
       "one    2000    Ohio  1.5\n",
       "two    2001    Ohio  1.7\n",
       "three  2002    Ohio  3.6\n",
       "four   2001  Nevada  2.4\n",
       "five   2002  Nevada  2.9"
      ]
     },
     "execution_count": 11,
     "metadata": {},
     "output_type": "execute_result"
    }
   ],
   "source": [
    "df2.head()"
   ]
  },
  {
   "cell_type": "markdown",
   "metadata": {},
   "source": [
    "Размер таблицы данных (число строк - число столбцов):"
   ]
  },
  {
   "cell_type": "code",
   "execution_count": 12,
   "metadata": {
    "collapsed": true
   },
   "outputs": [
    {
     "data": {
      "text/plain": [
       "(6, 3)"
      ]
     },
     "execution_count": 12,
     "metadata": {},
     "output_type": "execute_result"
    }
   ],
   "source": [
    "df2.shape"
   ]
  },
  {
   "cell_type": "markdown",
   "metadata": {},
   "source": [
    "Можно вывести названия всех столбцов:"
   ]
  },
  {
   "cell_type": "code",
   "execution_count": 13,
   "metadata": {
    "collapsed": true
   },
   "outputs": [
    {
     "data": {
      "text/plain": [
       "Index(['year', 'state', 'pop'], dtype='object')"
      ]
     },
     "execution_count": 13,
     "metadata": {},
     "output_type": "execute_result"
    }
   ],
   "source": [
    "df2.columns"
   ]
  },
  {
   "cell_type": "markdown",
   "metadata": {},
   "source": [
    "Краткое описание таблицы можно вывести так:"
   ]
  },
  {
   "cell_type": "code",
   "execution_count": 14,
   "metadata": {
    "collapsed": true
   },
   "outputs": [
    {
     "name": "stdout",
     "output_type": "stream",
     "text": [
      "<class 'pandas.core.frame.DataFrame'>\n",
      "Index: 6 entries, one to six\n",
      "Data columns (total 3 columns):\n",
      " #   Column  Non-Null Count  Dtype  \n",
      "---  ------  --------------  -----  \n",
      " 0   year    6 non-null      int64  \n",
      " 1   state   6 non-null      object \n",
      " 2   pop     6 non-null      float64\n",
      "dtypes: float64(1), int64(1), object(1)\n",
      "memory usage: 192.0+ bytes\n"
     ]
    }
   ],
   "source": [
    "df2.info()"
   ]
  },
  {
   "cell_type": "markdown",
   "metadata": {},
   "source": [
    "### 2.2. Базовый функционал DataFrame\n",
    "#### 2.2.1. Обращение к элементам Dataframe, фильтрация, срезы"
   ]
  },
  {
   "cell_type": "markdown",
   "metadata": {},
   "source": [
    "**Столбец** DataFrame можно извлечь как объект Series:"
   ]
  },
  {
   "cell_type": "code",
   "execution_count": 15,
   "metadata": {
    "collapsed": true
   },
   "outputs": [
    {
     "name": "stdout",
     "output_type": "stream",
     "text": [
      "0    2000\n",
      "1    2001\n",
      "2    2002\n",
      "3    2001\n",
      "4    2002\n",
      "5    2003\n",
      "Name: year, dtype: int64\n",
      "0      Ohio\n",
      "1      Ohio\n",
      "2      Ohio\n",
      "3    Nevada\n",
      "4    Nevada\n",
      "5    Nevada\n",
      "Name: state, dtype: object\n"
     ]
    }
   ],
   "source": [
    "print(df['year'])\n",
    "print(df.state)# такой способ не сработает, если называние столбца содержит пробелы"
   ]
  },
  {
   "cell_type": "markdown",
   "metadata": {},
   "source": [
    "Чтобы извлечь несколько столбцов, нужно в квадратных скобках `[]` передать **список** названий столбцов:"
   ]
  },
  {
   "cell_type": "code",
   "execution_count": 16,
   "metadata": {
    "collapsed": true
   },
   "outputs": [
    {
     "data": {
      "text/html": [
       "<div>\n",
       "<style scoped>\n",
       "    .dataframe tbody tr th:only-of-type {\n",
       "        vertical-align: middle;\n",
       "    }\n",
       "\n",
       "    .dataframe tbody tr th {\n",
       "        vertical-align: top;\n",
       "    }\n",
       "\n",
       "    .dataframe thead th {\n",
       "        text-align: right;\n",
       "    }\n",
       "</style>\n",
       "<table border=\"1\" class=\"dataframe\">\n",
       "  <thead>\n",
       "    <tr style=\"text-align: right;\">\n",
       "      <th></th>\n",
       "      <th>state</th>\n",
       "      <th>year</th>\n",
       "    </tr>\n",
       "  </thead>\n",
       "  <tbody>\n",
       "    <tr>\n",
       "      <th>0</th>\n",
       "      <td>Ohio</td>\n",
       "      <td>2000</td>\n",
       "    </tr>\n",
       "    <tr>\n",
       "      <th>1</th>\n",
       "      <td>Ohio</td>\n",
       "      <td>2001</td>\n",
       "    </tr>\n",
       "    <tr>\n",
       "      <th>2</th>\n",
       "      <td>Ohio</td>\n",
       "      <td>2002</td>\n",
       "    </tr>\n",
       "    <tr>\n",
       "      <th>3</th>\n",
       "      <td>Nevada</td>\n",
       "      <td>2001</td>\n",
       "    </tr>\n",
       "    <tr>\n",
       "      <th>4</th>\n",
       "      <td>Nevada</td>\n",
       "      <td>2002</td>\n",
       "    </tr>\n",
       "    <tr>\n",
       "      <th>5</th>\n",
       "      <td>Nevada</td>\n",
       "      <td>2003</td>\n",
       "    </tr>\n",
       "  </tbody>\n",
       "</table>\n",
       "</div>"
      ],
      "text/plain": [
       "    state  year\n",
       "0    Ohio  2000\n",
       "1    Ohio  2001\n",
       "2    Ohio  2002\n",
       "3  Nevada  2001\n",
       "4  Nevada  2002\n",
       "5  Nevada  2003"
      ]
     },
     "execution_count": 16,
     "metadata": {},
     "output_type": "execute_result"
    }
   ],
   "source": [
    "df[['state', 'year']]"
   ]
  },
  {
   "cell_type": "markdown",
   "metadata": {},
   "source": [
    "Доступ к **строкам** по индексу:"
   ]
  },
  {
   "cell_type": "code",
   "execution_count": 17,
   "metadata": {
    "collapsed": true
   },
   "outputs": [
    {
     "data": {
      "text/html": [
       "<div>\n",
       "<style scoped>\n",
       "    .dataframe tbody tr th:only-of-type {\n",
       "        vertical-align: middle;\n",
       "    }\n",
       "\n",
       "    .dataframe tbody tr th {\n",
       "        vertical-align: top;\n",
       "    }\n",
       "\n",
       "    .dataframe thead th {\n",
       "        text-align: right;\n",
       "    }\n",
       "</style>\n",
       "<table border=\"1\" class=\"dataframe\">\n",
       "  <thead>\n",
       "    <tr style=\"text-align: right;\">\n",
       "      <th></th>\n",
       "      <th>state</th>\n",
       "      <th>year</th>\n",
       "      <th>pop</th>\n",
       "    </tr>\n",
       "  </thead>\n",
       "  <tbody>\n",
       "    <tr>\n",
       "      <th>2</th>\n",
       "      <td>Ohio</td>\n",
       "      <td>2002</td>\n",
       "      <td>3.6</td>\n",
       "    </tr>\n",
       "    <tr>\n",
       "      <th>3</th>\n",
       "      <td>Nevada</td>\n",
       "      <td>2001</td>\n",
       "      <td>2.4</td>\n",
       "    </tr>\n",
       "  </tbody>\n",
       "</table>\n",
       "</div>"
      ],
      "text/plain": [
       "    state  year  pop\n",
       "2    Ohio  2002  3.6\n",
       "3  Nevada  2001  2.4"
      ]
     },
     "execution_count": 17,
     "metadata": {},
     "output_type": "execute_result"
    }
   ],
   "source": [
    "df[2:4]"
   ]
  },
  {
   "cell_type": "markdown",
   "metadata": {},
   "source": [
    "Доступ  к строкам по условиям:"
   ]
  },
  {
   "cell_type": "code",
   "execution_count": 18,
   "metadata": {
    "collapsed": true
   },
   "outputs": [
    {
     "name": "stdout",
     "output_type": "stream",
     "text": [
      "    state  year  pop\n",
      "1    Ohio  2001  1.7\n",
      "2    Ohio  2002  3.6\n",
      "3  Nevada  2001  2.4\n",
      "4  Nevada  2002  2.9\n",
      "5  Nevada  2003  3.2\n"
     ]
    }
   ],
   "source": [
    "print(df[df.year>2000])"
   ]
  },
  {
   "cell_type": "markdown",
   "metadata": {},
   "source": [
    "Иногда бывает нужно вывести строки с фиксированными значениями нескольких полей. В таких случаях можно воспользоваться логикой, аналогичной той, что использовалась в конструкции `if`.\n",
    "\n",
    "Для проверки нескольких условий в `if` мы писали конструкции вроде такой:"
   ]
  },
  {
   "cell_type": "code",
   "execution_count": 19,
   "metadata": {
    "collapsed": true
   },
   "outputs": [
    {
     "name": "stdout",
     "output_type": "stream",
     "text": [
      "ok\n"
     ]
    }
   ],
   "source": [
    "if 1 > 0 and 10 <= 11:\n",
    "    print('ok')"
   ]
  },
  {
   "cell_type": "markdown",
   "metadata": {},
   "source": [
    "Аналогичную конструкцию можно вписать в квадратных скобках `[]` для умной индексации в `pandas`:"
   ]
  },
  {
   "cell_type": "code",
   "execution_count": 20,
   "metadata": {
    "collapsed": true
   },
   "outputs": [
    {
     "data": {
      "text/html": [
       "<div>\n",
       "<style scoped>\n",
       "    .dataframe tbody tr th:only-of-type {\n",
       "        vertical-align: middle;\n",
       "    }\n",
       "\n",
       "    .dataframe tbody tr th {\n",
       "        vertical-align: top;\n",
       "    }\n",
       "\n",
       "    .dataframe thead th {\n",
       "        text-align: right;\n",
       "    }\n",
       "</style>\n",
       "<table border=\"1\" class=\"dataframe\">\n",
       "  <thead>\n",
       "    <tr style=\"text-align: right;\">\n",
       "      <th></th>\n",
       "      <th>state</th>\n",
       "      <th>year</th>\n",
       "      <th>pop</th>\n",
       "    </tr>\n",
       "  </thead>\n",
       "  <tbody>\n",
       "    <tr>\n",
       "      <th>1</th>\n",
       "      <td>Ohio</td>\n",
       "      <td>2001</td>\n",
       "      <td>1.7</td>\n",
       "    </tr>\n",
       "    <tr>\n",
       "      <th>3</th>\n",
       "      <td>Nevada</td>\n",
       "      <td>2001</td>\n",
       "      <td>2.4</td>\n",
       "    </tr>\n",
       "    <tr>\n",
       "      <th>4</th>\n",
       "      <td>Nevada</td>\n",
       "      <td>2002</td>\n",
       "      <td>2.9</td>\n",
       "    </tr>\n",
       "  </tbody>\n",
       "</table>\n",
       "</div>"
      ],
      "text/plain": [
       "    state  year  pop\n",
       "1    Ohio  2001  1.7\n",
       "3  Nevada  2001  2.4\n",
       "4  Nevada  2002  2.9"
      ]
     },
     "execution_count": 20,
     "metadata": {},
     "output_type": "execute_result"
    }
   ],
   "source": [
    "df[(df['year'] > 2000) & (df['pop'] <3)]"
   ]
  },
  {
   "cell_type": "markdown",
   "metadata": {},
   "source": [
    "Важные отличия от `if`:\n",
    "- оператор `and` заменяется на символ `&`\n",
    "- оператор `or` заменяется на символ `|`\n",
    "- оператор `not` заменяется на символ `~`\n",
    "- каждое условие надо оборачивать в круглые скобки `()`"
   ]
  },
  {
   "cell_type": "markdown",
   "metadata": {},
   "source": [
    "**Обратиться к отдельному элементу или сделать срез данных** можно с помощью методов `loc` и `iloc`. Они позволяют выбрать подмножество строк и столбцов, используя либо метки строк (`loc`), либо целые числа (`iloc`).\n",
    "[Подробнее о различиях между loc и iloc](https://towardsdatascience.com/how-to-use-loc-and-iloc-for-selecting-data-in-pandas-bd09cb4c3d79#:~:text=The%20main%20distinction%20between%20loc,0%2Dbased%20integer%20position)"
   ]
  },
  {
   "cell_type": "code",
   "execution_count": 21,
   "metadata": {
    "collapsed": true
   },
   "outputs": [
    {
     "data": {
      "text/plain": [
       "state    Ohio\n",
       "year     2001\n",
       "Name: two, dtype: object"
      ]
     },
     "execution_count": 21,
     "metadata": {},
     "output_type": "execute_result"
    }
   ],
   "source": [
    "df2.loc[ 'two',['state','year'] ] # метка строки, метки столбцов"
   ]
  },
  {
   "cell_type": "code",
   "execution_count": 22,
   "metadata": {
    "collapsed": true
   },
   "outputs": [
    {
     "data": {
      "text/plain": [
       "three    2002\n",
       "four     2001\n",
       "five     2002\n",
       "six      2003\n",
       "Name: year, dtype: int64"
      ]
     },
     "execution_count": 22,
     "metadata": {},
     "output_type": "execute_result"
    }
   ],
   "source": [
    "df2.iloc[2:, 0 ]  # номера строк, номер столбца"
   ]
  },
  {
   "cell_type": "code",
   "execution_count": 23,
   "metadata": {
    "collapsed": true
   },
   "outputs": [
    {
     "data": {
      "text/plain": [
       "four    2001\n",
       "five    2002\n",
       "six     2003\n",
       "Name: year, dtype: int64"
      ]
     },
     "execution_count": 23,
     "metadata": {},
     "output_type": "execute_result"
    }
   ],
   "source": [
    "df2.iloc[:,0][df2.state=='Nevada']"
   ]
  },
  {
   "cell_type": "markdown",
   "metadata": {},
   "source": [
    "#### 2.2.2. Арифметические операции\n",
    "Между объектами Series и DataFrame можно производить арифметические операции. При этом операции производятся поэлементно над элементами с одинаковыми индексами."
   ]
  },
  {
   "cell_type": "code",
   "execution_count": 24,
   "metadata": {
    "collapsed": true
   },
   "outputs": [
    {
     "data": {
      "text/plain": [
       "0    11\n",
       "1    14\n",
       "2    31\n",
       "dtype: int64"
      ]
     },
     "execution_count": 24,
     "metadata": {},
     "output_type": "execute_result"
    }
   ],
   "source": [
    "df1=pd.DataFrame(data={\"city\":['Krasnoyarsk', 'Kansk', 'Achinsk'], \"june\":[190, 102, 98], \"july\":[179, 88, 67]})\n",
    "df2=pd.DataFrame(data={\"city\":['Krasnoyarsk', 'Kansk', 'Achinsk'], \"june\":[185, 112, 81], \"july\":[223, 83, 91]}, index=[1,2,3])\n",
    "df1['june']-df1['july']# разность между двумя столбцами\n",
    "# попробуйте и другие арифметические операции над столбцами - сложение, умножение, деление, возведение в степень (pow)"
   ]
  },
  {
   "cell_type": "code",
   "execution_count": 25,
   "metadata": {
    "collapsed": true
   },
   "outputs": [
    {
     "data": {
      "text/html": [
       "<div>\n",
       "<style scoped>\n",
       "    .dataframe tbody tr th:only-of-type {\n",
       "        vertical-align: middle;\n",
       "    }\n",
       "\n",
       "    .dataframe tbody tr th {\n",
       "        vertical-align: top;\n",
       "    }\n",
       "\n",
       "    .dataframe thead th {\n",
       "        text-align: right;\n",
       "    }\n",
       "</style>\n",
       "<table border=\"1\" class=\"dataframe\">\n",
       "  <thead>\n",
       "    <tr style=\"text-align: right;\">\n",
       "      <th></th>\n",
       "      <th>city</th>\n",
       "      <th>june</th>\n",
       "      <th>july</th>\n",
       "    </tr>\n",
       "  </thead>\n",
       "  <tbody>\n",
       "    <tr>\n",
       "      <th>0</th>\n",
       "      <td>NaN</td>\n",
       "      <td>NaN</td>\n",
       "      <td>NaN</td>\n",
       "    </tr>\n",
       "    <tr>\n",
       "      <th>1</th>\n",
       "      <td>KanskKrasnoyarsk</td>\n",
       "      <td>287.0</td>\n",
       "      <td>311.0</td>\n",
       "    </tr>\n",
       "    <tr>\n",
       "      <th>2</th>\n",
       "      <td>AchinskKansk</td>\n",
       "      <td>210.0</td>\n",
       "      <td>150.0</td>\n",
       "    </tr>\n",
       "    <tr>\n",
       "      <th>3</th>\n",
       "      <td>NaN</td>\n",
       "      <td>NaN</td>\n",
       "      <td>NaN</td>\n",
       "    </tr>\n",
       "  </tbody>\n",
       "</table>\n",
       "</div>"
      ],
      "text/plain": [
       "               city   june   july\n",
       "0               NaN    NaN    NaN\n",
       "1  KanskKrasnoyarsk  287.0  311.0\n",
       "2      AchinskKansk  210.0  150.0\n",
       "3               NaN    NaN    NaN"
      ]
     },
     "execution_count": 25,
     "metadata": {},
     "output_type": "execute_result"
    }
   ],
   "source": [
    "df1+df2"
   ]
  },
  {
   "cell_type": "markdown",
   "metadata": {},
   "source": [
    "❓ Почему в результате сложения `df1` и `df2` часть элементов результирующего датафрейма оказалась `NaN`? Что случилось с названиями городов? "
   ]
  },
  {
   "cell_type": "markdown",
   "metadata": {},
   "source": [
    "#### 2.2.3 Копирование объектов Pandas\n",
    "\n",
    "1. В Python операция присваивания создает **ссылку** на объект, стоящий справа, поэтому если после выполнения такого кода:\n",
    "\n",
    "        df1=pd.Dataframe(my_dict)\n",
    "        df2=df1\n",
    "    \n",
    "    вы решите изменить `df2`, например, то те же самые изменения произойдут и с `df1`, потому что и та, и другая переменная ссылаются на один и тот же объект.\n",
    "    \n",
    "2. При выполнениее кода\n",
    "        `object_new=object.copy(deep=True)` \n",
    "    (параметр `deep` равен `True` по умолчанию) происходит создание нового **объекта** и копирование в него индексов и содержания исходного объекта `object`."
   ]
  },
  {
   "cell_type": "code",
   "execution_count": 26,
   "metadata": {
    "collapsed": true
   },
   "outputs": [],
   "source": [
    "s = pd.Series([1, 2], index=[\"a\", \"b\"])\n",
    "deep = s.copy()\n",
    "shallow = s\n",
    "## Добавьте свой код - измените каким-то образом s и проверьте, что при этом происходит с deep и shallow\n"
   ]
  },
  {
   "cell_type": "markdown",
   "metadata": {},
   "source": [
    "#### 2.2.4 Комбинирование датафреймов:\n",
    "1. Конкатенация (`pd.concat()`)\n",
    "    - **вертикальная**. Такая конкатенация возможна, если имеются два датафрейма с одинаковыми столбцами;\n",
    "    - **горизонтальная**. Такая конкатенация возможна, если у датафреймов одинаковое число строк и одинаковые индексы\n",
    "2. Слияние (`pd.merge()`) - соединение строк по одному или нескольким ключам (как в sql)\n",
    "    - в работе рассмотрим только внутреннее соединение `inner`, которое применяеся по умолчанию: в результирующий объект попадают только ключи, присутсвующие в обоих объектах-аргументах. \n",
    "    \n",
    "    Про альтернативные типы соединений (`left`, `right`, `outer`) при необходимости прочтите в книге `У. Маккини. Python и анализ данных, п. 8.2`\n"
   ]
  },
  {
   "cell_type": "code",
   "execution_count": 27,
   "metadata": {
    "collapsed": true
   },
   "outputs": [],
   "source": [
    "df1 = pd.DataFrame({\n",
    "    'name': ['A', 'B', 'C', 'D'],\n",
    "    'math': [60,89,82,70],\n",
    "    'physics': [66,95,83,66],\n",
    "    'chemistry': [61,91,77,70]\n",
    "})\n",
    "df2 = pd.DataFrame({\n",
    "    'name': ['E', 'F', 'G', 'H'],\n",
    "    'math': [66,95,83,66],\n",
    "    'physics': [60,89,66,95],\n",
    "    'chemistry': [90,81,78,90]\n",
    "})"
   ]
  },
  {
   "cell_type": "code",
   "execution_count": 28,
   "metadata": {
    "collapsed": true
   },
   "outputs": [],
   "source": [
    "df3=pd.concat([df1,df2])# вертикальная конкатенация. Обратите внимание, индексы остались исходными"
   ]
  },
  {
   "cell_type": "code",
   "execution_count": 29,
   "metadata": {
    "collapsed": true
   },
   "outputs": [
    {
     "data": {
      "text/html": [
       "<div>\n",
       "<style scoped>\n",
       "    .dataframe tbody tr th:only-of-type {\n",
       "        vertical-align: middle;\n",
       "    }\n",
       "\n",
       "    .dataframe tbody tr th {\n",
       "        vertical-align: top;\n",
       "    }\n",
       "\n",
       "    .dataframe thead th {\n",
       "        text-align: right;\n",
       "    }\n",
       "</style>\n",
       "<table border=\"1\" class=\"dataframe\">\n",
       "  <thead>\n",
       "    <tr style=\"text-align: right;\">\n",
       "      <th></th>\n",
       "      <th>name</th>\n",
       "      <th>math</th>\n",
       "      <th>physics</th>\n",
       "      <th>chemistry</th>\n",
       "    </tr>\n",
       "  </thead>\n",
       "  <tbody>\n",
       "    <tr>\n",
       "      <th>0</th>\n",
       "      <td>A</td>\n",
       "      <td>60</td>\n",
       "      <td>66</td>\n",
       "      <td>61</td>\n",
       "    </tr>\n",
       "    <tr>\n",
       "      <th>0</th>\n",
       "      <td>E</td>\n",
       "      <td>66</td>\n",
       "      <td>60</td>\n",
       "      <td>90</td>\n",
       "    </tr>\n",
       "  </tbody>\n",
       "</table>\n",
       "</div>"
      ],
      "text/plain": [
       "  name  math  physics  chemistry\n",
       "0    A    60       66         61\n",
       "0    E    66       60         90"
      ]
     },
     "execution_count": 29,
     "metadata": {},
     "output_type": "execute_result"
    }
   ],
   "source": [
    "df3.loc[0]# в результате две строки имеют одинаковый индекс"
   ]
  },
  {
   "cell_type": "code",
   "execution_count": 30,
   "metadata": {
    "collapsed": true
   },
   "outputs": [
    {
     "data": {
      "text/html": [
       "<div>\n",
       "<style scoped>\n",
       "    .dataframe tbody tr th:only-of-type {\n",
       "        vertical-align: middle;\n",
       "    }\n",
       "\n",
       "    .dataframe tbody tr th {\n",
       "        vertical-align: top;\n",
       "    }\n",
       "\n",
       "    .dataframe thead th {\n",
       "        text-align: right;\n",
       "    }\n",
       "</style>\n",
       "<table border=\"1\" class=\"dataframe\">\n",
       "  <thead>\n",
       "    <tr style=\"text-align: right;\">\n",
       "      <th></th>\n",
       "      <th>name</th>\n",
       "      <th>math</th>\n",
       "      <th>physics</th>\n",
       "      <th>chemistry</th>\n",
       "    </tr>\n",
       "  </thead>\n",
       "  <tbody>\n",
       "    <tr>\n",
       "      <th>0</th>\n",
       "      <td>A</td>\n",
       "      <td>60</td>\n",
       "      <td>66</td>\n",
       "      <td>61</td>\n",
       "    </tr>\n",
       "    <tr>\n",
       "      <th>1</th>\n",
       "      <td>B</td>\n",
       "      <td>89</td>\n",
       "      <td>95</td>\n",
       "      <td>91</td>\n",
       "    </tr>\n",
       "    <tr>\n",
       "      <th>2</th>\n",
       "      <td>C</td>\n",
       "      <td>82</td>\n",
       "      <td>83</td>\n",
       "      <td>77</td>\n",
       "    </tr>\n",
       "    <tr>\n",
       "      <th>3</th>\n",
       "      <td>D</td>\n",
       "      <td>70</td>\n",
       "      <td>66</td>\n",
       "      <td>70</td>\n",
       "    </tr>\n",
       "    <tr>\n",
       "      <th>4</th>\n",
       "      <td>E</td>\n",
       "      <td>66</td>\n",
       "      <td>60</td>\n",
       "      <td>90</td>\n",
       "    </tr>\n",
       "    <tr>\n",
       "      <th>5</th>\n",
       "      <td>F</td>\n",
       "      <td>95</td>\n",
       "      <td>89</td>\n",
       "      <td>81</td>\n",
       "    </tr>\n",
       "    <tr>\n",
       "      <th>6</th>\n",
       "      <td>G</td>\n",
       "      <td>83</td>\n",
       "      <td>66</td>\n",
       "      <td>78</td>\n",
       "    </tr>\n",
       "    <tr>\n",
       "      <th>7</th>\n",
       "      <td>H</td>\n",
       "      <td>66</td>\n",
       "      <td>95</td>\n",
       "      <td>90</td>\n",
       "    </tr>\n",
       "  </tbody>\n",
       "</table>\n",
       "</div>"
      ],
      "text/plain": [
       "  name  math  physics  chemistry\n",
       "0    A    60       66         61\n",
       "1    B    89       95         91\n",
       "2    C    82       83         77\n",
       "3    D    70       66         70\n",
       "4    E    66       60         90\n",
       "5    F    95       89         81\n",
       "6    G    83       66         78\n",
       "7    H    66       95         90"
      ]
     },
     "execution_count": 30,
     "metadata": {},
     "output_type": "execute_result"
    }
   ],
   "source": [
    "df3_ignore=pd.concat([df1,df2], ignore_index=True)\n",
    "df3_ignore"
   ]
  },
  {
   "cell_type": "code",
   "execution_count": 31,
   "metadata": {
    "collapsed": true
   },
   "outputs": [
    {
     "data": {
      "text/html": [
       "<div>\n",
       "<style scoped>\n",
       "    .dataframe tbody tr th:only-of-type {\n",
       "        vertical-align: middle;\n",
       "    }\n",
       "\n",
       "    .dataframe tbody tr th {\n",
       "        vertical-align: top;\n",
       "    }\n",
       "\n",
       "    .dataframe thead th {\n",
       "        text-align: right;\n",
       "    }\n",
       "</style>\n",
       "<table border=\"1\" class=\"dataframe\">\n",
       "  <thead>\n",
       "    <tr style=\"text-align: right;\">\n",
       "      <th></th>\n",
       "      <th>name</th>\n",
       "      <th>math</th>\n",
       "      <th>physics</th>\n",
       "      <th>chemistry</th>\n",
       "      <th>name</th>\n",
       "      <th>math</th>\n",
       "      <th>physics</th>\n",
       "      <th>chemistry</th>\n",
       "    </tr>\n",
       "  </thead>\n",
       "  <tbody>\n",
       "    <tr>\n",
       "      <th>0</th>\n",
       "      <td>A</td>\n",
       "      <td>60</td>\n",
       "      <td>66</td>\n",
       "      <td>61</td>\n",
       "      <td>E</td>\n",
       "      <td>66</td>\n",
       "      <td>60</td>\n",
       "      <td>90</td>\n",
       "    </tr>\n",
       "    <tr>\n",
       "      <th>1</th>\n",
       "      <td>B</td>\n",
       "      <td>89</td>\n",
       "      <td>95</td>\n",
       "      <td>91</td>\n",
       "      <td>F</td>\n",
       "      <td>95</td>\n",
       "      <td>89</td>\n",
       "      <td>81</td>\n",
       "    </tr>\n",
       "    <tr>\n",
       "      <th>2</th>\n",
       "      <td>C</td>\n",
       "      <td>82</td>\n",
       "      <td>83</td>\n",
       "      <td>77</td>\n",
       "      <td>G</td>\n",
       "      <td>83</td>\n",
       "      <td>66</td>\n",
       "      <td>78</td>\n",
       "    </tr>\n",
       "    <tr>\n",
       "      <th>3</th>\n",
       "      <td>D</td>\n",
       "      <td>70</td>\n",
       "      <td>66</td>\n",
       "      <td>70</td>\n",
       "      <td>H</td>\n",
       "      <td>66</td>\n",
       "      <td>95</td>\n",
       "      <td>90</td>\n",
       "    </tr>\n",
       "  </tbody>\n",
       "</table>\n",
       "</div>"
      ],
      "text/plain": [
       "  name  math  physics  chemistry name  math  physics  chemistry\n",
       "0    A    60       66         61    E    66       60         90\n",
       "1    B    89       95         91    F    95       89         81\n",
       "2    C    82       83         77    G    83       66         78\n",
       "3    D    70       66         70    H    66       95         90"
      ]
     },
     "execution_count": 31,
     "metadata": {},
     "output_type": "execute_result"
    }
   ],
   "source": [
    "df4=pd.concat([df1,df2], axis=1)# горизонтальная конкатенация\n",
    "df4\n",
    "# допишите еще один аргумент: ignore_index=True, выведите датафрейм. Что с ним случилось и почему?"
   ]
  },
  {
   "cell_type": "code",
   "execution_count": 32,
   "metadata": {
    "collapsed": true
   },
   "outputs": [
    {
     "data": {
      "text/html": [
       "<div>\n",
       "<style scoped>\n",
       "    .dataframe tbody tr th:only-of-type {\n",
       "        vertical-align: middle;\n",
       "    }\n",
       "\n",
       "    .dataframe tbody tr th {\n",
       "        vertical-align: top;\n",
       "    }\n",
       "\n",
       "    .dataframe thead th {\n",
       "        text-align: right;\n",
       "    }\n",
       "</style>\n",
       "<table border=\"1\" class=\"dataframe\">\n",
       "  <thead>\n",
       "    <tr style=\"text-align: right;\">\n",
       "      <th></th>\n",
       "      <th>name_x</th>\n",
       "      <th>math_x</th>\n",
       "      <th>physics</th>\n",
       "      <th>chemistry_x</th>\n",
       "      <th>name_y</th>\n",
       "      <th>math_y</th>\n",
       "      <th>chemistry_y</th>\n",
       "    </tr>\n",
       "  </thead>\n",
       "  <tbody>\n",
       "    <tr>\n",
       "      <th>0</th>\n",
       "      <td>A</td>\n",
       "      <td>60</td>\n",
       "      <td>66</td>\n",
       "      <td>61</td>\n",
       "      <td>G</td>\n",
       "      <td>83</td>\n",
       "      <td>78</td>\n",
       "    </tr>\n",
       "    <tr>\n",
       "      <th>1</th>\n",
       "      <td>B</td>\n",
       "      <td>89</td>\n",
       "      <td>95</td>\n",
       "      <td>91</td>\n",
       "      <td>H</td>\n",
       "      <td>66</td>\n",
       "      <td>90</td>\n",
       "    </tr>\n",
       "    <tr>\n",
       "      <th>2</th>\n",
       "      <td>D</td>\n",
       "      <td>70</td>\n",
       "      <td>66</td>\n",
       "      <td>70</td>\n",
       "      <td>G</td>\n",
       "      <td>83</td>\n",
       "      <td>78</td>\n",
       "    </tr>\n",
       "  </tbody>\n",
       "</table>\n",
       "</div>"
      ],
      "text/plain": [
       "  name_x  math_x  physics  chemistry_x name_y  math_y  chemistry_y\n",
       "0      A      60       66           61      G      83           78\n",
       "1      B      89       95           91      H      66           90\n",
       "2      D      70       66           70      G      83           78"
      ]
     },
     "execution_count": 32,
     "metadata": {},
     "output_type": "execute_result"
    }
   ],
   "source": [
    "pd.merge(df1, df2, on='physics')# соединение по стобцу с оценками по физике. Столбец называется одинаково в обоих датасетах"
   ]
  },
  {
   "cell_type": "code",
   "execution_count": 33,
   "metadata": {
    "collapsed": true
   },
   "outputs": [
    {
     "data": {
      "text/html": [
       "<div>\n",
       "<style scoped>\n",
       "    .dataframe tbody tr th:only-of-type {\n",
       "        vertical-align: middle;\n",
       "    }\n",
       "\n",
       "    .dataframe tbody tr th {\n",
       "        vertical-align: top;\n",
       "    }\n",
       "\n",
       "    .dataframe thead th {\n",
       "        text-align: right;\n",
       "    }\n",
       "</style>\n",
       "<table border=\"1\" class=\"dataframe\">\n",
       "  <thead>\n",
       "    <tr style=\"text-align: right;\">\n",
       "      <th></th>\n",
       "      <th>name</th>\n",
       "      <th>math</th>\n",
       "      <th>phys</th>\n",
       "      <th>chemistry</th>\n",
       "    </tr>\n",
       "  </thead>\n",
       "  <tbody>\n",
       "    <tr>\n",
       "      <th>0</th>\n",
       "      <td>E</td>\n",
       "      <td>66</td>\n",
       "      <td>60</td>\n",
       "      <td>90</td>\n",
       "    </tr>\n",
       "    <tr>\n",
       "      <th>1</th>\n",
       "      <td>F</td>\n",
       "      <td>95</td>\n",
       "      <td>89</td>\n",
       "      <td>81</td>\n",
       "    </tr>\n",
       "    <tr>\n",
       "      <th>2</th>\n",
       "      <td>G</td>\n",
       "      <td>83</td>\n",
       "      <td>66</td>\n",
       "      <td>78</td>\n",
       "    </tr>\n",
       "    <tr>\n",
       "      <th>3</th>\n",
       "      <td>H</td>\n",
       "      <td>66</td>\n",
       "      <td>95</td>\n",
       "      <td>90</td>\n",
       "    </tr>\n",
       "  </tbody>\n",
       "</table>\n",
       "</div>"
      ],
      "text/plain": [
       "  name  math  phys  chemistry\n",
       "0    E    66    60         90\n",
       "1    F    95    89         81\n",
       "2    G    83    66         78\n",
       "3    H    66    95         90"
      ]
     },
     "execution_count": 33,
     "metadata": {},
     "output_type": "execute_result"
    }
   ],
   "source": [
    "df2.rename(columns={'physics': 'phys'}, inplace=True) # переименуем столбец оценок по физике\n",
    "df2"
   ]
  },
  {
   "cell_type": "code",
   "execution_count": 34,
   "metadata": {
    "collapsed": true
   },
   "outputs": [
    {
     "data": {
      "text/html": [
       "<div>\n",
       "<style scoped>\n",
       "    .dataframe tbody tr th:only-of-type {\n",
       "        vertical-align: middle;\n",
       "    }\n",
       "\n",
       "    .dataframe tbody tr th {\n",
       "        vertical-align: top;\n",
       "    }\n",
       "\n",
       "    .dataframe thead th {\n",
       "        text-align: right;\n",
       "    }\n",
       "</style>\n",
       "<table border=\"1\" class=\"dataframe\">\n",
       "  <thead>\n",
       "    <tr style=\"text-align: right;\">\n",
       "      <th></th>\n",
       "      <th>name_x</th>\n",
       "      <th>math_x</th>\n",
       "      <th>physics</th>\n",
       "      <th>chemistry_x</th>\n",
       "      <th>name_y</th>\n",
       "      <th>math_y</th>\n",
       "      <th>phys</th>\n",
       "      <th>chemistry_y</th>\n",
       "    </tr>\n",
       "  </thead>\n",
       "  <tbody>\n",
       "    <tr>\n",
       "      <th>0</th>\n",
       "      <td>A</td>\n",
       "      <td>60</td>\n",
       "      <td>66</td>\n",
       "      <td>61</td>\n",
       "      <td>G</td>\n",
       "      <td>83</td>\n",
       "      <td>66</td>\n",
       "      <td>78</td>\n",
       "    </tr>\n",
       "    <tr>\n",
       "      <th>1</th>\n",
       "      <td>B</td>\n",
       "      <td>89</td>\n",
       "      <td>95</td>\n",
       "      <td>91</td>\n",
       "      <td>H</td>\n",
       "      <td>66</td>\n",
       "      <td>95</td>\n",
       "      <td>90</td>\n",
       "    </tr>\n",
       "    <tr>\n",
       "      <th>2</th>\n",
       "      <td>D</td>\n",
       "      <td>70</td>\n",
       "      <td>66</td>\n",
       "      <td>70</td>\n",
       "      <td>G</td>\n",
       "      <td>83</td>\n",
       "      <td>66</td>\n",
       "      <td>78</td>\n",
       "    </tr>\n",
       "  </tbody>\n",
       "</table>\n",
       "</div>"
      ],
      "text/plain": [
       "  name_x  math_x  physics  chemistry_x name_y  math_y  phys  chemistry_y\n",
       "0      A      60       66           61      G      83    66           78\n",
       "1      B      89       95           91      H      66    95           90\n",
       "2      D      70       66           70      G      83    66           78"
      ]
     },
     "execution_count": 34,
     "metadata": {},
     "output_type": "execute_result"
    }
   ],
   "source": [
    "pd.merge(df1, df2, left_on='physics', right_on='phys')"
   ]
  },
  {
   "cell_type": "markdown",
   "metadata": {},
   "source": [
    "#### 2.2.5 Удаление строк или столбцов"
   ]
  },
  {
   "cell_type": "code",
   "execution_count": 35,
   "metadata": {
    "collapsed": true
   },
   "outputs": [
    {
     "data": {
      "text/html": [
       "<div>\n",
       "<style scoped>\n",
       "    .dataframe tbody tr th:only-of-type {\n",
       "        vertical-align: middle;\n",
       "    }\n",
       "\n",
       "    .dataframe tbody tr th {\n",
       "        vertical-align: top;\n",
       "    }\n",
       "\n",
       "    .dataframe thead th {\n",
       "        text-align: right;\n",
       "    }\n",
       "</style>\n",
       "<table border=\"1\" class=\"dataframe\">\n",
       "  <thead>\n",
       "    <tr style=\"text-align: right;\">\n",
       "      <th></th>\n",
       "      <th>name</th>\n",
       "      <th>physics</th>\n",
       "    </tr>\n",
       "  </thead>\n",
       "  <tbody>\n",
       "    <tr>\n",
       "      <th>0</th>\n",
       "      <td>A</td>\n",
       "      <td>66</td>\n",
       "    </tr>\n",
       "    <tr>\n",
       "      <th>1</th>\n",
       "      <td>B</td>\n",
       "      <td>95</td>\n",
       "    </tr>\n",
       "    <tr>\n",
       "      <th>2</th>\n",
       "      <td>C</td>\n",
       "      <td>83</td>\n",
       "    </tr>\n",
       "    <tr>\n",
       "      <th>3</th>\n",
       "      <td>D</td>\n",
       "      <td>66</td>\n",
       "    </tr>\n",
       "    <tr>\n",
       "      <th>4</th>\n",
       "      <td>E</td>\n",
       "      <td>60</td>\n",
       "    </tr>\n",
       "    <tr>\n",
       "      <th>5</th>\n",
       "      <td>F</td>\n",
       "      <td>89</td>\n",
       "    </tr>\n",
       "    <tr>\n",
       "      <th>6</th>\n",
       "      <td>G</td>\n",
       "      <td>66</td>\n",
       "    </tr>\n",
       "    <tr>\n",
       "      <th>7</th>\n",
       "      <td>H</td>\n",
       "      <td>95</td>\n",
       "    </tr>\n",
       "  </tbody>\n",
       "</table>\n",
       "</div>"
      ],
      "text/plain": [
       "  name  physics\n",
       "0    A       66\n",
       "1    B       95\n",
       "2    C       83\n",
       "3    D       66\n",
       "4    E       60\n",
       "5    F       89\n",
       "6    G       66\n",
       "7    H       95"
      ]
     },
     "execution_count": 35,
     "metadata": {},
     "output_type": "execute_result"
    }
   ],
   "source": [
    "df3_ignore.drop(['math', 'chemistry'], axis=1)# удаление столбцов c указанными названиями"
   ]
  },
  {
   "cell_type": "code",
   "execution_count": 36,
   "metadata": {
    "collapsed": true
   },
   "outputs": [
    {
     "data": {
      "text/html": [
       "<div>\n",
       "<style scoped>\n",
       "    .dataframe tbody tr th:only-of-type {\n",
       "        vertical-align: middle;\n",
       "    }\n",
       "\n",
       "    .dataframe tbody tr th {\n",
       "        vertical-align: top;\n",
       "    }\n",
       "\n",
       "    .dataframe thead th {\n",
       "        text-align: right;\n",
       "    }\n",
       "</style>\n",
       "<table border=\"1\" class=\"dataframe\">\n",
       "  <thead>\n",
       "    <tr style=\"text-align: right;\">\n",
       "      <th></th>\n",
       "      <th>name</th>\n",
       "      <th>math</th>\n",
       "      <th>physics</th>\n",
       "      <th>chemistry</th>\n",
       "    </tr>\n",
       "  </thead>\n",
       "  <tbody>\n",
       "    <tr>\n",
       "      <th>0</th>\n",
       "      <td>A</td>\n",
       "      <td>60</td>\n",
       "      <td>66</td>\n",
       "      <td>61</td>\n",
       "    </tr>\n",
       "    <tr>\n",
       "      <th>2</th>\n",
       "      <td>C</td>\n",
       "      <td>82</td>\n",
       "      <td>83</td>\n",
       "      <td>77</td>\n",
       "    </tr>\n",
       "    <tr>\n",
       "      <th>4</th>\n",
       "      <td>E</td>\n",
       "      <td>66</td>\n",
       "      <td>60</td>\n",
       "      <td>90</td>\n",
       "    </tr>\n",
       "    <tr>\n",
       "      <th>5</th>\n",
       "      <td>F</td>\n",
       "      <td>95</td>\n",
       "      <td>89</td>\n",
       "      <td>81</td>\n",
       "    </tr>\n",
       "    <tr>\n",
       "      <th>6</th>\n",
       "      <td>G</td>\n",
       "      <td>83</td>\n",
       "      <td>66</td>\n",
       "      <td>78</td>\n",
       "    </tr>\n",
       "    <tr>\n",
       "      <th>7</th>\n",
       "      <td>H</td>\n",
       "      <td>66</td>\n",
       "      <td>95</td>\n",
       "      <td>90</td>\n",
       "    </tr>\n",
       "  </tbody>\n",
       "</table>\n",
       "</div>"
      ],
      "text/plain": [
       "  name  math  physics  chemistry\n",
       "0    A    60       66         61\n",
       "2    C    82       83         77\n",
       "4    E    66       60         90\n",
       "5    F    95       89         81\n",
       "6    G    83       66         78\n",
       "7    H    66       95         90"
      ]
     },
     "execution_count": 36,
     "metadata": {},
     "output_type": "execute_result"
    }
   ],
   "source": [
    "df3_ignore.drop([1, 3], axis=0)# удаление строк с указанными индексами"
   ]
  },
  {
   "cell_type": "markdown",
   "metadata": {},
   "source": [
    "## 2.3. Экспорт таблицы из файла\n",
    "В `pandas` можно легко и удобно считывать таблицы  данных (датасеты) форматов .csv, .tsv, .xls, .xlsx, ... с помощью функции `read_csv` или `read_excel` в зависимости от формата. В течение курса мы в основном будем считывать из .csv (comma separated values).\n",
    "\n",
    "Рассмотрим таблицу (файл `country_statistics.csv`), содержащую различные показатели по странам с $1980$ по $2009$ год, взятые из базы [United Nations System](http://data.un.org/Default.aspx).\n",
    "\n",
    "Считаем данные и выведем первые $5$ строк:"
   ]
  },
  {
   "cell_type": "code",
   "execution_count": 37,
   "metadata": {
    "collapsed": true
   },
   "outputs": [
    {
     "data": {
      "text/html": [
       "<div>\n",
       "<style scoped>\n",
       "    .dataframe tbody tr th:only-of-type {\n",
       "        vertical-align: middle;\n",
       "    }\n",
       "\n",
       "    .dataframe tbody tr th {\n",
       "        vertical-align: top;\n",
       "    }\n",
       "\n",
       "    .dataframe thead th {\n",
       "        text-align: right;\n",
       "    }\n",
       "</style>\n",
       "<table border=\"1\" class=\"dataframe\">\n",
       "  <thead>\n",
       "    <tr style=\"text-align: right;\">\n",
       "      <th></th>\n",
       "      <th>Country or Area</th>\n",
       "      <th>Life expectancy</th>\n",
       "      <th>Year</th>\n",
       "      <th>Literacy percent</th>\n",
       "      <th>Child overweight percent</th>\n",
       "      <th>Child underweight percent</th>\n",
       "    </tr>\n",
       "  </thead>\n",
       "  <tbody>\n",
       "    <tr>\n",
       "      <th>0</th>\n",
       "      <td>Afghanistan</td>\n",
       "      <td>41.0</td>\n",
       "      <td>1985</td>\n",
       "      <td>NaN</td>\n",
       "      <td>NaN</td>\n",
       "      <td>NaN</td>\n",
       "    </tr>\n",
       "    <tr>\n",
       "      <th>1</th>\n",
       "      <td>Afghanistan</td>\n",
       "      <td>41.0</td>\n",
       "      <td>1990</td>\n",
       "      <td>NaN</td>\n",
       "      <td>NaN</td>\n",
       "      <td>NaN</td>\n",
       "    </tr>\n",
       "    <tr>\n",
       "      <th>2</th>\n",
       "      <td>Afghanistan</td>\n",
       "      <td>42.0</td>\n",
       "      <td>1990</td>\n",
       "      <td>NaN</td>\n",
       "      <td>NaN</td>\n",
       "      <td>NaN</td>\n",
       "    </tr>\n",
       "    <tr>\n",
       "      <th>3</th>\n",
       "      <td>Albania</td>\n",
       "      <td>72.0</td>\n",
       "      <td>1985</td>\n",
       "      <td>NaN</td>\n",
       "      <td>NaN</td>\n",
       "      <td>NaN</td>\n",
       "    </tr>\n",
       "    <tr>\n",
       "      <th>4</th>\n",
       "      <td>Albania</td>\n",
       "      <td>72.0</td>\n",
       "      <td>1990</td>\n",
       "      <td>NaN</td>\n",
       "      <td>NaN</td>\n",
       "      <td>NaN</td>\n",
       "    </tr>\n",
       "  </tbody>\n",
       "</table>\n",
       "</div>"
      ],
      "text/plain": [
       "  Country or Area  Life expectancy  Year  Literacy percent  \\\n",
       "0     Afghanistan             41.0  1985               NaN   \n",
       "1     Afghanistan             41.0  1990               NaN   \n",
       "2     Afghanistan             42.0  1990               NaN   \n",
       "3         Albania             72.0  1985               NaN   \n",
       "4         Albania             72.0  1990               NaN   \n",
       "\n",
       "   Child overweight percent  Child underweight percent  \n",
       "0                       NaN                        NaN  \n",
       "1                       NaN                        NaN  \n",
       "2                       NaN                        NaN  \n",
       "3                       NaN                        NaN  \n",
       "4                       NaN                        NaN  "
      ]
     },
     "execution_count": 37,
     "metadata": {},
     "output_type": "execute_result"
    }
   ],
   "source": [
    "countries = pd.read_csv('country_statistics.csv')\n",
    "countries.head()"
   ]
  },
  {
   "cell_type": "code",
   "execution_count": 38,
   "metadata": {
    "collapsed": true
   },
   "outputs": [],
   "source": [
    "# Выведите информацию о датафрейме\n",
    "# Ваш код"
   ]
  },
  {
   "cell_type": "markdown",
   "metadata": {},
   "source": [
    "❓ Есть ли в таблице данных столбец, в котором нет пропусков данных?\n",
    "\n",
    "❓ Сколько пропусков в столбце `Life expectancy`?"
   ]
  },
  {
   "cell_type": "markdown",
   "metadata": {},
   "source": [
    "📌📌📌 **Задание 1 (10 баллов).**\n",
    "\n",
    "Выведите информацию за 2000 г. о странах, в которых процент грамотного населения больше 80"
   ]
  },
  {
   "cell_type": "code",
   "execution_count": 39,
   "metadata": {
    "collapsed": true
   },
   "outputs": [
    {
     "data": {
      "text/html": [
       "<div>\n",
       "<style scoped>\n",
       "    .dataframe tbody tr th:only-of-type {\n",
       "        vertical-align: middle;\n",
       "    }\n",
       "\n",
       "    .dataframe tbody tr th {\n",
       "        vertical-align: top;\n",
       "    }\n",
       "\n",
       "    .dataframe thead th {\n",
       "        text-align: right;\n",
       "    }\n",
       "</style>\n",
       "<table border=\"1\" class=\"dataframe\">\n",
       "  <thead>\n",
       "    <tr style=\"text-align: right;\">\n",
       "      <th></th>\n",
       "      <th>Country or Area</th>\n",
       "      <th>Life expectancy</th>\n",
       "      <th>Year</th>\n",
       "      <th>Literacy percent</th>\n",
       "      <th>Child overweight percent</th>\n",
       "      <th>Child underweight percent</th>\n",
       "    </tr>\n",
       "  </thead>\n",
       "  <tbody>\n",
       "    <tr>\n",
       "      <th>984</th>\n",
       "      <td>Bosnia and Herzegovina</td>\n",
       "      <td>73.5</td>\n",
       "      <td>2000</td>\n",
       "      <td>96.7</td>\n",
       "      <td>16.300000</td>\n",
       "      <td>4.200000</td>\n",
       "    </tr>\n",
       "    <tr>\n",
       "      <th>985</th>\n",
       "      <td>Bosnia and Herzegovina</td>\n",
       "      <td>74.0</td>\n",
       "      <td>2000</td>\n",
       "      <td>96.7</td>\n",
       "      <td>16.300000</td>\n",
       "      <td>4.200000</td>\n",
       "    </tr>\n",
       "    <tr>\n",
       "      <th>988</th>\n",
       "      <td>Brazil</td>\n",
       "      <td>69.5</td>\n",
       "      <td>2000</td>\n",
       "      <td>86.4</td>\n",
       "      <td>NaN</td>\n",
       "      <td>NaN</td>\n",
       "    </tr>\n",
       "    <tr>\n",
       "      <th>989</th>\n",
       "      <td>Brazil</td>\n",
       "      <td>71.0</td>\n",
       "      <td>2000</td>\n",
       "      <td>86.4</td>\n",
       "      <td>NaN</td>\n",
       "      <td>NaN</td>\n",
       "    </tr>\n",
       "    <tr>\n",
       "      <th>1014</th>\n",
       "      <td>China</td>\n",
       "      <td>70.5</td>\n",
       "      <td>2000</td>\n",
       "      <td>90.9</td>\n",
       "      <td>3.366667</td>\n",
       "      <td>7.400000</td>\n",
       "    </tr>\n",
       "    <tr>\n",
       "      <th>1015</th>\n",
       "      <td>China</td>\n",
       "      <td>72.0</td>\n",
       "      <td>2000</td>\n",
       "      <td>90.9</td>\n",
       "      <td>3.366667</td>\n",
       "      <td>7.400000</td>\n",
       "    </tr>\n",
       "    <tr>\n",
       "      <th>1023</th>\n",
       "      <td>Costa Rica</td>\n",
       "      <td>77.5</td>\n",
       "      <td>2000</td>\n",
       "      <td>94.9</td>\n",
       "      <td>NaN</td>\n",
       "      <td>NaN</td>\n",
       "    </tr>\n",
       "    <tr>\n",
       "      <th>1024</th>\n",
       "      <td>Costa Rica</td>\n",
       "      <td>78.5</td>\n",
       "      <td>2000</td>\n",
       "      <td>94.9</td>\n",
       "      <td>NaN</td>\n",
       "      <td>NaN</td>\n",
       "    </tr>\n",
       "    <tr>\n",
       "      <th>1046</th>\n",
       "      <td>Equatorial Guinea</td>\n",
       "      <td>48.5</td>\n",
       "      <td>2000</td>\n",
       "      <td>88.3</td>\n",
       "      <td>13.966667</td>\n",
       "      <td>15.700000</td>\n",
       "    </tr>\n",
       "    <tr>\n",
       "      <th>1047</th>\n",
       "      <td>Equatorial Guinea</td>\n",
       "      <td>49.5</td>\n",
       "      <td>2000</td>\n",
       "      <td>88.3</td>\n",
       "      <td>13.966667</td>\n",
       "      <td>15.700000</td>\n",
       "    </tr>\n",
       "    <tr>\n",
       "      <th>1050</th>\n",
       "      <td>Estonia</td>\n",
       "      <td>69.5</td>\n",
       "      <td>2000</td>\n",
       "      <td>99.8</td>\n",
       "      <td>NaN</td>\n",
       "      <td>NaN</td>\n",
       "    </tr>\n",
       "    <tr>\n",
       "      <th>1051</th>\n",
       "      <td>Estonia</td>\n",
       "      <td>71.0</td>\n",
       "      <td>2000</td>\n",
       "      <td>99.8</td>\n",
       "      <td>NaN</td>\n",
       "      <td>NaN</td>\n",
       "    </tr>\n",
       "    <tr>\n",
       "      <th>1120</th>\n",
       "      <td>Kenya</td>\n",
       "      <td>54.0</td>\n",
       "      <td>2000</td>\n",
       "      <td>82.2</td>\n",
       "      <td>8.133333</td>\n",
       "      <td>17.433333</td>\n",
       "    </tr>\n",
       "    <tr>\n",
       "      <th>1121</th>\n",
       "      <td>Kenya</td>\n",
       "      <td>51.0</td>\n",
       "      <td>2000</td>\n",
       "      <td>82.2</td>\n",
       "      <td>8.133333</td>\n",
       "      <td>17.433333</td>\n",
       "    </tr>\n",
       "    <tr>\n",
       "      <th>1131</th>\n",
       "      <td>Latvia</td>\n",
       "      <td>70.0</td>\n",
       "      <td>2000</td>\n",
       "      <td>99.7</td>\n",
       "      <td>NaN</td>\n",
       "      <td>NaN</td>\n",
       "    </tr>\n",
       "    <tr>\n",
       "      <th>1132</th>\n",
       "      <td>Latvia</td>\n",
       "      <td>71.5</td>\n",
       "      <td>2000</td>\n",
       "      <td>99.7</td>\n",
       "      <td>NaN</td>\n",
       "      <td>NaN</td>\n",
       "    </tr>\n",
       "    <tr>\n",
       "      <th>1135</th>\n",
       "      <td>Lesotho</td>\n",
       "      <td>55.5</td>\n",
       "      <td>2000</td>\n",
       "      <td>86.3</td>\n",
       "      <td>21.000000</td>\n",
       "      <td>15.000000</td>\n",
       "    </tr>\n",
       "    <tr>\n",
       "      <th>1136</th>\n",
       "      <td>Lesotho</td>\n",
       "      <td>44.5</td>\n",
       "      <td>2000</td>\n",
       "      <td>86.3</td>\n",
       "      <td>21.000000</td>\n",
       "      <td>15.000000</td>\n",
       "    </tr>\n",
       "    <tr>\n",
       "      <th>1153</th>\n",
       "      <td>Malaysia</td>\n",
       "      <td>72.5</td>\n",
       "      <td>2000</td>\n",
       "      <td>88.7</td>\n",
       "      <td>NaN</td>\n",
       "      <td>NaN</td>\n",
       "    </tr>\n",
       "    <tr>\n",
       "      <th>1154</th>\n",
       "      <td>Malaysia</td>\n",
       "      <td>73.0</td>\n",
       "      <td>2000</td>\n",
       "      <td>88.7</td>\n",
       "      <td>NaN</td>\n",
       "      <td>NaN</td>\n",
       "    </tr>\n",
       "    <tr>\n",
       "      <th>1155</th>\n",
       "      <td>Maldives</td>\n",
       "      <td>63.5</td>\n",
       "      <td>2000</td>\n",
       "      <td>96.3</td>\n",
       "      <td>NaN</td>\n",
       "      <td>NaN</td>\n",
       "    </tr>\n",
       "    <tr>\n",
       "      <th>1156</th>\n",
       "      <td>Maldives</td>\n",
       "      <td>66.0</td>\n",
       "      <td>2000</td>\n",
       "      <td>96.3</td>\n",
       "      <td>NaN</td>\n",
       "      <td>NaN</td>\n",
       "    </tr>\n",
       "    <tr>\n",
       "      <th>1165</th>\n",
       "      <td>Mauritius</td>\n",
       "      <td>71.0</td>\n",
       "      <td>2000</td>\n",
       "      <td>84.3</td>\n",
       "      <td>NaN</td>\n",
       "      <td>NaN</td>\n",
       "    </tr>\n",
       "    <tr>\n",
       "      <th>1166</th>\n",
       "      <td>Mauritius</td>\n",
       "      <td>72.0</td>\n",
       "      <td>2000</td>\n",
       "      <td>84.3</td>\n",
       "      <td>NaN</td>\n",
       "      <td>NaN</td>\n",
       "    </tr>\n",
       "    <tr>\n",
       "      <th>1167</th>\n",
       "      <td>Mexico</td>\n",
       "      <td>73.5</td>\n",
       "      <td>2000</td>\n",
       "      <td>90.5</td>\n",
       "      <td>NaN</td>\n",
       "      <td>NaN</td>\n",
       "    </tr>\n",
       "    <tr>\n",
       "      <th>1168</th>\n",
       "      <td>Mexico</td>\n",
       "      <td>74.5</td>\n",
       "      <td>2000</td>\n",
       "      <td>90.5</td>\n",
       "      <td>NaN</td>\n",
       "      <td>NaN</td>\n",
       "    </tr>\n",
       "    <tr>\n",
       "      <th>1169</th>\n",
       "      <td>Mongolia</td>\n",
       "      <td>63.5</td>\n",
       "      <td>2000</td>\n",
       "      <td>97.8</td>\n",
       "      <td>12.700000</td>\n",
       "      <td>11.600000</td>\n",
       "    </tr>\n",
       "    <tr>\n",
       "      <th>1170</th>\n",
       "      <td>Mongolia</td>\n",
       "      <td>65.0</td>\n",
       "      <td>2000</td>\n",
       "      <td>97.8</td>\n",
       "      <td>12.700000</td>\n",
       "      <td>11.600000</td>\n",
       "    </tr>\n",
       "    <tr>\n",
       "      <th>1177</th>\n",
       "      <td>Myanmar</td>\n",
       "      <td>60.5</td>\n",
       "      <td>2000</td>\n",
       "      <td>89.9</td>\n",
       "      <td>2.400000</td>\n",
       "      <td>30.100000</td>\n",
       "    </tr>\n",
       "    <tr>\n",
       "      <th>1178</th>\n",
       "      <td>Myanmar</td>\n",
       "      <td>60.0</td>\n",
       "      <td>2000</td>\n",
       "      <td>89.9</td>\n",
       "      <td>2.400000</td>\n",
       "      <td>30.100000</td>\n",
       "    </tr>\n",
       "    <tr>\n",
       "      <th>1205</th>\n",
       "      <td>Panama</td>\n",
       "      <td>73.5</td>\n",
       "      <td>2000</td>\n",
       "      <td>91.9</td>\n",
       "      <td>NaN</td>\n",
       "      <td>NaN</td>\n",
       "    </tr>\n",
       "    <tr>\n",
       "      <th>1206</th>\n",
       "      <td>Panama</td>\n",
       "      <td>74.5</td>\n",
       "      <td>2000</td>\n",
       "      <td>91.9</td>\n",
       "      <td>NaN</td>\n",
       "      <td>NaN</td>\n",
       "    </tr>\n",
       "    <tr>\n",
       "      <th>1213</th>\n",
       "      <td>Philippines</td>\n",
       "      <td>69.0</td>\n",
       "      <td>2000</td>\n",
       "      <td>92.6</td>\n",
       "      <td>NaN</td>\n",
       "      <td>NaN</td>\n",
       "    </tr>\n",
       "    <tr>\n",
       "      <th>1214</th>\n",
       "      <td>Philippines</td>\n",
       "      <td>70.0</td>\n",
       "      <td>2000</td>\n",
       "      <td>92.6</td>\n",
       "      <td>NaN</td>\n",
       "      <td>NaN</td>\n",
       "    </tr>\n",
       "    <tr>\n",
       "      <th>1223</th>\n",
       "      <td>Republic of Moldova</td>\n",
       "      <td>66.5</td>\n",
       "      <td>2000</td>\n",
       "      <td>96.7</td>\n",
       "      <td>NaN</td>\n",
       "      <td>NaN</td>\n",
       "    </tr>\n",
       "    <tr>\n",
       "      <th>1224</th>\n",
       "      <td>Republic of Moldova</td>\n",
       "      <td>67.5</td>\n",
       "      <td>2000</td>\n",
       "      <td>96.7</td>\n",
       "      <td>NaN</td>\n",
       "      <td>NaN</td>\n",
       "    </tr>\n",
       "    <tr>\n",
       "      <th>1249</th>\n",
       "      <td>Singapore</td>\n",
       "      <td>77.0</td>\n",
       "      <td>2000</td>\n",
       "      <td>92.5</td>\n",
       "      <td>2.566667</td>\n",
       "      <td>3.266667</td>\n",
       "    </tr>\n",
       "    <tr>\n",
       "      <th>1250</th>\n",
       "      <td>Singapore</td>\n",
       "      <td>79.0</td>\n",
       "      <td>2000</td>\n",
       "      <td>92.5</td>\n",
       "      <td>2.566667</td>\n",
       "      <td>3.266667</td>\n",
       "    </tr>\n",
       "    <tr>\n",
       "      <th>1269</th>\n",
       "      <td>Swaziland</td>\n",
       "      <td>54.5</td>\n",
       "      <td>2000</td>\n",
       "      <td>81.7</td>\n",
       "      <td>14.866667</td>\n",
       "      <td>9.100000</td>\n",
       "    </tr>\n",
       "    <tr>\n",
       "      <th>1270</th>\n",
       "      <td>Swaziland</td>\n",
       "      <td>44.0</td>\n",
       "      <td>2000</td>\n",
       "      <td>81.7</td>\n",
       "      <td>14.866667</td>\n",
       "      <td>9.100000</td>\n",
       "    </tr>\n",
       "    <tr>\n",
       "      <th>1277</th>\n",
       "      <td>Tajikistan</td>\n",
       "      <td>64.5</td>\n",
       "      <td>2000</td>\n",
       "      <td>99.5</td>\n",
       "      <td>NaN</td>\n",
       "      <td>NaN</td>\n",
       "    </tr>\n",
       "    <tr>\n",
       "      <th>1278</th>\n",
       "      <td>Tajikistan</td>\n",
       "      <td>66.0</td>\n",
       "      <td>2000</td>\n",
       "      <td>99.5</td>\n",
       "      <td>NaN</td>\n",
       "      <td>NaN</td>\n",
       "    </tr>\n",
       "    <tr>\n",
       "      <th>1281</th>\n",
       "      <td>Thailand</td>\n",
       "      <td>68.0</td>\n",
       "      <td>2000</td>\n",
       "      <td>92.6</td>\n",
       "      <td>NaN</td>\n",
       "      <td>NaN</td>\n",
       "    </tr>\n",
       "    <tr>\n",
       "      <th>1282</th>\n",
       "      <td>Thailand</td>\n",
       "      <td>69.0</td>\n",
       "      <td>2000</td>\n",
       "      <td>92.6</td>\n",
       "      <td>NaN</td>\n",
       "      <td>NaN</td>\n",
       "    </tr>\n",
       "    <tr>\n",
       "      <th>1310</th>\n",
       "      <td>Uzbekistan</td>\n",
       "      <td>66.5</td>\n",
       "      <td>2000</td>\n",
       "      <td>98.6</td>\n",
       "      <td>NaN</td>\n",
       "      <td>NaN</td>\n",
       "    </tr>\n",
       "    <tr>\n",
       "      <th>1808</th>\n",
       "      <td>Viet Nam</td>\n",
       "      <td>NaN</td>\n",
       "      <td>2000</td>\n",
       "      <td>90.2</td>\n",
       "      <td>2.742857</td>\n",
       "      <td>28.457143</td>\n",
       "    </tr>\n",
       "  </tbody>\n",
       "</table>\n",
       "</div>"
      ],
      "text/plain": [
       "             Country or Area  Life expectancy  Year  Literacy percent  \\\n",
       "984   Bosnia and Herzegovina             73.5  2000              96.7   \n",
       "985   Bosnia and Herzegovina             74.0  2000              96.7   \n",
       "988                   Brazil             69.5  2000              86.4   \n",
       "989                   Brazil             71.0  2000              86.4   \n",
       "1014                   China             70.5  2000              90.9   \n",
       "1015                   China             72.0  2000              90.9   \n",
       "1023              Costa Rica             77.5  2000              94.9   \n",
       "1024              Costa Rica             78.5  2000              94.9   \n",
       "1046       Equatorial Guinea             48.5  2000              88.3   \n",
       "1047       Equatorial Guinea             49.5  2000              88.3   \n",
       "1050                 Estonia             69.5  2000              99.8   \n",
       "1051                 Estonia             71.0  2000              99.8   \n",
       "1120                   Kenya             54.0  2000              82.2   \n",
       "1121                   Kenya             51.0  2000              82.2   \n",
       "1131                  Latvia             70.0  2000              99.7   \n",
       "1132                  Latvia             71.5  2000              99.7   \n",
       "1135                 Lesotho             55.5  2000              86.3   \n",
       "1136                 Lesotho             44.5  2000              86.3   \n",
       "1153                Malaysia             72.5  2000              88.7   \n",
       "1154                Malaysia             73.0  2000              88.7   \n",
       "1155                Maldives             63.5  2000              96.3   \n",
       "1156                Maldives             66.0  2000              96.3   \n",
       "1165               Mauritius             71.0  2000              84.3   \n",
       "1166               Mauritius             72.0  2000              84.3   \n",
       "1167                  Mexico             73.5  2000              90.5   \n",
       "1168                  Mexico             74.5  2000              90.5   \n",
       "1169                Mongolia             63.5  2000              97.8   \n",
       "1170                Mongolia             65.0  2000              97.8   \n",
       "1177                 Myanmar             60.5  2000              89.9   \n",
       "1178                 Myanmar             60.0  2000              89.9   \n",
       "1205                  Panama             73.5  2000              91.9   \n",
       "1206                  Panama             74.5  2000              91.9   \n",
       "1213             Philippines             69.0  2000              92.6   \n",
       "1214             Philippines             70.0  2000              92.6   \n",
       "1223     Republic of Moldova             66.5  2000              96.7   \n",
       "1224     Republic of Moldova             67.5  2000              96.7   \n",
       "1249               Singapore             77.0  2000              92.5   \n",
       "1250               Singapore             79.0  2000              92.5   \n",
       "1269               Swaziland             54.5  2000              81.7   \n",
       "1270               Swaziland             44.0  2000              81.7   \n",
       "1277              Tajikistan             64.5  2000              99.5   \n",
       "1278              Tajikistan             66.0  2000              99.5   \n",
       "1281                Thailand             68.0  2000              92.6   \n",
       "1282                Thailand             69.0  2000              92.6   \n",
       "1310              Uzbekistan             66.5  2000              98.6   \n",
       "1808                Viet Nam              NaN  2000              90.2   \n",
       "\n",
       "      Child overweight percent  Child underweight percent  \n",
       "984                  16.300000                   4.200000  \n",
       "985                  16.300000                   4.200000  \n",
       "988                        NaN                        NaN  \n",
       "989                        NaN                        NaN  \n",
       "1014                  3.366667                   7.400000  \n",
       "1015                  3.366667                   7.400000  \n",
       "1023                       NaN                        NaN  \n",
       "1024                       NaN                        NaN  \n",
       "1046                 13.966667                  15.700000  \n",
       "1047                 13.966667                  15.700000  \n",
       "1050                       NaN                        NaN  \n",
       "1051                       NaN                        NaN  \n",
       "1120                  8.133333                  17.433333  \n",
       "1121                  8.133333                  17.433333  \n",
       "1131                       NaN                        NaN  \n",
       "1132                       NaN                        NaN  \n",
       "1135                 21.000000                  15.000000  \n",
       "1136                 21.000000                  15.000000  \n",
       "1153                       NaN                        NaN  \n",
       "1154                       NaN                        NaN  \n",
       "1155                       NaN                        NaN  \n",
       "1156                       NaN                        NaN  \n",
       "1165                       NaN                        NaN  \n",
       "1166                       NaN                        NaN  \n",
       "1167                       NaN                        NaN  \n",
       "1168                       NaN                        NaN  \n",
       "1169                 12.700000                  11.600000  \n",
       "1170                 12.700000                  11.600000  \n",
       "1177                  2.400000                  30.100000  \n",
       "1178                  2.400000                  30.100000  \n",
       "1205                       NaN                        NaN  \n",
       "1206                       NaN                        NaN  \n",
       "1213                       NaN                        NaN  \n",
       "1214                       NaN                        NaN  \n",
       "1223                       NaN                        NaN  \n",
       "1224                       NaN                        NaN  \n",
       "1249                  2.566667                   3.266667  \n",
       "1250                  2.566667                   3.266667  \n",
       "1269                 14.866667                   9.100000  \n",
       "1270                 14.866667                   9.100000  \n",
       "1277                       NaN                        NaN  \n",
       "1278                       NaN                        NaN  \n",
       "1281                       NaN                        NaN  \n",
       "1282                       NaN                        NaN  \n",
       "1310                       NaN                        NaN  \n",
       "1808                  2.742857                  28.457143  "
      ]
     },
     "execution_count": 39,
     "metadata": {},
     "output_type": "execute_result"
    }
   ],
   "source": [
    "# ваш код\n",
    "countries[(countries.Year==2000) & (countries['Literacy percent']>80)]"
   ]
  },
  {
   "cell_type": "markdown",
   "metadata": {},
   "source": [
    "## 2.4. Простейшая обработка пропусков\n",
    "Как видно по таблице `country`, при сборе данных часто возникают *пропущенные значения*, и в таблице появляются поля со значением NaN.\n",
    "\n",
    "Простейшие способы от них избавиться:\n",
    "- можно заменить их на какое-нибудь фиксированное значение (метод `fillna()`)\n",
    "- можно вообще удалить строки, содержащие NaN (метод `dropna()`)\n"
   ]
  },
  {
   "cell_type": "markdown",
   "metadata": {},
   "source": [
    "Одна из мер борьбы с NaN -- замена на какое-либо значение. В этой работе заменять будем на моду (наиболее часто встречающееся значение)\n",
    "\n",
    "Сначала определим:\n",
    "-  какиие вообще значения встречаются у переменной `Life expectancy`;\n",
    "- частоты встречаемости этих значений\n",
    "\n",
    "Для этого воспользуемся методом `value_counts()`, установив параметр `sort=True`, чтобы значение были отсортированы в порядче уменьшения частоты встречаемости. \n"
   ]
  },
  {
   "cell_type": "code",
   "execution_count": 40,
   "metadata": {
    "collapsed": true
   },
   "outputs": [
    {
     "data": {
      "text/plain": [
       "Life expectancy\n",
       "71.5    41\n",
       "70.0    40\n",
       "74.5    39\n",
       "69.5    37\n",
       "71.0    37\n",
       "        ..\n",
       "71.6     1\n",
       "71.9     1\n",
       "72.2     1\n",
       "72.4     1\n",
       "72.6     1\n",
       "Name: count, Length: 101, dtype: int64"
      ]
     },
     "execution_count": 40,
     "metadata": {},
     "output_type": "execute_result"
    }
   ],
   "source": [
    "countries['Life expectancy'].value_counts(sort=True)# список всевозможных значений значений Life expectancy с частотами встречаемости этих значений"
   ]
  },
  {
   "cell_type": "markdown",
   "metadata": {},
   "source": [
    "Видно, что мода показателя `Life expectancy` равна $71.5$.\n",
    "Заменим пропущенные значения в столбце `Life expectancy` на это значение."
   ]
  },
  {
   "cell_type": "code",
   "execution_count": 41,
   "metadata": {
    "collapsed": true
   },
   "outputs": [],
   "source": [
    "# Копируем таблицу, чтобы не портить исходные данные.\n",
    "countries_without_nan = countries.copy()"
   ]
  },
  {
   "cell_type": "code",
   "execution_count": 42,
   "metadata": {
    "collapsed": true
   },
   "outputs": [],
   "source": [
    "countries_without_nan['Life expectancy'] = countries_without_nan['Life expectancy'].fillna(71.5)"
   ]
  },
  {
   "cell_type": "markdown",
   "metadata": {},
   "source": [
    "Важно избегать *необдуманных* замен значений в данных наподобие совершённого. Такие действия могут существенно повлиять на описательные статистики, так что иногда безопаснее по возможности просто не рассматривать данные с пропусками:"
   ]
  },
  {
   "cell_type": "code",
   "execution_count": 43,
   "metadata": {
    "collapsed": true
   },
   "outputs": [],
   "source": [
    "countries_without_nan = countries_without_nan.dropna(how='any')"
   ]
  },
  {
   "cell_type": "markdown",
   "metadata": {},
   "source": [
    "Значение аргумента `how='any'` означает, что будут удалены все строки, содержащие **хотя бы один** пропуск. Такое значение стоит по умолчанию.\n",
    "\n",
    "Можно было прописать `how='all'`, в результате чего удалились бы только строки, полностью состоящие из NaN."
   ]
  },
  {
   "cell_type": "code",
   "execution_count": 44,
   "metadata": {
    "collapsed": true
   },
   "outputs": [
    {
     "name": "stdout",
     "output_type": "stream",
     "text": [
      "<class 'pandas.core.frame.DataFrame'>\n",
      "Index: 126 entries, 101 to 1818\n",
      "Data columns (total 6 columns):\n",
      " #   Column                     Non-Null Count  Dtype  \n",
      "---  ------                     --------------  -----  \n",
      " 0   Country or Area            126 non-null    object \n",
      " 1   Life expectancy            126 non-null    float64\n",
      " 2   Year                       126 non-null    int64  \n",
      " 3   Literacy percent           126 non-null    float64\n",
      " 4   Child overweight percent   126 non-null    float64\n",
      " 5   Child underweight percent  126 non-null    float64\n",
      "dtypes: float64(4), int64(1), object(1)\n",
      "memory usage: 6.9+ KB\n"
     ]
    }
   ],
   "source": [
    "countries_without_nan.info()"
   ]
  },
  {
   "cell_type": "markdown",
   "metadata": {},
   "source": [
    "Опять же, важно понимать, что вы можете потерять очень много информации:"
   ]
  },
  {
   "cell_type": "code",
   "execution_count": 45,
   "metadata": {
    "collapsed": true
   },
   "outputs": [
    {
     "data": {
      "text/plain": [
       "((2346, 6), (126, 6))"
      ]
     },
     "execution_count": 45,
     "metadata": {},
     "output_type": "execute_result"
    }
   ],
   "source": [
    "countries.shape, countries_without_nan.shape"
   ]
  },
  {
   "cell_type": "markdown",
   "metadata": {},
   "source": [
    "## 2.5 Описательные статистики\n",
    "У таблицы в `pandas` есть множество методов для получения тех или иных описательных статистик:"
   ]
  },
  {
   "cell_type": "code",
   "execution_count": 46,
   "metadata": {
    "collapsed": true
   },
   "outputs": [
    {
     "name": "stdout",
     "output_type": "stream",
     "text": [
      "Mean life expectancy:  65.61479820627802\n",
      "Min life expectancy:  23.5\n",
      "Life expectancy 25% quantile:  58.5\n"
     ]
    }
   ],
   "source": [
    "print('Mean life expectancy: ', countries['Life expectancy'].mean()) # среднее\n",
    "print('Min life expectancy: ', countries['Life expectancy'].min()) # минимальное значение\n",
    "print('Life expectancy 25% quantile: ', countries['Life expectancy'].quantile(0.25)) # квантиль уровня 0.25"
   ]
  },
  {
   "cell_type": "markdown",
   "metadata": {},
   "source": [
    "Для сравнения, те же значения на таблице с вычищенными пропусками - обратите внимание насколько сильно могут меняться статистики:"
   ]
  },
  {
   "cell_type": "code",
   "execution_count": 47,
   "metadata": {
    "collapsed": true
   },
   "outputs": [
    {
     "name": "stdout",
     "output_type": "stream",
     "text": [
      "Mean life expectancy:  67.42857142857143\n",
      "Min life expectancy:  36.5\n",
      "Life expectancy 25% quantile:  71.5\n"
     ]
    }
   ],
   "source": [
    "print('Mean life expectancy: ', countries_without_nan['Life expectancy'].mean())\n",
    "print('Min life expectancy: ', countries_without_nan['Life expectancy'].min())\n",
    "print('Life expectancy 25% quantile: ', countries_without_nan['Life expectancy'].quantile(0.25))"
   ]
  },
  {
   "cell_type": "markdown",
   "metadata": {},
   "source": [
    "Также, можно выводить целые **наборы статистик** по столбцам таблицы c помощью метода `describe()` \n",
    "- по **числовым** полям таблицы - используем метод с параметром `include=None` (такое значение задано по умолчанию). Набор включает:\n",
    "    - count - число наблюдений без пропусков\n",
    "    - mean - среднее значение\n",
    "    - std - стандартное отклонение\n",
    "    - min - минимум\n",
    "    - 50% - медиана\n",
    "    - 25% - 25% квантиль\n",
    "    - 75% - 75% квантиль\n",
    "    - max - максимум\n",
    "- по **числовым и категориальным** полям - используем метод с параметром `include=object` . Набор включает:\n",
    "    - count - число наблюдений без пропусков\n",
    "    - unique - число уникальных значений\n",
    "    - top - самое частое значение\n",
    "    - freq - частота, с которой встречается значение top"
   ]
  },
  {
   "cell_type": "code",
   "execution_count": 48,
   "metadata": {
    "collapsed": true
   },
   "outputs": [
    {
     "data": {
      "text/html": [
       "<div>\n",
       "<style scoped>\n",
       "    .dataframe tbody tr th:only-of-type {\n",
       "        vertical-align: middle;\n",
       "    }\n",
       "\n",
       "    .dataframe tbody tr th {\n",
       "        vertical-align: top;\n",
       "    }\n",
       "\n",
       "    .dataframe thead th {\n",
       "        text-align: right;\n",
       "    }\n",
       "</style>\n",
       "<table border=\"1\" class=\"dataframe\">\n",
       "  <thead>\n",
       "    <tr style=\"text-align: right;\">\n",
       "      <th></th>\n",
       "      <th>Life expectancy</th>\n",
       "      <th>Year</th>\n",
       "      <th>Literacy percent</th>\n",
       "      <th>Child overweight percent</th>\n",
       "      <th>Child underweight percent</th>\n",
       "    </tr>\n",
       "  </thead>\n",
       "  <tbody>\n",
       "    <tr>\n",
       "      <th>count</th>\n",
       "      <td>1338.000000</td>\n",
       "      <td>2346.000000</td>\n",
       "      <td>593.000000</td>\n",
       "      <td>634.000000</td>\n",
       "      <td>807.000000</td>\n",
       "    </tr>\n",
       "    <tr>\n",
       "      <th>mean</th>\n",
       "      <td>65.614798</td>\n",
       "      <td>1996.944587</td>\n",
       "      <td>79.776054</td>\n",
       "      <td>6.836306</td>\n",
       "      <td>16.982454</td>\n",
       "    </tr>\n",
       "    <tr>\n",
       "      <th>std</th>\n",
       "      <td>10.429435</td>\n",
       "      <td>8.038097</td>\n",
       "      <td>20.319011</td>\n",
       "      <td>5.015300</td>\n",
       "      <td>13.729375</td>\n",
       "    </tr>\n",
       "    <tr>\n",
       "      <th>min</th>\n",
       "      <td>23.500000</td>\n",
       "      <td>1966.000000</td>\n",
       "      <td>9.400000</td>\n",
       "      <td>0.000000</td>\n",
       "      <td>0.000000</td>\n",
       "    </tr>\n",
       "    <tr>\n",
       "      <th>25%</th>\n",
       "      <td>58.500000</td>\n",
       "      <td>1990.000000</td>\n",
       "      <td>68.500000</td>\n",
       "      <td>3.316667</td>\n",
       "      <td>5.283333</td>\n",
       "    </tr>\n",
       "    <tr>\n",
       "      <th>50%</th>\n",
       "      <td>68.750000</td>\n",
       "      <td>1995.000000</td>\n",
       "      <td>87.900000</td>\n",
       "      <td>5.700000</td>\n",
       "      <td>14.066667</td>\n",
       "    </tr>\n",
       "    <tr>\n",
       "      <th>75%</th>\n",
       "      <td>73.500000</td>\n",
       "      <td>2002.000000</td>\n",
       "      <td>95.500000</td>\n",
       "      <td>9.000000</td>\n",
       "      <td>24.250000</td>\n",
       "    </tr>\n",
       "    <tr>\n",
       "      <th>max</th>\n",
       "      <td>81.500000</td>\n",
       "      <td>2012.000000</td>\n",
       "      <td>100.000000</td>\n",
       "      <td>30.000000</td>\n",
       "      <td>67.300000</td>\n",
       "    </tr>\n",
       "  </tbody>\n",
       "</table>\n",
       "</div>"
      ],
      "text/plain": [
       "       Life expectancy         Year  Literacy percent  \\\n",
       "count      1338.000000  2346.000000        593.000000   \n",
       "mean         65.614798  1996.944587         79.776054   \n",
       "std          10.429435     8.038097         20.319011   \n",
       "min          23.500000  1966.000000          9.400000   \n",
       "25%          58.500000  1990.000000         68.500000   \n",
       "50%          68.750000  1995.000000         87.900000   \n",
       "75%          73.500000  2002.000000         95.500000   \n",
       "max          81.500000  2012.000000        100.000000   \n",
       "\n",
       "       Child overweight percent  Child underweight percent  \n",
       "count                634.000000                 807.000000  \n",
       "mean                   6.836306                  16.982454  \n",
       "std                    5.015300                  13.729375  \n",
       "min                    0.000000                   0.000000  \n",
       "25%                    3.316667                   5.283333  \n",
       "50%                    5.700000                  14.066667  \n",
       "75%                    9.000000                  24.250000  \n",
       "max                   30.000000                  67.300000  "
      ]
     },
     "execution_count": 48,
     "metadata": {},
     "output_type": "execute_result"
    }
   ],
   "source": [
    "countries.describe()"
   ]
  },
  {
   "cell_type": "code",
   "execution_count": 49,
   "metadata": {
    "collapsed": true
   },
   "outputs": [
    {
     "data": {
      "text/html": [
       "<div>\n",
       "<style scoped>\n",
       "    .dataframe tbody tr th:only-of-type {\n",
       "        vertical-align: middle;\n",
       "    }\n",
       "\n",
       "    .dataframe tbody tr th {\n",
       "        vertical-align: top;\n",
       "    }\n",
       "\n",
       "    .dataframe thead th {\n",
       "        text-align: right;\n",
       "    }\n",
       "</style>\n",
       "<table border=\"1\" class=\"dataframe\">\n",
       "  <thead>\n",
       "    <tr style=\"text-align: right;\">\n",
       "      <th></th>\n",
       "      <th>Country or Area</th>\n",
       "    </tr>\n",
       "  </thead>\n",
       "  <tbody>\n",
       "    <tr>\n",
       "      <th>count</th>\n",
       "      <td>2346</td>\n",
       "    </tr>\n",
       "    <tr>\n",
       "      <th>unique</th>\n",
       "      <td>216</td>\n",
       "    </tr>\n",
       "    <tr>\n",
       "      <th>top</th>\n",
       "      <td>Chile</td>\n",
       "    </tr>\n",
       "    <tr>\n",
       "      <th>freq</th>\n",
       "      <td>30</td>\n",
       "    </tr>\n",
       "  </tbody>\n",
       "</table>\n",
       "</div>"
      ],
      "text/plain": [
       "       Country or Area\n",
       "count             2346\n",
       "unique             216\n",
       "top              Chile\n",
       "freq                30"
      ]
     },
     "execution_count": 49,
     "metadata": {},
     "output_type": "execute_result"
    }
   ],
   "source": [
    "countries.describe(include='object')"
   ]
  },
  {
   "cell_type": "markdown",
   "metadata": {},
   "source": [
    "📌📌📌 **Задание 2 (30 баллов)**\n",
    "\n",
    "В отдельный датасет `data_new` скопируйте из исходной таблицы `countries` информацию за 2009 год. \n",
    "\n",
    "Удалите столбец с информацией о продолжительности жизни и процентом грамотного населения. Затем в оставшемся датасете удалите все строки с пропусками.\n",
    "\n",
    "Создайте новый столбец `normal_weight` в который поместите информацию о проценте детей с нормальным весом (т.е. не имеющим недовеса underweight или избыточного веса overweight ).\n",
    "\n",
    "Выведите датасет на экран."
   ]
  },
  {
   "cell_type": "code",
   "execution_count": 50,
   "metadata": {
    "collapsed": true
   },
   "outputs": [
    {
     "data": {
      "text/html": [
       "<div>\n",
       "<style scoped>\n",
       "    .dataframe tbody tr th:only-of-type {\n",
       "        vertical-align: middle;\n",
       "    }\n",
       "\n",
       "    .dataframe tbody tr th {\n",
       "        vertical-align: top;\n",
       "    }\n",
       "\n",
       "    .dataframe thead th {\n",
       "        text-align: right;\n",
       "    }\n",
       "</style>\n",
       "<table border=\"1\" class=\"dataframe\">\n",
       "  <thead>\n",
       "    <tr style=\"text-align: right;\">\n",
       "      <th></th>\n",
       "      <th>Country or Area</th>\n",
       "      <th>Year</th>\n",
       "      <th>Child overweight percent</th>\n",
       "      <th>Child underweight percent</th>\n",
       "      <th>normal_weight</th>\n",
       "    </tr>\n",
       "  </thead>\n",
       "  <tbody>\n",
       "    <tr>\n",
       "      <th>1332</th>\n",
       "      <td>Albania</td>\n",
       "      <td>2009</td>\n",
       "      <td>23.366667</td>\n",
       "      <td>6.300000</td>\n",
       "      <td>70.333333</td>\n",
       "    </tr>\n",
       "    <tr>\n",
       "      <th>1516</th>\n",
       "      <td>Guyana</td>\n",
       "      <td>2009</td>\n",
       "      <td>6.666667</td>\n",
       "      <td>11.100000</td>\n",
       "      <td>82.233333</td>\n",
       "    </tr>\n",
       "    <tr>\n",
       "      <th>1564</th>\n",
       "      <td>Kyrgyzstan</td>\n",
       "      <td>2009</td>\n",
       "      <td>4.400000</td>\n",
       "      <td>4.700000</td>\n",
       "      <td>90.900000</td>\n",
       "    </tr>\n",
       "    <tr>\n",
       "      <th>1802</th>\n",
       "      <td>Venezuela (Bolivarian Republic of)</td>\n",
       "      <td>2009</td>\n",
       "      <td>6.400000</td>\n",
       "      <td>2.900000</td>\n",
       "      <td>90.700000</td>\n",
       "    </tr>\n",
       "    <tr>\n",
       "      <th>1903</th>\n",
       "      <td>China</td>\n",
       "      <td>2009</td>\n",
       "      <td>5.266667</td>\n",
       "      <td>4.600000</td>\n",
       "      <td>90.133333</td>\n",
       "    </tr>\n",
       "    <tr>\n",
       "      <th>1910</th>\n",
       "      <td>Costa Rica</td>\n",
       "      <td>2009</td>\n",
       "      <td>8.100000</td>\n",
       "      <td>1.166667</td>\n",
       "      <td>90.733333</td>\n",
       "    </tr>\n",
       "    <tr>\n",
       "      <th>1920</th>\n",
       "      <td>Democratic People's Republic of Korea</td>\n",
       "      <td>2009</td>\n",
       "      <td>0.000000</td>\n",
       "      <td>18.800000</td>\n",
       "      <td>81.200000</td>\n",
       "    </tr>\n",
       "    <tr>\n",
       "      <th>1950</th>\n",
       "      <td>Georgia</td>\n",
       "      <td>2009</td>\n",
       "      <td>19.833333</td>\n",
       "      <td>1.133333</td>\n",
       "      <td>79.033333</td>\n",
       "    </tr>\n",
       "    <tr>\n",
       "      <th>1960</th>\n",
       "      <td>Guatemala</td>\n",
       "      <td>2009</td>\n",
       "      <td>4.933333</td>\n",
       "      <td>13.000000</td>\n",
       "      <td>82.066667</td>\n",
       "    </tr>\n",
       "    <tr>\n",
       "      <th>2001</th>\n",
       "      <td>Jordan</td>\n",
       "      <td>2009</td>\n",
       "      <td>6.566667</td>\n",
       "      <td>1.866667</td>\n",
       "      <td>91.566667</td>\n",
       "    </tr>\n",
       "    <tr>\n",
       "      <th>2008</th>\n",
       "      <td>Kenya</td>\n",
       "      <td>2009</td>\n",
       "      <td>5.000000</td>\n",
       "      <td>16.400000</td>\n",
       "      <td>78.600000</td>\n",
       "    </tr>\n",
       "    <tr>\n",
       "      <th>2015</th>\n",
       "      <td>Kuwait</td>\n",
       "      <td>2009</td>\n",
       "      <td>9.000000</td>\n",
       "      <td>1.733333</td>\n",
       "      <td>89.266667</td>\n",
       "    </tr>\n",
       "    <tr>\n",
       "      <th>2033</th>\n",
       "      <td>Malawi</td>\n",
       "      <td>2009</td>\n",
       "      <td>4.933333</td>\n",
       "      <td>12.100000</td>\n",
       "      <td>82.966667</td>\n",
       "    </tr>\n",
       "    <tr>\n",
       "      <th>2038</th>\n",
       "      <td>Maldives</td>\n",
       "      <td>2009</td>\n",
       "      <td>6.933333</td>\n",
       "      <td>17.800000</td>\n",
       "      <td>75.266667</td>\n",
       "    </tr>\n",
       "    <tr>\n",
       "      <th>2080</th>\n",
       "      <td>Oman</td>\n",
       "      <td>2009</td>\n",
       "      <td>1.733333</td>\n",
       "      <td>8.600000</td>\n",
       "      <td>89.666667</td>\n",
       "    </tr>\n",
       "    <tr>\n",
       "      <th>2111</th>\n",
       "      <td>Sao Tome and Principe</td>\n",
       "      <td>2009</td>\n",
       "      <td>11.600000</td>\n",
       "      <td>14.433333</td>\n",
       "      <td>73.966667</td>\n",
       "    </tr>\n",
       "    <tr>\n",
       "      <th>2135</th>\n",
       "      <td>Sri Lanka</td>\n",
       "      <td>2009</td>\n",
       "      <td>0.833333</td>\n",
       "      <td>21.600000</td>\n",
       "      <td>77.566667</td>\n",
       "    </tr>\n",
       "    <tr>\n",
       "      <th>2142</th>\n",
       "      <td>Syrian Arab Republic</td>\n",
       "      <td>2009</td>\n",
       "      <td>17.933333</td>\n",
       "      <td>10.100000</td>\n",
       "      <td>71.966667</td>\n",
       "    </tr>\n",
       "    <tr>\n",
       "      <th>2144</th>\n",
       "      <td>Tajikistan</td>\n",
       "      <td>2009</td>\n",
       "      <td>4.166667</td>\n",
       "      <td>8.333333</td>\n",
       "      <td>87.500000</td>\n",
       "    </tr>\n",
       "  </tbody>\n",
       "</table>\n",
       "</div>"
      ],
      "text/plain": [
       "                            Country or Area  Year  Child overweight percent  \\\n",
       "1332                                Albania  2009                 23.366667   \n",
       "1516                                 Guyana  2009                  6.666667   \n",
       "1564                             Kyrgyzstan  2009                  4.400000   \n",
       "1802     Venezuela (Bolivarian Republic of)  2009                  6.400000   \n",
       "1903                                  China  2009                  5.266667   \n",
       "1910                             Costa Rica  2009                  8.100000   \n",
       "1920  Democratic People's Republic of Korea  2009                  0.000000   \n",
       "1950                                Georgia  2009                 19.833333   \n",
       "1960                              Guatemala  2009                  4.933333   \n",
       "2001                                 Jordan  2009                  6.566667   \n",
       "2008                                  Kenya  2009                  5.000000   \n",
       "2015                                 Kuwait  2009                  9.000000   \n",
       "2033                                 Malawi  2009                  4.933333   \n",
       "2038                               Maldives  2009                  6.933333   \n",
       "2080                                   Oman  2009                  1.733333   \n",
       "2111                  Sao Tome and Principe  2009                 11.600000   \n",
       "2135                              Sri Lanka  2009                  0.833333   \n",
       "2142                   Syrian Arab Republic  2009                 17.933333   \n",
       "2144                             Tajikistan  2009                  4.166667   \n",
       "\n",
       "      Child underweight percent  normal_weight  \n",
       "1332                   6.300000      70.333333  \n",
       "1516                  11.100000      82.233333  \n",
       "1564                   4.700000      90.900000  \n",
       "1802                   2.900000      90.700000  \n",
       "1903                   4.600000      90.133333  \n",
       "1910                   1.166667      90.733333  \n",
       "1920                  18.800000      81.200000  \n",
       "1950                   1.133333      79.033333  \n",
       "1960                  13.000000      82.066667  \n",
       "2001                   1.866667      91.566667  \n",
       "2008                  16.400000      78.600000  \n",
       "2015                   1.733333      89.266667  \n",
       "2033                  12.100000      82.966667  \n",
       "2038                  17.800000      75.266667  \n",
       "2080                   8.600000      89.666667  \n",
       "2111                  14.433333      73.966667  \n",
       "2135                  21.600000      77.566667  \n",
       "2142                  10.100000      71.966667  \n",
       "2144                   8.333333      87.500000  "
      ]
     },
     "execution_count": 50,
     "metadata": {},
     "output_type": "execute_result"
    }
   ],
   "source": [
    "# Ваш код\n",
    "data_new = countries[countries.Year == 2009].copy()\n",
    "\n",
    "data_new = data_new.drop(['Life expectancy', 'Literacy percent'], axis=1)\n",
    "\n",
    "data_new = data_new.dropna()\n",
    "\n",
    "data_new['normal_weight'] = 100 - data_new['Child overweight percent'] - data_new['Child underweight percent']\n",
    "\n",
    "data_new"
   ]
  },
  {
   "cell_type": "markdown",
   "metadata": {},
   "source": [
    "📌📌📌 **Задание 3 (60 баллов)**\n",
    "\n",
    "*Выполняется по вариантам*\n",
    "\n",
    "Вам дана таблица с данными об аренде велосипедов (файл `bikes.csv`). Подробное описание столбцов\n",
    "можно прочитать [здесь](https://archive.ics.uci.edu/ml/datasets/Bike%20Sharing%20Dataset#) (в исходном датасете некоторые величины отнормированы в отрезок $[0; 1]$, в нашей версии датасета -- нет).\n",
    "\n",
    "В задании могут понадобиться следующие поля таблицы:\n",
    "- `datetime`: дата аренды\n",
    "- `season`: сезоны проката: \n",
    "    - 1: зима\n",
    "    - 2: весна\n",
    "    - 3: лето\n",
    "    - 4: осень\n",
    "- `workingday`: являлся ли день рабочим\n",
    "    - 0: праздники или выходные\n",
    "    - 1: обычный рабочий день\n",
    "-`weathersit`: облачность/осадки\n",
    "    - 1: ясно/малооблачно\n",
    "    - 2: туман\n",
    "    - 3: небольшие осадки\n",
    "    - 4: сильные осадки\n",
    "- `temp`: температура воздуха по Цельсию\n",
    "- `hum`: влажность воздуха (значения из $[0,1]$)\n",
    "- `windspeed`: скорость ветра\n",
    "- `cnt`: общее число аренд (обычных аренд и аренд по абонементу)\n",
    "- `yr`: год (0: 2011 год, 1: 2012 год)\n",
    "- `mnth`: месяц (1-12)\n",
    "\n",
    "**Необходимо:**\n",
    "1. считать таблицу;\n",
    "\n",
    "**вариант 1:**\n",
    "\n",
    "2. проверить её на наличие пропущенных значений и обработать пропуски (не удалять, а заменить подходящими статистиками);\n",
    "3. вывести строки, содержащие информацию за летний и зимний сезон;\n",
    "4. вывести информацию о числе нерабочих дней, когда температура превышала $10$ градусов;\n",
    "5. вывести среднее число аренд велосипедов в январе в 2011 году;\n",
    "6. вывести минимальную и максимальную температуру за апрель и май.\n",
    "\n",
    "**вариант 2:**\n",
    "\n",
    "2. проверить её на наличие пропущенных значений и обработать пропуски (не удалять, а заменить подходящими статистиками);\n",
    "3. вывести строки, содержащие информацию только для дней, когда стояла ясная/малооблачная погода;\n",
    "4. вывести информацию о том, какой была температура воздуха в дни сильного ветра($>15$);\n",
    "5. вывести среднее число аренд велосипедов летом 2011 года;\n",
    "6. вывести медианное значение температуры в феврале 2012.\n",
    "\n",
    "**вариант 3:**\n",
    "\n",
    "2. проверить её на наличие пропущенных значений и обработать пропуски (не удалять, а заменить подходящими статистиками);\n",
    "3. вывести строки, содержащие информацию только по рабочим дням;\n",
    "4. вывести информацию о числе жарких (выше 26 градусов) дней летом 2012;\n",
    "5. вывести среднее число аренд велосипедов в ясную/малооблачную погоду;\n",
    "6. вывести медианное значение температуры в феврале 2012.\n",
    "\n",
    "**вариант 4:**\n",
    "\n",
    "2. проверить её на наличие пропущенных значений и обработать пропуски. При этом часть пропусков заменить подходящими статистиками, а хотя бы для одной переменной из датасета придумать и реализовать более продвиную стратегию заполнения пропусков;\n",
    "3. вывести строки, содержащие информацию за май 2011;\n",
    "4. вывести информацию о  десяти наиболее часто встречающихся значениях температуры воздуха;\n",
    "5. вывести максимальное число аренд велосипедов при сильном ветре ($>15$);\n",
    "6. используя метод `groupby()` вывести информацию о среднем и о стандартном отклонении числа аренд велосипедов по сезонам."
   ]
  },
  {
   "cell_type": "code",
   "execution_count": null,
   "metadata": {
    "collapsed": true
   },
   "outputs": [
    {
     "name": "stdout",
     "output_type": "stream",
     "text": [
      "Пропуски до обработки:\n",
      "instant       10\n",
      "dteday        11\n",
      "season         9\n",
      "yr            13\n",
      "mnth          11\n",
      "holiday        2\n",
      "weekday        8\n",
      "workingday    12\n",
      "weathersit    11\n",
      "temp          12\n",
      "atemp          4\n",
      "hum            4\n",
      "windspeed      4\n",
      "casual         9\n",
      "registered     2\n",
      "cnt            8\n",
      "dtype: int64\n",
      "\n",
      "Пропуски после обработки:\n",
      "instant       0\n",
      "dteday        0\n",
      "season        0\n",
      "yr            0\n",
      "mnth          0\n",
      "holiday       0\n",
      "weekday       0\n",
      "workingday    0\n",
      "weathersit    0\n",
      "temp          0\n",
      "atemp         0\n",
      "hum           0\n",
      "windspeed     0\n",
      "casual        0\n",
      "registered    0\n",
      "cnt           0\n",
      "dtype: int64\n",
      "\n",
      "Данные за май 2011:\n",
      "     instant     dteday  season  yr  mnth  holiday  weekday  workingday  \\\n",
      "120    121.0 2011-05-01     2.0   0   5.0      0.0        6         0.0   \n",
      "121    122.0 2011-05-02     2.0   0   5.0      0.0        0         1.0   \n",
      "122    123.0 2011-05-03     2.0   0   5.0      0.0        1         1.0   \n",
      "123    124.0 2011-05-04     2.0   0   5.0      0.0        2         1.0   \n",
      "124    125.0 2011-05-05     2.0   0   5.0      0.0        3         1.0   \n",
      "125    126.0 2011-05-06     2.0   0   5.0      0.0        4         1.0   \n",
      "126    127.0 2011-05-07     2.0   0   5.0      0.0        5         0.0   \n",
      "127    128.0 2011-05-08     2.0   0   5.0      0.0        6         0.0   \n",
      "128    129.0 2011-05-09     2.0   0   5.0      0.0        0         1.0   \n",
      "129    130.0 2011-05-10     2.0   0   5.0      0.0        1         1.0   \n",
      "130    131.0 2011-05-11     2.0   0   5.0      0.0        2         1.0   \n",
      "131    132.0 2011-05-12     2.0   0   5.0      0.0        3         1.0   \n",
      "132    133.0 2011-05-13     2.0   0   5.0      0.0        4         1.0   \n",
      "133    134.0 2011-05-14     2.0   0   5.0      0.0        5         0.0   \n",
      "134    135.0 2011-05-15     2.0   0   5.0      0.0        6         0.0   \n",
      "135    136.0 2011-05-16     2.0   0   5.0      0.0        0         1.0   \n",
      "136    137.0 2011-05-17     2.0   0   5.0      0.0        1         1.0   \n",
      "137    138.0 2011-05-18     2.0   0   5.0      0.0        2         1.0   \n",
      "138    139.0 2011-05-19     2.0   0   5.0      0.0        3         1.0   \n",
      "139    140.0 2011-05-20     2.0   0   5.0      0.0        4         1.0   \n",
      "140    141.0 2011-05-21     2.0   0   5.0      0.0        5         0.0   \n",
      "141    142.0 2011-05-22     2.0   0   5.0      0.0        6         0.0   \n",
      "142    143.0 2011-05-23     2.0   0   5.0      0.0        0         1.0   \n",
      "143    144.0 2011-05-24     2.0   0   5.0      0.0        1         1.0   \n",
      "144    145.0 2011-05-25     2.0   0   5.0      0.0        2         1.0   \n",
      "145    146.0 2011-05-26     2.0   0   5.0      0.0        3         1.0   \n",
      "146    147.0 2011-05-27     2.0   0   5.0      0.0        4         1.0   \n",
      "147    148.0 2011-05-28     2.0   0   5.0      0.0        5         0.0   \n",
      "148    149.0 2011-05-29     2.0   0   5.0      0.0        6         0.0   \n",
      "149    150.0 2011-05-30     2.0   0   5.0      1.0        0         0.0   \n",
      "150    151.0 2011-05-31     2.0   0   5.0      0.0        1         1.0   \n",
      "\n",
      "     weathersit       temp      atemp       hum  windspeed  casual  \\\n",
      "120         2.0  13.228349  13.581464  0.762083   7.125718  1138.0   \n",
      "121         2.0  17.810849  19.166978  0.730000  12.291418   847.0   \n",
      "122         2.0  20.983349  22.417214  0.697083  22.958689   603.0   \n",
      "123         2.0  11.465849  10.706900  0.737083  22.042732   255.0   \n",
      "124         1.0  13.580849  13.166522  0.444167  19.791264   614.0   \n",
      "125         1.0  14.520849  15.291722  0.590000  15.292482   894.0   \n",
      "126         1.0  16.440000  17.832986  0.541250  10.750150  1612.0   \n",
      "127         1.0  16.831651  18.249578  0.631667   5.000712  1401.0   \n",
      "128         1.0  17.027500  18.666236  0.588750  11.792000   664.0   \n",
      "129         1.0  17.027500  18.499586  0.489167   7.749957   694.0   \n",
      "130         1.0  17.497500  18.874400  0.632917   8.083014   550.0   \n",
      "131         1.0  17.145000  18.541958  0.747500  12.707689   695.0   \n",
      "132         2.0  16.087500  16.623800  0.863333  12.041575   692.0   \n",
      "133         2.0  16.479151  17.041514  0.922500   9.041650   902.0   \n",
      "134         2.0  18.437500  19.376000  0.867083  10.249593  1582.0   \n",
      "135         1.0  19.142500  20.333792  0.787917   8.500357   773.0   \n",
      "136         2.0  18.398349  19.542914  0.837917  18.582718   678.0   \n",
      "137         2.0  17.850000  18.792428  0.870000  13.499964   536.0   \n",
      "138         2.0  16.949151  17.708972  0.829583   7.250271   735.0   \n",
      "139         1.0  17.223349  18.916772  0.719583   8.375871   909.0   \n",
      "140         1.0  20.317500  21.750350  0.626667   8.083550  2258.0   \n",
      "141         1.0  20.395849  21.917000  0.749583   9.916536  1576.0   \n",
      "142         2.0  21.688349  22.959536  0.810000  15.667414   836.0   \n",
      "143         2.0  23.020000  23.917658  0.740833  13.875164   659.0   \n",
      "144         1.0  23.059151  24.625772  0.696250  10.333611   740.0   \n",
      "145         1.0  23.548750  27.209408  0.677500  13.376014   758.0   \n",
      "146         1.0  24.038349  16.124378  0.653750  16.125493   871.0   \n",
      "147         1.0  22.824151  24.417014  0.729583  15.416164  2001.0   \n",
      "148         1.0  23.372500  24.626300  0.818750  12.125325  2355.0   \n",
      "149         1.0  26.466651  28.292072  0.685000   8.792075  1549.0   \n",
      "150         1.0  28.425000  31.875278  0.636667   7.459043   673.0   \n",
      "\n",
      "     registered     cnt  \n",
      "120      2213.0  3351.0  \n",
      "121      3554.0  4401.0  \n",
      "122      3848.0  4451.0  \n",
      "123      2378.0  2633.0  \n",
      "124      3819.0  4433.0  \n",
      "125      3714.0  4608.0  \n",
      "126      3102.0  4714.0  \n",
      "127      2932.0  4333.0  \n",
      "128      3698.0  4362.0  \n",
      "129      4109.0  4803.0  \n",
      "130      3632.0  4182.0  \n",
      "131      4169.0  4864.0  \n",
      "132      3413.0  4105.0  \n",
      "133      2507.0  3409.0  \n",
      "134      2971.0  4553.0  \n",
      "135      3185.0  3958.0  \n",
      "136      3445.0  4123.0  \n",
      "137      3319.0  3855.0  \n",
      "138      3840.0  4575.0  \n",
      "139      4008.0  4917.0  \n",
      "140      3547.0  5805.0  \n",
      "141      3084.0  4660.0  \n",
      "142      3438.0  4274.0  \n",
      "143      3833.0  4492.0  \n",
      "144      4238.0  4978.0  \n",
      "145      3919.0  4677.0  \n",
      "146      3808.0  4679.0  \n",
      "147      2757.0  4758.0  \n",
      "148      2433.0  4788.0  \n",
      "149      2549.0  4098.0  \n",
      "150      3309.0  3982.0  \n",
      "\n",
      "10 наиболее частых значений температуры:\n",
      "temp\n",
      "4.494151     5\n",
      "21.845000    5\n",
      "22.510849    4\n",
      "24.743349    4\n",
      "23.960000    4\n",
      "25.409151    4\n",
      "18.515849    4\n",
      "12.484151    3\n",
      "8.097500     3\n",
      "7.000849     3\n",
      "Name: count, dtype: int64\n",
      "\n",
      "Максимальное число аренд при ветре >15: 8714.0\n",
      "\n",
      "Статистики аренд по сезонам:\n",
      "               mean          std\n",
      "season                          \n",
      "1.0     2868.922652  1589.469672\n",
      "2.0     5188.587912  1536.596026\n",
      "3.0     5642.163043  1535.360332\n",
      "4.0     4262.086957  1769.488152\n",
      "0       1.0\n",
      "1       1.0\n",
      "2       1.0\n",
      "3       1.0\n",
      "4       1.0\n",
      "       ... \n",
      "726    12.0\n",
      "727    12.0\n",
      "728    12.0\n",
      "729    12.0\n",
      "730    12.0\n",
      "Name: mnth, Length: 731, dtype: float64\n"
     ]
    }
   ],
   "source": [
    "# ваш код вариант 4\n",
    "# 1\n",
    "bikes = pd.read_csv('bikes.csv')\n",
    "\n",
    "# 2\n",
    "print(\"Пропуски до обработки:\")\n",
    "print(bikes.isnull().sum())\n",
    "\n",
    "# похоже на поле аналогичное Id\n",
    "bikes['instant'] = bikes['instant'].interpolate().round().astype(float)\n",
    "\n",
    "bikes['temp'] = bikes['temp'].interpolate().astype(float)\n",
    "\n",
    "bikes['hum'] = bikes['hum'].interpolate().astype(float)\n",
    "\n",
    "bikes['dteday'] = pd.to_datetime(bikes['dteday'])\n",
    "\n",
    "# Судя по структуре данных дни должны идти по порядку\n",
    "base_date = bikes['dteday'].min()\n",
    "bikes['dteday'] = base_date + pd.to_timedelta(bikes['instant'] - 1, unit='D')\n",
    "\n",
    "bikes['mnth'] = bikes['dteday'].dt.month.astype(float)\n",
    "\n",
    "bikes['season'] = bikes['dteday'].dt.quarter.astype(float)\n",
    "\n",
    "bikes['yr'] = bikes['dteday'].dt.year-bikes['dteday'].dt.year.min()\n",
    "\n",
    "bikes['holiday'] = bikes['holiday'].fillna(value=0.0)\n",
    "\n",
    "bikes['weekday'] = bikes['dteday'].dt.weekday\n",
    "\n",
    "# Для weathersit заполняем в зависимости от сезона\n",
    "bikes['weathersit'] = bikes.groupby('season')['weathersit'].transform(\n",
    "    lambda x: x.fillna(x.mode()[0] if not x.mode().empty else 1)\n",
    ")\n",
    "#пользуемся возмножстями datetime\n",
    "bikes['workingday'] = bikes['workingday'].fillna(\n",
    "    bikes['dteday'].dt.dayofweek.apply(lambda x: 1 if x < 5 else 0)\n",
    ")\n",
    "#все прочее заполним медианой\n",
    "numeric_cols = bikes.select_dtypes(include=['float64', 'int64']).columns\n",
    "for col in numeric_cols:\n",
    "    bikes[col] = bikes[col].fillna(bikes[col].median())\n",
    "\n",
    "print(\"\\nПропуски после обработки:\")\n",
    "print(bikes.isnull().sum())\n",
    "\n",
    "# 3\n",
    "may_2011 = bikes[(bikes.yr == 0) & (bikes.mnth == 5)]\n",
    "print(\"\\nДанные за май 2011:\")\n",
    "print(may_2011)\n",
    "\n",
    "# 4\n",
    "print(\"\\n10 наиболее частых значений температуры:\")\n",
    "print(bikes['temp'].value_counts().head(10))\n",
    "\n",
    "# 5\n",
    "strong_wind = bikes[bikes.windspeed > 15]\n",
    "max_rentals = strong_wind['cnt'].max()\n",
    "print(f\"\\nМаксимальное число аренд при ветре >15: {max_rentals}\")\n",
    "\n",
    "# 6\n",
    "season_stats = bikes.groupby('season')['cnt'].agg(['mean', 'std'])\n",
    "print(\"\\nСтатистики аренд по сезонам:\")\n",
    "print(season_stats)\n",
    "\n",
    "#write bikes to csv\n",
    "#bikes.to_csv('bikes_filled.csv', index=False)"
   ]
  }
 ],
 "metadata": {
  "kernelspec": {
   "display_name": "data_science (3.13.5)",
   "language": "python",
   "name": "python3"
  },
  "language_info": {
   "codemirror_mode": {
    "name": "ipython",
    "version": 3
   },
   "file_extension": ".py",
   "mimetype": "text/x-python",
   "name": "python",
   "nbconvert_exporter": "python",
   "pygments_lexer": "ipython3",
   "version": "3.13.5"
  },
  "varInspector": {
   "cols": {
    "lenName": 16,
    "lenType": 16,
    "lenVar": 40
   },
   "kernels_config": {
    "python": {
     "delete_cmd_postfix": "",
     "delete_cmd_prefix": "del ",
     "library": "var_list.py",
     "varRefreshCmd": "print(var_dic_list())"
    },
    "r": {
     "delete_cmd_postfix": ") ",
     "delete_cmd_prefix": "rm(",
     "library": "var_list.r",
     "varRefreshCmd": "cat(var_dic_list()) "
    }
   },
   "types_to_exclude": [
    "module",
    "function",
    "builtin_function_or_method",
    "instance",
    "_Feature"
   ],
   "window_display": false
  }
 },
 "nbformat": 4,
 "nbformat_minor": 2
}
