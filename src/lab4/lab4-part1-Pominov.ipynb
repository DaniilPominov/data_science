{
 "cells": [
  {
   "cell_type": "markdown",
   "metadata": {},
   "source": [
    "# Лабораторная работа 4. Разведочный анализ данных\n",
    "\n",
    "## Часть 1. Описательный анализ.\n",
    "\n",
    "Скачайте в рабочую директорию файл `cardio_train.csv` - в нем находятся данные, с которыми вы будете работать.\n",
    "\n",
    "Данная работа состоит из **трех** заданий. Они записаны в блокноте после символов 📌📌📌 . Для записи ответов используйте ячейки под заданиями, содержащие запись `# Ваш код`.\n",
    "\n",
    "При выполнении работы рекомендуется обращаться:\n",
    "\n",
    "- [к справке по Python 3](https://docs.python.org/3/tutorial/index.html),\n",
    "- к учебнику `У. Маккини. Python и анализ данных`\n",
    "- [к шпаргалке по Pandas на Harbr](https://habr.com/ru/company/ruvds/blog/494720/)"
   ]
  },
  {
   "cell_type": "code",
   "execution_count": 1,
   "metadata": {},
   "outputs": [],
   "source": [
    "import pandas as pd\n",
    "import matplotlib.pyplot as plt"
   ]
  },
  {
   "cell_type": "markdown",
   "metadata": {},
   "source": [
    "## Полезный функционал: lambda-фукции, метод pandas.apply()"
   ]
  },
  {
   "cell_type": "markdown",
   "metadata": {},
   "source": [
    "Анонимные или лямбда-функции - это простые однострочные функции, возвращающие значение. Определяются они с помощью слова `lambda`, которое указывает, что далее будет записан аргумент, а затем - тело анонимной функции. В примере ниже покоординатное применения функции f(x) реализовано двумя разными способами: обычным способом и с помощью лямбда функции."
   ]
  },
  {
   "cell_type": "code",
   "execution_count": 2,
   "metadata": {},
   "outputs": [],
   "source": [
    "def apply_to_list(mylist, myfun):\n",
    "        return([myfun(x) for x in mylist])"
   ]
  },
  {
   "cell_type": "code",
   "execution_count": 3,
   "metadata": {
    "scrolled": true
   },
   "outputs": [
    {
     "data": {
      "text/plain": [
       "[6, 15, 30]"
      ]
     },
     "execution_count": 3,
     "metadata": {},
     "output_type": "execute_result"
    }
   ],
   "source": [
    "# обычное определение пользовательской функции\n",
    "def f(x):\n",
    "    return(3*x**2+3)\n",
    "apply_to_list([1,2,3], f)"
   ]
  },
  {
   "cell_type": "code",
   "execution_count": 4,
   "metadata": {},
   "outputs": [
    {
     "data": {
      "text/plain": [
       "[6, 15, 30]"
      ]
     },
     "execution_count": 4,
     "metadata": {},
     "output_type": "execute_result"
    }
   ],
   "source": [
    "# лямбда-функция\n",
    "apply_to_list([1,2,3], lambda x:3*x**2+3)"
   ]
  },
  {
   "cell_type": "markdown",
   "metadata": {},
   "source": [
    "Часто встречается ситуация, когда функция, определенная для скалярной переменной или одномерного вектора,  должна быть применена к столбцу или строке датафрейма.\n",
    "В этом случае можно воспользоваться методом `apply` объекта DataFrame.\n",
    "Разберитесь, что происходит в ячейках ниже."
   ]
  },
  {
   "cell_type": "code",
   "execution_count": 5,
   "metadata": {},
   "outputs": [],
   "source": [
    "my_df=pd.DataFrame(data={\"a\":[1,2,3,1,2,2], \"b\":[1.25, 3.83, 2.789,3.456, 6.45, 3], \"name\":[\"Mary\", \"Kate\", \"Olga\", \"Kate\", \"Olga\", \"Kate\"]})"
   ]
  },
  {
   "cell_type": "code",
   "execution_count": 6,
   "metadata": {},
   "outputs": [
    {
     "data": {
      "application/vnd.microsoft.datawrangler.viewer.v0+json": {
       "columns": [
        {
         "name": "index",
         "rawType": "int64",
         "type": "integer"
        },
        {
         "name": "a",
         "rawType": "int64",
         "type": "integer"
        }
       ],
       "ref": "4e4a2a4a-74a8-4ec1-8c0c-734d9e31be3e",
       "rows": [
        [
         "0",
         "6"
        ],
        [
         "1",
         "15"
        ],
        [
         "2",
         "30"
        ],
        [
         "3",
         "6"
        ],
        [
         "4",
         "15"
        ],
        [
         "5",
         "15"
        ]
       ],
       "shape": {
        "columns": 1,
        "rows": 6
       }
      },
      "text/plain": [
       "0     6\n",
       "1    15\n",
       "2    30\n",
       "3     6\n",
       "4    15\n",
       "5    15\n",
       "Name: a, dtype: int64"
      ]
     },
     "execution_count": 6,
     "metadata": {},
     "output_type": "execute_result"
    }
   ],
   "source": [
    "my_df['a'].apply(f)"
   ]
  },
  {
   "cell_type": "code",
   "execution_count": 7,
   "metadata": {},
   "outputs": [
    {
     "data": {
      "application/vnd.microsoft.datawrangler.viewer.v0+json": {
       "columns": [
        {
         "name": "index",
         "rawType": "object",
         "type": "string"
        },
        {
         "name": "0",
         "rawType": "float64",
         "type": "float"
        }
       ],
       "ref": "3aab8f49-3aed-4114-b37e-83a8d18cf827",
       "rows": [
        [
         "a",
         "11.0"
        ],
        [
         "b",
         "20.775"
        ]
       ],
       "shape": {
        "columns": 1,
        "rows": 2
       }
      },
      "text/plain": [
       "a    11.000\n",
       "b    20.775\n",
       "dtype: float64"
      ]
     },
     "execution_count": 7,
     "metadata": {},
     "output_type": "execute_result"
    }
   ],
   "source": [
    "my_df[['a','b']].apply(sum)"
   ]
  },
  {
   "cell_type": "code",
   "execution_count": 8,
   "metadata": {},
   "outputs": [
    {
     "data": {
      "application/vnd.microsoft.datawrangler.viewer.v0+json": {
       "columns": [
        {
         "name": "index",
         "rawType": "int64",
         "type": "integer"
        },
        {
         "name": "0",
         "rawType": "float64",
         "type": "float"
        }
       ],
       "ref": "62c85511-158b-4707-a340-c5504bf3ff29",
       "rows": [
        [
         "0",
         "2.25"
        ],
        [
         "1",
         "5.83"
        ],
        [
         "2",
         "5.789"
        ],
        [
         "3",
         "4.4559999999999995"
        ],
        [
         "4",
         "8.45"
        ],
        [
         "5",
         "5.0"
        ]
       ],
       "shape": {
        "columns": 1,
        "rows": 6
       }
      },
      "text/plain": [
       "0    2.250\n",
       "1    5.830\n",
       "2    5.789\n",
       "3    4.456\n",
       "4    8.450\n",
       "5    5.000\n",
       "dtype: float64"
      ]
     },
     "execution_count": 8,
     "metadata": {},
     "output_type": "execute_result"
    }
   ],
   "source": [
    "my_df[['a','b']].apply(sum, axis='columns')"
   ]
  },
  {
   "cell_type": "code",
   "execution_count": 9,
   "metadata": {},
   "outputs": [
    {
     "data": {
      "application/vnd.microsoft.datawrangler.viewer.v0+json": {
       "columns": [
        {
         "name": "index",
         "rawType": "int64",
         "type": "integer"
        },
        {
         "name": "b",
         "rawType": "int64",
         "type": "integer"
        }
       ],
       "ref": "6eda973c-2248-4702-89c5-fa3a84cc39c9",
       "rows": [
        [
         "0",
         "1"
        ],
        [
         "1",
         "3"
        ],
        [
         "2",
         "2"
        ],
        [
         "3",
         "3"
        ],
        [
         "4",
         "6"
        ],
        [
         "5",
         "3"
        ]
       ],
       "shape": {
        "columns": 1,
        "rows": 6
       }
      },
      "text/plain": [
       "0    1\n",
       "1    3\n",
       "2    2\n",
       "3    3\n",
       "4    6\n",
       "5    3\n",
       "Name: b, dtype: int64"
      ]
     },
     "execution_count": 9,
     "metadata": {},
     "output_type": "execute_result"
    }
   ],
   "source": [
    "my_df['b'].apply(int)"
   ]
  },
  {
   "cell_type": "markdown",
   "metadata": {},
   "source": [
    "**Замечание:** Отметим, что очень удобно использовать метод `apply` для изменения типа столбца датафрейма."
   ]
  },
  {
   "cell_type": "markdown",
   "metadata": {},
   "source": [
    "## Агрегирование данных\n",
    "Рассмотрим несколько инструментов агрегирования данных:\n",
    "- **функция groupby**\n",
    "\n",
    "  позволяет группировать данные по некоторому признаку и применять к результату различные функции.\n",
    "\n",
    "Изучите представленные ниже примеры применения функции `groupby` и прочитайте более подробную информацию о этой функции в книге `У. Маккини. Python и анализ данных, стр. 312-315 `"
   ]
  },
  {
   "cell_type": "code",
   "execution_count": 10,
   "metadata": {},
   "outputs": [
    {
     "data": {
      "application/vnd.microsoft.datawrangler.viewer.v0+json": {
       "columns": [
        {
         "name": "name",
         "rawType": "object",
         "type": "string"
        },
        {
         "name": "a",
         "rawType": "int64",
         "type": "integer"
        }
       ],
       "ref": "a2ca72cf-e450-4749-b919-54d3a54519b1",
       "rows": [
        [
         "Kate",
         "1"
        ],
        [
         "Mary",
         "1"
        ],
        [
         "Olga",
         "2"
        ]
       ],
       "shape": {
        "columns": 1,
        "rows": 3
       }
      },
      "text/plain": [
       "name\n",
       "Kate    1\n",
       "Mary    1\n",
       "Olga    2\n",
       "Name: a, dtype: int64"
      ]
     },
     "execution_count": 10,
     "metadata": {},
     "output_type": "execute_result"
    }
   ],
   "source": [
    "my_df.groupby('name')['a'].min()"
   ]
  },
  {
   "cell_type": "code",
   "execution_count": 11,
   "metadata": {},
   "outputs": [
    {
     "data": {
      "application/vnd.microsoft.datawrangler.viewer.v0+json": {
       "columns": [
        {
         "name": "('name', 'a')",
         "rawType": "object",
         "type": "unknown"
        },
        {
         "name": "b",
         "rawType": "float64",
         "type": "float"
        }
       ],
       "ref": "908c9039-41e8-4809-b6fa-9a4111a70d87",
       "rows": [
        [
         "('Kate', np.int64(1))",
         "3.456"
        ],
        [
         "('Kate', np.int64(2))",
         "3.415"
        ],
        [
         "('Mary', np.int64(1))",
         "1.25"
        ],
        [
         "('Olga', np.int64(2))",
         "6.45"
        ],
        [
         "('Olga', np.int64(3))",
         "2.789"
        ]
       ],
       "shape": {
        "columns": 1,
        "rows": 5
       }
      },
      "text/plain": [
       "name  a\n",
       "Kate  1    3.456\n",
       "      2    3.415\n",
       "Mary  1    1.250\n",
       "Olga  2    6.450\n",
       "      3    2.789\n",
       "Name: b, dtype: float64"
      ]
     },
     "execution_count": 11,
     "metadata": {},
     "output_type": "execute_result"
    }
   ],
   "source": [
    "my_df.groupby(['name','a'])['b'].mean()"
   ]
  },
  {
   "cell_type": "markdown",
   "metadata": {},
   "source": [
    "- **сводная таблица pivot_table**\n",
    "\n",
    "Это средство обобщения данных. Оно агрегирует таблицу по одному или нескольким ключам и строит другую таблицу, в кторой одни групповые ключи расположены в строках, а другие - в столбцах.\n",
    "\n",
    "Изучите примеры применения метода `pivot_table` объекта DataFrame и прочитайте более подробно о сводных таблицах в учебнике `У. Маккини. Python и анализ данных, стр. 331-333 `"
   ]
  },
  {
   "cell_type": "code",
   "execution_count": 12,
   "metadata": {},
   "outputs": [
    {
     "data": {
      "application/vnd.microsoft.datawrangler.viewer.v0+json": {
       "columns": [
        {
         "name": "name",
         "rawType": "object",
         "type": "string"
        },
        {
         "name": "1",
         "rawType": "float64",
         "type": "float"
        },
        {
         "name": "2",
         "rawType": "float64",
         "type": "float"
        },
        {
         "name": "3",
         "rawType": "float64",
         "type": "float"
        }
       ],
       "ref": "450f7a1a-4517-4021-a2b2-6cf2177c47e6",
       "rows": [
        [
         "Kate",
         "3.456",
         "3.415",
         null
        ],
        [
         "Mary",
         "1.25",
         null,
         null
        ],
        [
         "Olga",
         null,
         "6.45",
         "2.789"
        ]
       ],
       "shape": {
        "columns": 3,
        "rows": 3
       }
      },
      "text/html": [
       "<div>\n",
       "<style scoped>\n",
       "    .dataframe tbody tr th:only-of-type {\n",
       "        vertical-align: middle;\n",
       "    }\n",
       "\n",
       "    .dataframe tbody tr th {\n",
       "        vertical-align: top;\n",
       "    }\n",
       "\n",
       "    .dataframe thead th {\n",
       "        text-align: right;\n",
       "    }\n",
       "</style>\n",
       "<table border=\"1\" class=\"dataframe\">\n",
       "  <thead>\n",
       "    <tr style=\"text-align: right;\">\n",
       "      <th>a</th>\n",
       "      <th>1</th>\n",
       "      <th>2</th>\n",
       "      <th>3</th>\n",
       "    </tr>\n",
       "    <tr>\n",
       "      <th>name</th>\n",
       "      <th></th>\n",
       "      <th></th>\n",
       "      <th></th>\n",
       "    </tr>\n",
       "  </thead>\n",
       "  <tbody>\n",
       "    <tr>\n",
       "      <th>Kate</th>\n",
       "      <td>3.456</td>\n",
       "      <td>3.415</td>\n",
       "      <td>NaN</td>\n",
       "    </tr>\n",
       "    <tr>\n",
       "      <th>Mary</th>\n",
       "      <td>1.250</td>\n",
       "      <td>NaN</td>\n",
       "      <td>NaN</td>\n",
       "    </tr>\n",
       "    <tr>\n",
       "      <th>Olga</th>\n",
       "      <td>NaN</td>\n",
       "      <td>6.450</td>\n",
       "      <td>2.789</td>\n",
       "    </tr>\n",
       "  </tbody>\n",
       "</table>\n",
       "</div>"
      ],
      "text/plain": [
       "a         1      2      3\n",
       "name                     \n",
       "Kate  3.456  3.415    NaN\n",
       "Mary  1.250    NaN    NaN\n",
       "Olga    NaN  6.450  2.789"
      ]
     },
     "execution_count": 12,
     "metadata": {},
     "output_type": "execute_result"
    }
   ],
   "source": [
    "my_df.pivot_table(values='b', index='name', columns='a' )\n",
    "# если не задавать фунцию аггрегирования aggfunc, то по умолчанию используется mean"
   ]
  },
  {
   "cell_type": "code",
   "execution_count": 13,
   "metadata": {},
   "outputs": [
    {
     "data": {
      "application/vnd.microsoft.datawrangler.viewer.v0+json": {
       "columns": [
        {
         "name": "name",
         "rawType": "object",
         "type": "string"
        },
        {
         "name": "1",
         "rawType": "float64",
         "type": "float"
        },
        {
         "name": "2",
         "rawType": "float64",
         "type": "float"
        },
        {
         "name": "3",
         "rawType": "float64",
         "type": "float"
        }
       ],
       "ref": "9472ea7b-451b-4c9a-b50d-840f4f1fd75c",
       "rows": [
        [
         "Kate",
         "3.456",
         "3.415",
         "0.0"
        ],
        [
         "Mary",
         "1.25",
         "0.0",
         "0.0"
        ],
        [
         "Olga",
         "0.0",
         "6.45",
         "2.789"
        ]
       ],
       "shape": {
        "columns": 3,
        "rows": 3
       }
      },
      "text/html": [
       "<div>\n",
       "<style scoped>\n",
       "    .dataframe tbody tr th:only-of-type {\n",
       "        vertical-align: middle;\n",
       "    }\n",
       "\n",
       "    .dataframe tbody tr th {\n",
       "        vertical-align: top;\n",
       "    }\n",
       "\n",
       "    .dataframe thead th {\n",
       "        text-align: right;\n",
       "    }\n",
       "</style>\n",
       "<table border=\"1\" class=\"dataframe\">\n",
       "  <thead>\n",
       "    <tr style=\"text-align: right;\">\n",
       "      <th>a</th>\n",
       "      <th>1</th>\n",
       "      <th>2</th>\n",
       "      <th>3</th>\n",
       "    </tr>\n",
       "    <tr>\n",
       "      <th>name</th>\n",
       "      <th></th>\n",
       "      <th></th>\n",
       "      <th></th>\n",
       "    </tr>\n",
       "  </thead>\n",
       "  <tbody>\n",
       "    <tr>\n",
       "      <th>Kate</th>\n",
       "      <td>3.456</td>\n",
       "      <td>3.415</td>\n",
       "      <td>0.000</td>\n",
       "    </tr>\n",
       "    <tr>\n",
       "      <th>Mary</th>\n",
       "      <td>1.250</td>\n",
       "      <td>0.000</td>\n",
       "      <td>0.000</td>\n",
       "    </tr>\n",
       "    <tr>\n",
       "      <th>Olga</th>\n",
       "      <td>0.000</td>\n",
       "      <td>6.450</td>\n",
       "      <td>2.789</td>\n",
       "    </tr>\n",
       "  </tbody>\n",
       "</table>\n",
       "</div>"
      ],
      "text/plain": [
       "a         1      2      3\n",
       "name                     \n",
       "Kate  3.456  3.415  0.000\n",
       "Mary  1.250  0.000  0.000\n",
       "Olga  0.000  6.450  2.789"
      ]
     },
     "execution_count": 13,
     "metadata": {},
     "output_type": "execute_result"
    }
   ],
   "source": [
    "my_df.pivot_table(values='b', index='name', columns='a', fill_value=0 )"
   ]
  },
  {
   "cell_type": "code",
   "execution_count": 14,
   "metadata": {},
   "outputs": [
    {
     "data": {
      "application/vnd.microsoft.datawrangler.viewer.v0+json": {
       "columns": [
        {
         "name": "name",
         "rawType": "object",
         "type": "string"
        },
        {
         "name": "1",
         "rawType": "int64",
         "type": "integer"
        },
        {
         "name": "2",
         "rawType": "int64",
         "type": "integer"
        },
        {
         "name": "3",
         "rawType": "int64",
         "type": "integer"
        }
       ],
       "ref": "d9b003cd-0995-42c4-8dea-aad989e01d57",
       "rows": [
        [
         "Kate",
         "1",
         "2",
         "0"
        ],
        [
         "Mary",
         "1",
         "0",
         "0"
        ],
        [
         "Olga",
         "0",
         "1",
         "1"
        ]
       ],
       "shape": {
        "columns": 3,
        "rows": 3
       }
      },
      "text/html": [
       "<div>\n",
       "<style scoped>\n",
       "    .dataframe tbody tr th:only-of-type {\n",
       "        vertical-align: middle;\n",
       "    }\n",
       "\n",
       "    .dataframe tbody tr th {\n",
       "        vertical-align: top;\n",
       "    }\n",
       "\n",
       "    .dataframe thead th {\n",
       "        text-align: right;\n",
       "    }\n",
       "</style>\n",
       "<table border=\"1\" class=\"dataframe\">\n",
       "  <thead>\n",
       "    <tr style=\"text-align: right;\">\n",
       "      <th>a</th>\n",
       "      <th>1</th>\n",
       "      <th>2</th>\n",
       "      <th>3</th>\n",
       "    </tr>\n",
       "    <tr>\n",
       "      <th>name</th>\n",
       "      <th></th>\n",
       "      <th></th>\n",
       "      <th></th>\n",
       "    </tr>\n",
       "  </thead>\n",
       "  <tbody>\n",
       "    <tr>\n",
       "      <th>Kate</th>\n",
       "      <td>1</td>\n",
       "      <td>2</td>\n",
       "      <td>0</td>\n",
       "    </tr>\n",
       "    <tr>\n",
       "      <th>Mary</th>\n",
       "      <td>1</td>\n",
       "      <td>0</td>\n",
       "      <td>0</td>\n",
       "    </tr>\n",
       "    <tr>\n",
       "      <th>Olga</th>\n",
       "      <td>0</td>\n",
       "      <td>1</td>\n",
       "      <td>1</td>\n",
       "    </tr>\n",
       "  </tbody>\n",
       "</table>\n",
       "</div>"
      ],
      "text/plain": [
       "a     1  2  3\n",
       "name         \n",
       "Kate  1  2  0\n",
       "Mary  1  0  0\n",
       "Olga  0  1  1"
      ]
     },
     "execution_count": 14,
     "metadata": {},
     "output_type": "execute_result"
    }
   ],
   "source": [
    "my_df.pivot_table(values='b', index='name', columns='a', aggfunc='count',  fill_value=0 )"
   ]
  },
  {
   "cell_type": "markdown",
   "metadata": {},
   "source": [
    "- **таблица сопряженности crosstab**\n",
    "\n",
    "это частный случай сводной таблицы, в которой представлены групповые частоты. Более подробную информацию прочтите в учебнике  `У. Маккини. Python и анализ данных, стр. 334 `, а также в справке по этому методу https://pandas.pydata.org/docs/reference/api/pandas.crosstab.html"
   ]
  },
  {
   "cell_type": "code",
   "execution_count": 15,
   "metadata": {},
   "outputs": [
    {
     "data": {
      "application/vnd.microsoft.datawrangler.viewer.v0+json": {
       "columns": [
        {
         "name": "a",
         "rawType": "int64",
         "type": "integer"
        },
        {
         "name": "Kate",
         "rawType": "int64",
         "type": "integer"
        },
        {
         "name": "Mary",
         "rawType": "int64",
         "type": "integer"
        },
        {
         "name": "Olga",
         "rawType": "int64",
         "type": "integer"
        }
       ],
       "ref": "de9ffabf-84d9-4d9c-81e7-c4a6bf5bb033",
       "rows": [
        [
         "1",
         "1",
         "1",
         "0"
        ],
        [
         "2",
         "2",
         "0",
         "1"
        ],
        [
         "3",
         "0",
         "0",
         "1"
        ]
       ],
       "shape": {
        "columns": 3,
        "rows": 3
       }
      },
      "text/html": [
       "<div>\n",
       "<style scoped>\n",
       "    .dataframe tbody tr th:only-of-type {\n",
       "        vertical-align: middle;\n",
       "    }\n",
       "\n",
       "    .dataframe tbody tr th {\n",
       "        vertical-align: top;\n",
       "    }\n",
       "\n",
       "    .dataframe thead th {\n",
       "        text-align: right;\n",
       "    }\n",
       "</style>\n",
       "<table border=\"1\" class=\"dataframe\">\n",
       "  <thead>\n",
       "    <tr style=\"text-align: right;\">\n",
       "      <th>name</th>\n",
       "      <th>Kate</th>\n",
       "      <th>Mary</th>\n",
       "      <th>Olga</th>\n",
       "    </tr>\n",
       "    <tr>\n",
       "      <th>a</th>\n",
       "      <th></th>\n",
       "      <th></th>\n",
       "      <th></th>\n",
       "    </tr>\n",
       "  </thead>\n",
       "  <tbody>\n",
       "    <tr>\n",
       "      <th>1</th>\n",
       "      <td>1</td>\n",
       "      <td>1</td>\n",
       "      <td>0</td>\n",
       "    </tr>\n",
       "    <tr>\n",
       "      <th>2</th>\n",
       "      <td>2</td>\n",
       "      <td>0</td>\n",
       "      <td>1</td>\n",
       "    </tr>\n",
       "    <tr>\n",
       "      <th>3</th>\n",
       "      <td>0</td>\n",
       "      <td>0</td>\n",
       "      <td>1</td>\n",
       "    </tr>\n",
       "  </tbody>\n",
       "</table>\n",
       "</div>"
      ],
      "text/plain": [
       "name  Kate  Mary  Olga\n",
       "a                     \n",
       "1        1     1     0\n",
       "2        2     0     1\n",
       "3        0     0     1"
      ]
     },
     "execution_count": 15,
     "metadata": {},
     "output_type": "execute_result"
    }
   ],
   "source": [
    "pd.crosstab(my_df.a, my_df.name)"
   ]
  },
  {
   "cell_type": "code",
   "execution_count": null,
   "metadata": {},
   "outputs": [],
   "source": []
  },
  {
   "cell_type": "markdown",
   "metadata": {},
   "source": [
    "## Работа с набором данных о сердечно-сосудистых заболеваниях (ССЗ)\n",
    "Набор данных **Cardiovascular Disease dataset** содержит следующую информацию о пациентах:\n",
    "- age (возраст, в днях)\n",
    "- height (рост, в см.)\n",
    "- weight (вес, в кг.)\n",
    "- gender (пол)\n",
    "- ap_hi (систолическое давление)\n",
    "- ap_lo (диастолическое давление)\n",
    "- cholesterol  (уровень холестерина:  1: нормальный, 2: повышенный, 3: очень высокий)\n",
    "- gluc (уровень глюкозы: 1: нормальный, 2: повышенный, 3: очень высокий)\n",
    "- smoke(курение)\n",
    "- alco (употребление алкоголя)\n",
    "- active (физическая активность)\n",
    "- cardio (отсутствие или наличие ССЗ)"
   ]
  },
  {
   "cell_type": "markdown",
   "metadata": {},
   "source": [
    "📌📌📌 **Задание 1**\n",
    "\n",
    "1. Импортируйте данные из файла `cardio_train.csv`. Определите, есть ли в полученном датасете категориальные или бинарные признаки. Если да, то для таких признаков выведите на экран: \n",
    "   - число наблюдений без пропусков\n",
    "   - число уникальных значений\n",
    "   - самое частое значение\n",
    "   - частота, с которой встречается значение top\n",
    "   \n",
    "    Для остальных признаков выведите:\n",
    "   - count - число наблюдений без пропусков\n",
    "    - mean - среднее значение\n",
    "    - std - стандартное отклонение\n",
    "    - min - минимум\n",
    "    - 50% - медиана\n",
    "    - 25% - 25% квантиль\n",
    "    - 75% - 75% квантиль\n",
    "    - max - максимум\n",
    "\n",
    "    Для выполнения этого задания воспользуйтесь методом `pandas.describe()` \n",
    "\n",
    "\n",
    "2. Выведите частоты встречаемости каждого из значений бинарных признаков"
   ]
  },
  {
   "cell_type": "code",
   "execution_count": 16,
   "metadata": {},
   "outputs": [
    {
     "name": "stdout",
     "output_type": "stream",
     "text": [
      "Категориальные и бинарные признаки:\n",
      "       gender cholesterol   gluc  smoke   alco active cardio\n",
      "count   70000       70000  70000  70000  70000  70000  70000\n",
      "unique      2           3      3      2      2      2      2\n",
      "top         1           1      1      0      0      1      0\n",
      "freq    45530       52385  59479  63831  66236  56261  35021\n",
      "\n",
      "Числовые признаки:\n",
      "                age        height        weight         ap_hi         ap_lo\n",
      "count  70000.000000  70000.000000  70000.000000  70000.000000  70000.000000\n",
      "mean   19468.865814    164.359229     74.205690    128.817286     96.630414\n",
      "std     2467.251667      8.210126     14.395757    154.011419    188.472530\n",
      "min    10798.000000     55.000000     10.000000   -150.000000    -70.000000\n",
      "25%    17664.000000    159.000000     65.000000    120.000000     80.000000\n",
      "50%    19703.000000    165.000000     72.000000    120.000000     80.000000\n",
      "75%    21327.000000    170.000000     82.000000    140.000000     90.000000\n",
      "max    23713.000000    250.000000    200.000000  16020.000000  11000.000000\n",
      "\n",
      "Частоты бинарных признаков:\n",
      "\n",
      "gender:\n",
      "gender\n",
      "1    45530\n",
      "2    24470\n",
      "Name: count, dtype: int64\n",
      "\n",
      "smoke:\n",
      "smoke\n",
      "0    63831\n",
      "1     6169\n",
      "Name: count, dtype: int64\n",
      "\n",
      "alco:\n",
      "alco\n",
      "0    66236\n",
      "1     3764\n",
      "Name: count, dtype: int64\n",
      "\n",
      "active:\n",
      "active\n",
      "1    56261\n",
      "0    13739\n",
      "Name: count, dtype: int64\n",
      "\n",
      "cardio:\n",
      "cardio\n",
      "0    35021\n",
      "1    34979\n",
      "Name: count, dtype: int64\n"
     ]
    }
   ],
   "source": [
    "# ваш код\n",
    "df = pd.read_csv('cardio_train.csv', sep=';')\n",
    "\n",
    "categorical_features = ['gender', 'cholesterol', 'gluc', 'smoke', 'alco', 'active', 'cardio']\n",
    "binary_features = ['gender','smoke', 'alco', 'active', 'cardio'] \n",
    "df[categorical_features] = df[categorical_features].astype(str)\n",
    "\n",
    "# Вывод информации о категориальных  признаках\n",
    "print(\"Категориальные и бинарные признаки:\")\n",
    "cat_stats = df.describe(include='object')\n",
    "print(cat_stats)\n",
    "\n",
    "# Вывод описательных статистик для числовых признаков\n",
    "numerical_features = ['age', 'height', 'weight', 'ap_hi', 'ap_lo']\n",
    "print(\"\\nЧисловые признаки:\")\n",
    "num_stats = df[numerical_features].describe()\n",
    "print(num_stats)\n",
    "\n",
    "# Вывод частот для бинарных признаков\n",
    "print(\"\\nЧастоты бинарных признаков:\")\n",
    "for feature in binary_features:\n",
    "    print(f\"\\n{feature}:\")\n",
    "    print(df[feature].value_counts())"
   ]
  },
  {
   "cell_type": "markdown",
   "metadata": {},
   "source": [
    "📌📌📌 **Задание 2**\n",
    "\n",
    "Создайте подходящие сводную таблицу (pivot_table) и таблицу сопряженности (crosstab) и предварительно ответьте с помощью них на следующие вопросы:\n",
    "\n",
    "**вариант 1**:\n",
    "- верно ли, что некурящие люди, страдающие ССЗ, в среднем имеют более высокий вес, чем остальные? \n",
    "- верно ли, что среди курящих процент страдающих ССЗ больше?\n",
    "\n",
    "**вариант 2**:\n",
    "- верно ли, что  с повышением уровнем холестерина при одинаковом уровне глюкозы систолическое давление у пациентов в среднем становится выше? \n",
    "- верно ли, что курящие люди больше склонны употреблять алкоголь?\n",
    "\n",
    "**вариант 3**:\n",
    "- верно ли, что повышение уровня глюкозы и курение негативно влияют на систолическое давление? \n",
    "- верно ли, что среди физически активных людей процент страдающих ССЗ больше?\n",
    "\n",
    "**вариант 4**:\n",
    "- каковы минимальные, максимальные и средние значения разности между систолическим и диастолическим давлением для больных ССЗ и здоровых людей?  \n",
    "- верно ли, что среди мужчин процент страдающих ССЗ больше? (P.S. А кто-же из наших пациентов - мужчины? Как бы это выяснить по данным?)"
   ]
  },
  {
   "cell_type": "code",
   "execution_count": 17,
   "metadata": {},
   "outputs": [
    {
     "name": "stdout",
     "output_type": "stream",
     "text": [
      "Статистики разности давлений:\n",
      "          min    max       mean\n",
      "cardio                         \n",
      "0       -9670  13930  36.180834\n",
      "1      -10800  15940  28.188113\n",
      "\n",
      " соотношение gender и среднего роста\n",
      "gender\n",
      "1    161.355612\n",
      "2    169.947895\n",
      "Name: height, dtype: float64\n",
      "\n",
      "Процент страдающих ССЗ по полу:\n",
      "cardio         0         1\n",
      "gender                    \n",
      "1       0.503273  0.496727\n",
      "2       0.494769  0.505231\n"
     ]
    }
   ],
   "source": [
    "# ваш код\n",
    "# 1. Разность давлений для больных и здоровых\n",
    "df['pressure_diff'] = df['ap_hi'] - df['ap_lo']\n",
    "pressure_stats = df.groupby('cardio')['pressure_diff'].agg(['min', 'max', 'mean'])\n",
    "print(\"Статистики разности давлений:\")\n",
    "print(pressure_stats)\n",
    "\n",
    "# 2. Процент страдающих ССЗ среди мужчин и женщин\n",
    "\n",
    "mean_height_by_gender = df.groupby('gender')['height'].mean()\n",
    "print('\\n соотношение gender и среднего роста')\n",
    "print(mean_height_by_gender)\n",
    "# 1 - женщины\n",
    "cross_tab = pd.crosstab(df['gender'], df['cardio'],normalize='index')\n",
    "print(\"\\nПроцент страдающих ССЗ по полу:\")\n",
    "print(cross_tab)"
   ]
  },
  {
   "cell_type": "code",
   "execution_count": null,
   "metadata": {},
   "outputs": [],
   "source": []
  }
 ],
 "metadata": {
  "kernelspec": {
   "display_name": "data_science (3.13.5)",
   "language": "python",
   "name": "python3"
  },
  "language_info": {
   "codemirror_mode": {
    "name": "ipython",
    "version": 3
   },
   "file_extension": ".py",
   "mimetype": "text/x-python",
   "name": "python",
   "nbconvert_exporter": "python",
   "pygments_lexer": "ipython3",
   "version": "3.13.5"
  },
  "varInspector": {
   "cols": {
    "lenName": 16,
    "lenType": 16,
    "lenVar": 40
   },
   "kernels_config": {
    "python": {
     "delete_cmd_postfix": "",
     "delete_cmd_prefix": "del ",
     "library": "var_list.py",
     "varRefreshCmd": "print(var_dic_list())"
    },
    "r": {
     "delete_cmd_postfix": ") ",
     "delete_cmd_prefix": "rm(",
     "library": "var_list.r",
     "varRefreshCmd": "cat(var_dic_list()) "
    }
   },
   "types_to_exclude": [
    "module",
    "function",
    "builtin_function_or_method",
    "instance",
    "_Feature"
   ],
   "window_display": false
  }
 },
 "nbformat": 4,
 "nbformat_minor": 2
}
