{
 "cells": [
  {
   "cell_type": "markdown",
   "metadata": {},
   "source": [
    "# Лабораторная работа 4. Разведочный анализ данных\n",
    "\n",
    "## Часть 1. Описательный анализ.\n",
    "\n",
    "Во второй части лабораторной продолжим работать с файлом `cardio_train.csv`. \n",
    "Набор данных **Cardiovascular Disease dataset** содержит следующую информацию о пациентах:\n",
    "- age (возраст, в днях)\n",
    "- height (рост, в см.)\n",
    "- weight (вес, в кг.)\n",
    "- gender (пол)\n",
    "- ap_hi (систолическое давление)\n",
    "- ap_lo (диастолическое давление)\n",
    "- cholesterol  (уровень холестерина:  1: нормальный, 2: повышенный, 3: очень высокий)\n",
    "- gluc (уровень глюкозы: 1: нормальный, 2: повышенный, 3: очень высокий)\n",
    "- smoke(курение)\n",
    "- alco (употребление алкоголя)\n",
    "- active (физическая активность)\n",
    "- cardio (отсутствие или наличие ССЗ)\n"
   ]
  },
  {
   "cell_type": "code",
   "execution_count": null,
   "metadata": {},
   "outputs": [],
   "source": [
    "# подключаем необходимые библиотеки\n",
    "import pandas as pd\n",
    "import numpy as np"
   ]
  },
  {
   "cell_type": "markdown",
   "metadata": {},
   "source": [
    "# Часть 2. Визуальный анализ данных"
   ]
  },
  {
   "cell_type": "markdown",
   "metadata": {},
   "source": [
    "## Графика в Pyplot\n",
    "Интерфейс `pyplot` позволяет пользователю сосредоточиться на выборе готовых решений и настройке базовых параметров рисунка. Это его главное достоинство, поэтому изучение `matplotlib` лучше всего начинать именно с интерфейса `pyplot`.\n",
    "\n",
    "Существует де-факто стандарт подключения pyplot:\n",
    "\n",
    "`import matplotlib.pyplot as plt`"
   ]
  },
  {
   "cell_type": "markdown",
   "metadata": {},
   "source": [
    "Пакет `matplotlib` может выводить графики на экран разными способами (использовать различные backend-ы). Например, можно выводить графики в отдельном окне или внутри блокнота Jupyter. \n",
    "\n",
    "Мы будем пользоваться вторым способом. Для этого перед подключение библиотеки нужно воспользоваться командой `%matplotlib inline`. \n",
    "\n",
    "После создания графика для того, чтобы отобразить его результат, нужно выполнить команду `plt.show()`."
   ]
  },
  {
   "cell_type": "code",
   "execution_count": null,
   "metadata": {},
   "outputs": [],
   "source": [
    "%matplotlib inline\n",
    "import matplotlib.pyplot as plt\n",
    "plt.plot([0, 1, 2, 3], [0, 3, 1, 2])\n",
    "plt.show()"
   ]
  },
  {
   "cell_type": "markdown",
   "metadata": {},
   "source": [
    "Графики в `matplotlib` удобно организовывать внутри объекта `Figure`. Это контейнер самого верхнего уровня, та область на которой все нарисовано. Внутри `Figure` может быть расположено несколько контейнеров `Axes` (область рисования) - это та область на которой чаще всего и отражаются графики (данные в виде графиков), а так же все вспомогательные атрибуты (линии сетки, метки, указатели и т.д.).  Подробнее про размещение графиков внутри контейнеров здесь - https://pyprog.pro/mpl/mpl_main_components.html\n",
    "\n",
    "Размещение нескольких графиков на одном рисунке можно организовать несколькими способами:\n",
    "- **Метод add_subplot()** \n",
    "разбивает `Figure` на указанное количество строк и столбцов. После такого разбиения `Figure` можно представить как таблицу (или координатную сетку). Затем область `Axes` помещается в указанную ячейку. Для всего этого `add_subplot()` необходимо всего три числа, которые мы и передаем ему в качестве параметров:\n",
    "    - первое - количество строк;\n",
    "    - второе - количество столбцов\n",
    "    - третье - индекс ячейки."
   ]
  },
  {
   "cell_type": "code",
   "execution_count": null,
   "metadata": {},
   "outputs": [],
   "source": [
    "fig = plt.figure()\n",
    "\n",
    "ax_1 = fig.add_subplot(2, 2, 1)\n",
    "ax_2 = fig.add_subplot(2, 2, 2)\n",
    "ax_3 = fig.add_subplot(2, 2, 3)\n",
    "ax_4 = fig.add_subplot(2, 2, 4)\n",
    "\n",
    "# подписи по осям определим несколькими способами\n",
    "ax_1.set(title = 'ax_1', xticks=[1,2,3,4], yticks=[1,2,3])\n",
    "ax_2.set(title = 'ax_2', xticks=np.linspace(0,1,5), yticks=np.arange(1,10))\n",
    "ax_3.set(title = 'ax_3', xticks=[], yticks=[])\n",
    "ax_4.set(title = 'ax_4', xticks=[], yticks=[])\n",
    "\n",
    "fig.tight_layout() # добавляет пространство между областями Axes\n",
    "\n",
    "plt.show()"
   ]
  },
  {
   "cell_type": "markdown",
   "metadata": {},
   "source": [
    "- **Метод plt.subplots(nrows, ncols)**\n",
    "создает кортеж из двух элементов:\n",
    "\n",
    "1. Область Figure;\n",
    "2. Массив объектов NumPy, состоящий из двух строк и двух столбцов. Каждый элемент этого массива представляет собой отдельную область Axes, к которой можно обратиться по ее индексу в данном массиве.\n",
    "\n",
    "Для дальнейшей работы с данными областями нам необходимо распаковать данный кортеж, что делается следующим образом:\n",
    "\n",
    "`fig, axes = plt.subplots(nrows , ncols)`"
   ]
  },
  {
   "cell_type": "code",
   "execution_count": null,
   "metadata": {},
   "outputs": [],
   "source": [
    "fig, axes = plt.subplots(nrows = 2, ncols =2 )\n",
    "\n",
    "axes[0,0].set(title='axes[0,0]')\n",
    "axes[0,1].set(title='axes[0,1]')\n",
    "axes[1,0].set(title='axes[1,0]')\n",
    "axes[1,1].set(title='axes[1,1]')\n",
    "\n",
    "for ax in axes.flat:\n",
    "    ax.set(xticks=[], yticks=[])\n",
    "    \n",
    "plt.show()"
   ]
  },
  {
   "cell_type": "markdown",
   "metadata": {},
   "source": [
    "Для быстрого создание Figure с одной областью Axes количество строк и столбцов указывать не нужно - по умолчанию создается 1 строка и 1 столбец"
   ]
  },
  {
   "cell_type": "code",
   "execution_count": null,
   "metadata": {},
   "outputs": [],
   "source": [
    "fig, ax = plt.subplots()       #  одна строка вместо двух:\n",
    "                               #  fig = plt.figure()\n",
    "                               #  ax = fig.add_subplot(111)\n",
    "ax.set(title='Axes')\n",
    "    \n",
    "plt.show()"
   ]
  },
  {
   "cell_type": "markdown",
   "metadata": {},
   "source": [
    "### Линейный график Plot()"
   ]
  },
  {
   "cell_type": "markdown",
   "metadata": {},
   "source": [
    "Аргументами метода `plot(x,y, artists)` являются массивы координат `x`, `y`, а также необязательная строка `artists`, в которой закодированы цвет и стиль линии. Подробнее о стилях, а также про создание подписей, легенды и сохранении в файл см. `учебник Маккини, стр. 278-287`\n",
    "\n",
    "Рассмотрим примеры:"
   ]
  },
  {
   "cell_type": "code",
   "execution_count": null,
   "metadata": {},
   "outputs": [],
   "source": [
    "fig, ax = plt.subplots(1,2, figsize=(15, 5))\n",
    "\n",
    "ax[0].plot(np.arange(0,10), np.random.randn(10))\n",
    "    # координаты х - это последовательность 0,1,2..,9\n",
    "    # координаты y - это сгерерированные по нормальному закону случайные числа\n",
    "    # цвет по умолчанию - синий, тип линии по умолчанию - сплошная линия\n",
    "ax[1].plot(np.arange(0,10), np.random.randn(10), color='r',linestyle='dashed', marker='o' )    \n",
    "    # цвет  может быть обозначен буквой ('r','g',...), а можно использовать RGB значение, например '#CECECE' \n",
    "    # типы линии: 'dashed', 'dotted', 'dashdot', ...\n",
    "    # маркеры: 'o', '*', '^', 'D', ...\n",
    "plt.show()"
   ]
  },
  {
   "cell_type": "code",
   "execution_count": null,
   "metadata": {},
   "outputs": [],
   "source": [
    "def f(t):\n",
    "    return(0.25*t**2-2*t)\n",
    "\n",
    "x=np.linspace(0,10,50)\n",
    "\n",
    "# на данном рисунке в качестве y используется функция от х, \n",
    "# два графика строятся на одном риcунке, добавляется легенда\n",
    "fig, ax = plt.subplots(figsize=(15, 5))\n",
    "ax.plot(x, f(x), label='f(x)')\n",
    "ax.plot(x, np.sin(x), label='sin(x)')\n",
    "ax.legend()\n",
    "plt.show()"
   ]
  },
  {
   "cell_type": "markdown",
   "metadata": {},
   "source": [
    "### Диаграмма рассеяния Scatter()"
   ]
  },
  {
   "cell_type": "code",
   "execution_count": null,
   "metadata": {},
   "outputs": [],
   "source": [
    "fig, ax = plt.subplots(figsize=(10,4))\n",
    "\n",
    "x1 = np.linspace(0, 10, 30)\n",
    "y1 = np.random.beta(0.1, 0.6, size = 30)\n",
    "x2 = np.linspace(11, 20, 30)\n",
    "y2 = np.random.gamma(shape = 0.3, scale = 1.1, size = 30)\n",
    "x3 = np.linspace(21, 30, 30)\n",
    "y3 = np.random.pareto(3.5, size = 30)\n",
    "\n",
    "#  Данные в виде точек:\n",
    "ax.scatter(x1, y1)\n",
    "ax.scatter(x2, y2)\n",
    "ax.scatter(x3, y3)\n",
    "\n",
    "ax.set(title='Бетта, Гамма и Паретто распределения')\n",
    "plt.show()"
   ]
  },
  {
   "cell_type": "markdown",
   "metadata": {},
   "source": [
    "### Столбчатая диаграмма Bar()"
   ]
  },
  {
   "cell_type": "markdown",
   "metadata": {},
   "source": [
    "На диаграмме ниже изображены:\n",
    "1. Один ряд данных\n",
    "2. Два ряда данных с наложением (чтобы столбики одного ряда данных полностью не заслоняли столбики другого ряда данных, их делают прозрачными)\n",
    "3. Два ряда данных со смещением\n"
   ]
  },
  {
   "cell_type": "code",
   "execution_count": null,
   "metadata": {
    "scrolled": true
   },
   "outputs": [],
   "source": [
    "x1 = np.arange(1, 11)\n",
    "y1 = np.random.randint(1, 20, size = 10)\n",
    "x2 = np.arange(1, 11)\n",
    "y2 = np.random.randint(1, 20, size = 10)\n",
    "\n",
    "fig, axes = plt.subplots(3, 1, figsize=(10,7))\n",
    "\n",
    "axes[0].bar(x1, y1, color='r')\n",
    "\n",
    "#  Задаем параметр прозрачности alpha меньше 1:\n",
    "axes[1].bar(x2, y2, color='r', alpha=0.5)\n",
    "axes[1].bar(x1, y1, color='b', alpha=0.4)\n",
    "\n",
    "\n",
    "#  Задаем смещение по оси абсцисс, равное половине ширины прямоугольника:\n",
    "axes[2].bar(x1-0.2, y1, width = 0.4)\n",
    "axes[2].bar(x2+0.2, y2, width = 0.4)\n",
    "\n",
    "#fig.set_figwidth(12)    #  ширина Figure\n",
    "#fig.set_figheight(6)    #  высота Figure\n",
    "\n",
    "plt.show()"
   ]
  },
  {
   "cell_type": "markdown",
   "metadata": {},
   "source": [
    "### Гистограмма hist()"
   ]
  },
  {
   "cell_type": "markdown",
   "metadata": {},
   "source": [
    "Гистограммы будем строить средствами пакета Pandas.\n",
    "Для этого используем метод hist объекта Series:\n",
    "\n",
    "    `my_series.plot.hist()` - синтаксис по умолчанию"
   ]
  },
  {
   "cell_type": "code",
   "execution_count": null,
   "metadata": {},
   "outputs": [],
   "source": [
    "my_df=pd.DataFrame()\n",
    "#my_df['num']=np.arange(1,51)\n",
    "my_df['gender']=np.random.choice(['male','female'],50)\n",
    "inds=my_df[my_df['gender']=='male'].index\n",
    "num_male=len(inds)\n",
    "my_df['height']=np.random.normal(loc=160, scale=3, size=50)\n",
    "my_df.loc[inds,'height']=np.random.normal(loc=168, scale=3, size=num_male)\n",
    "my_df['smoker']=np.random.choice(['yes','no'],50)\n",
    "inds_2=my_df[my_df['smoker']=='yes'].index\n",
    "num_smoker=len(inds_2)\n",
    "my_df.loc[inds_2,'height']=np.random.normal(loc=175, scale=3, size=num_smoker)\n",
    "my_df['weight']=np.random.normal(loc=60, scale=2, size=50)\n"
   ]
  },
  {
   "cell_type": "code",
   "execution_count": null,
   "metadata": {
    "scrolled": false
   },
   "outputs": [],
   "source": [
    "my_df['height'].plot.hist()"
   ]
  },
  {
   "cell_type": "code",
   "execution_count": null,
   "metadata": {
    "scrolled": false
   },
   "outputs": [],
   "source": [
    "my_df[['weight','height']].plot.hist(bins=100,figsize=(10, 3)) # гистограммы\n",
    "my_df[['weight','height']].plot.density(figsize=(10, 3))# ядерная оценка плотности распределения"
   ]
  },
  {
   "cell_type": "markdown",
   "metadata": {},
   "source": [
    "### Визуализация категориальных данных с помощью фасетных сеток"
   ]
  },
  {
   "cell_type": "markdown",
   "metadata": {},
   "source": [
    "Фасеты представляют собой множество графиков, каждый из которых отображает свою переменную или набор значений. Разбиение на фасеты проводится по значениям категориальных переменных.\n",
    "\n",
    "В модуле `seaborn` имеется полезная функция `catplot()` ( в версиях до 0.9.0 - `factorplot()`), которая упрощает построение разнообразных фасетных графиков"
   ]
  },
  {
   "cell_type": "code",
   "execution_count": null,
   "metadata": {},
   "outputs": [],
   "source": [
    "#  по возможности обновите seaborn до последней версии\n",
    "#%pip install --upgrade seaborn"
   ]
  },
  {
   "cell_type": "code",
   "execution_count": null,
   "metadata": {},
   "outputs": [],
   "source": [
    "import seaborn as sns\n",
    "sns.__version__\n",
    "sns.catplot(data=my_df, x='weight', y='height', hue='smoker', kind='bar')"
   ]
  },
  {
   "cell_type": "code",
   "execution_count": null,
   "metadata": {},
   "outputs": [],
   "source": [
    "sns.catplot(data=my_df, x='gender', y='height',  kind='bar', hue='smoker')"
   ]
  },
  {
   "cell_type": "markdown",
   "metadata": {},
   "source": [
    "Полезным с точки зрения изучения совместных распределений переменных являются **диаграммы размаха** (boxplots), которые также неформально называют **\"ящиками с усами\"**. Подробно о них по ссылке https://habr.com/ru/post/267123/"
   ]
  },
  {
   "cell_type": "code",
   "execution_count": null,
   "metadata": {},
   "outputs": [],
   "source": [
    "sns.catplot(data=my_df, x='gender', y='height',  kind='box', hue='smoker')"
   ]
  },
  {
   "cell_type": "markdown",
   "metadata": {},
   "source": [
    "📌📌📌 **Задание:**\n",
    "\n",
    "Продолжаем работать с набором данных о сердечно-сосудистых заболеваниях. Вам необходимо провести визуальный анализ данных и сделать из него предвариательные выводы о взаимосвязях между переменными, об особенностях их распределений, о возможных погрешностях сбора данных. Обратите внимание, что на графиках должны быть подписаны оси, выведено название графика, в случае необходимости - легенда.\n",
    "\n",
    "**Вариант 1**: \n",
    "1. На одном рисунке постройте два отдельных графика - один должен демонстрировать взаимосвязь между систолическим давлением (`ap_hi`) и ростом, другой - систолическим давлением и весом. Есть ли связь между переменными? Наблюдаются ли выбросы в данных?\n",
    "2. Подберите подходящий график и визуализируйте связь между потребленим алкоголя, курением и возрастом пацентов. Имеется ли связь? Если да, опишите ее устно.\n",
    "\n",
    "**Вариант 2**: \n",
    "1. На одном рисунке постройте два отдельных графика - один должен демонстрировать взаимосвязь между возрастом (в годах) и ростом, другой - между возрастом (в годах) и весом. Есть ли связь между переменными? Наблюдаются ли выбросы в данных? (Замечание: для того, чтобы легче было отследить выбросы, регулируйте значения параметра прозрачности alpha)\n",
    "2. На одном графике постройте гистограммы распределений систолического давления (`ap_hi`) отдельно для здоровых и страдающих ССЗ пациентов. Устно опишите результаты. \n",
    "\n",
    "**Вариант 3**: \n",
    "1. Постройте график зависимости между систолическим (`ap_hi`) и диастолическим давлением (`ap_lo`).Есть ли связь между переменными? Наблюдаются ли выбросы в данных?\n",
    "2. Визуализируйте распределение уровня холестерина для различных возрастных категорий. Самостоятельо определите тип графика, с помощью которого это сделать\n",
    "\n",
    "**Вариант 4**: Создайте новый признак `BMI` (body mass index, индекс массы тела). Для этого разделите вес в килограммах на квадрат роста в метрах. Считается, что нормальные значения BMI составляют от 18.5 до 25.\n",
    "- постройте диаграмму рассеяния, по разным осям отложив значения систолического (`ap_hi`) и диастолического (`ap_lo`) давления. Разными цветами изобразите данные, соответствующие здоровым и страдающим ССЗ пациентам. Есть ли связь между переменными? Наблюдаются ли выбросы в данных?\n",
    "- создайте визуализацию, позволяющую оценить распределение систолического давления (`ap_hi`) для разных уровней индекса массы тела, пола пациентов и наличия у них ССЗ (Замечания: неправдоподобные значения давления уберите из рассмотрения.)"
   ]
  },
  {
   "cell_type": "code",
   "execution_count": null,
   "metadata": {},
   "outputs": [],
   "source": [
    "# Ваш код\n",
    "df = pd.read_csv('cardio_train.csv', sep=';')\n",
    "\n",
    "# 1 задаем bmi\n",
    "df['BMI'] = df['weight']/df['height'].apply(lambda x: (x/100)**2)\n",
    "print(\"Столбец с ИМТ:\\n\")\n",
    "print(df['BMI'])\n",
    "\n",
    "# 2 Скаттер ap_hi X ap_lo\n",
    "\n",
    "healthy = df[df['cardio'] == 0]\n",
    "ill = df[df['cardio'] == 1]\n",
    "\n",
    "plt.figure(figsize=(10, 6))\n",
    "plt.scatter(healthy['ap_hi'], healthy['ap_lo'], alpha=0.5, label='Здоровы', color='green')\n",
    "plt.scatter(ill['ap_hi'], ill['ap_lo'], alpha=0.5, label='С ССЗ', color='red')\n",
    "plt.xlabel('Систолическое давление (ap_hi)')\n",
    "plt.ylabel('Диастолическое давление (ap_lo)')\n",
    "plt.legend()\n",
    "plt.title('Зависимость диастолического давления от систолического')\n",
    "plt.show()\n",
    "\n",
    "filtered_data = df[\n",
    "    (df['ap_hi'] >= 40) & (df['ap_hi'] <= 300) &\n",
    "    (df['ap_lo'] >= 10) & (df['ap_lo'] <= 220)\n",
    "]\n",
    "\n",
    "# Разделение данных по признаку наличия ССЗ\n",
    "healthy = filtered_data[filtered_data['cardio'] == 0]\n",
    "ill = filtered_data[filtered_data['cardio'] == 1]\n",
    "\n",
    "\n",
    "plt.figure(figsize=(10, 6))\n",
    "plt.scatter(healthy['ap_hi'], healthy['ap_lo'], alpha=0.5, label='Здоровы', color='green')\n",
    "plt.scatter(ill['ap_hi'], ill['ap_lo'], alpha=0.5, label='С ССЗ', color='red')\n",
    "plt.xlabel('Систолическое давление (ap_hi)')\n",
    "plt.ylabel('Диастолическое давление (ap_lo)')\n",
    "plt.legend()\n",
    "plt.title('Зависимость диастолического давления от систолического')\n",
    "plt.show()\n"
   ]
  },
  {
   "cell_type": "code",
   "execution_count": null,
   "metadata": {},
   "outputs": [],
   "source": [
    "data = filtered_data\n",
    "\n",
    "# Категории ИМТ\n",
    "bins = [0, 18.5, 25, 30, float('inf')]\n",
    "labels = ['Дефицит', 'Норма', 'Избыточная', 'Ожирение']\n",
    "data['BMI_Category'] = pd.cut(data['BMI'], bins=bins, labels=labels)\n",
    "\n",
    "data['gender'] = data['gender'].map({1: 'Муж.', 2: 'Жен.'})\n",
    "data['cardio'] = data['cardio'].map({0: 'нет ССЗ', 1: 'ССЗ'})"
   ]
  },
  {
   "cell_type": "code",
   "execution_count": null,
   "metadata": {},
   "outputs": [],
   "source": [
    "g = sns.catplot(\n",
    "    data=data,\n",
    "    x='BMI_Category',\n",
    "    y='ap_hi',\n",
    "    hue='gender',\n",
    "    col='cardio',\n",
    "    kind='box',\n",
    "    height=8,\n",
    "    aspect=1.2,\n",
    "    palette={'Жен.': 'salmon', 'Муж.': 'skyblue'}\n",
    ")\n",
    "\n",
    "g.set_axis_labels('Категория ИМТ', 'Систолического Давление')\n",
    "g.set_titles('{col_name}')\n",
    "plt.tight_layout()\n",
    "plt.show()"
   ]
  }
 ],
 "metadata": {
  "kernelspec": {
   "display_name": "data_science (3.13.5)",
   "language": "python",
   "name": "python3"
  },
  "language_info": {
   "codemirror_mode": {
    "name": "ipython",
    "version": 3
   },
   "file_extension": ".py",
   "mimetype": "text/x-python",
   "name": "python",
   "nbconvert_exporter": "python",
   "pygments_lexer": "ipython3",
   "version": "3.13.5"
  },
  "varInspector": {
   "cols": {
    "lenName": 16,
    "lenType": 16,
    "lenVar": 40
   },
   "kernels_config": {
    "python": {
     "delete_cmd_postfix": "",
     "delete_cmd_prefix": "del ",
     "library": "var_list.py",
     "varRefreshCmd": "print(var_dic_list())"
    },
    "r": {
     "delete_cmd_postfix": ") ",
     "delete_cmd_prefix": "rm(",
     "library": "var_list.r",
     "varRefreshCmd": "cat(var_dic_list()) "
    }
   },
   "types_to_exclude": [
    "module",
    "function",
    "builtin_function_or_method",
    "instance",
    "_Feature"
   ],
   "window_display": false
  }
 },
 "nbformat": 4,
 "nbformat_minor": 2
}
