{
 "cells": [
  {
   "cell_type": "markdown",
   "metadata": {},
   "source": [
    "# Лабораторная работа 6. \n",
    "# Прогнозирование стоимости акций с помощью линейной регрессии"
   ]
  },
  {
   "cell_type": "markdown",
   "metadata": {},
   "source": [
    "В данной работе вам необходимо построить регрессионную модель для прогноза стоимости акций \n",
    "- для дат, находящихся в рассматриваемом временном периоде\n",
    "- для дат после некоторого временного периода (т.е. на будущее)\n",
    "\n",
    "Для построения модели линейной регрессии и оценки ее качества вы будете использовать инструменты из пакета `scikit-learn` -  пользуйтесь руководством пользователя https://scikit-learn.org/stable/user_guide.html  для этого пакета.\n",
    "\n",
    "В датасете представлена информация о торгах по акциям британской кинокомпании Seven Arts Entertainment Inc:\n",
    "- Дата торгов (Date)\n",
    "- Цена открытия (Open)\n",
    "- Цена закрытия (Close)\n",
    "- Наибольшая цена (High)\n",
    "- Наименьшая цена (Low)\n",
    "- Торговый объем (Traded Volume)\n",
    "- Оборот (Turnover)\n",
    "\n",
    "Необходимо постороить регрессию цены закрытия на время."
   ]
  },
  {
   "cell_type": "markdown",
   "metadata": {},
   "source": [
    "## Загрузка данных\n",
    "\n",
    "### Импорт библиотек"
   ]
  },
  {
   "cell_type": "code",
   "execution_count": 41,
   "metadata": {},
   "outputs": [],
   "source": [
    "import numpy as np\n",
    "import pandas as pd\n",
    "import datetime\n",
    "\n",
    "%matplotlib inline\n",
    "import matplotlib.pyplot as plt\n",
    "plt.style.use('seaborn-darkgrid')\n",
    "plt.rc('figure', figsize=(16,10))\n",
    "plt.rc('lines', markersize=4)"
   ]
  },
  {
   "cell_type": "markdown",
   "metadata": {},
   "source": [
    "📌📌📌 **Задание 1**\n",
    "\n",
    "Загрузите таблицу данных из файла (`sap_stock_1.csv` - для варианта 1,`sap_stock_4.csv` - для варианта 2,`sap_stock_4.csv` - для варианта 3,`sap_stock_4.csv` - для варианта 4).\n",
    "\n",
    "Выведите на экран несколько первых строк датасета.\n",
    "С помощью `pd.info()` и `pd.describe()` выведите информацию о структуре датасета и описательные статистики для каждой из переменных"
   ]
  },
  {
   "cell_type": "code",
   "execution_count": 2,
   "metadata": {},
   "outputs": [],
   "source": [
    "# Ваш код"
   ]
  },
  {
   "cell_type": "markdown",
   "metadata": {},
   "source": [
    "📌📌📌 **Задание 2**\n",
    "\n",
    "Сформируйте датасет `df`, по которому будет строиться и оцениваться модель регрессии.\n",
    "Датасет должен содержать:\n",
    "- столбец значений переменной-отклика `Сlose`, \n",
    "- столбец значений переменной `Date` (который мы не будем включать в модель, а используем только для визуализации)\n",
    "\n",
    "Индексы датасета - номера моментов времени. Их вы будете использовать в качестве единственного предиктора. "
   ]
  },
  {
   "cell_type": "code",
   "execution_count": 42,
   "metadata": {},
   "outputs": [],
   "source": [
    "# Ваш код"
   ]
  },
  {
   "cell_type": "markdown",
   "metadata": {},
   "source": [
    "## Предварительный визуальный анализ данных\n",
    "\n",
    "Построим график зависимости *цены акции* от *времени*. Убедимся, что несмотря на многочисленные колебания цены имеетя тренд на рост цены. Возможно, этот тренд можно приблизить линейной функцией."
   ]
  },
  {
   "cell_type": "code",
   "execution_count": 9,
   "metadata": {},
   "outputs": [],
   "source": [
    "df['Date'] = pd.to_datetime(df['Date'], format='%Y-%m-%d')"
   ]
  },
  {
   "cell_type": "code",
   "execution_count": null,
   "metadata": {},
   "outputs": [],
   "source": [
    "# Подключение модуля matplotlib для графиков с датами\n",
    "import matplotlib.dates as mdates\n",
    "\n",
    "years = mdates.YearLocator() # Извлекать из даты будем только год\n",
    "yearsFmt = mdates.DateFormatter('%Y') # Формат представления года\n",
    "\n",
    "# Create subplots to plot graph and control axes\n",
    "fig, ax = plt.subplots()\n",
    "ax.plot(df['Date'], df['Close'])\n",
    "\n",
    "# Format the ticks\n",
    "ax.xaxis.set_major_locator(years)\n",
    "ax.xaxis.set_major_formatter(yearsFmt)\n",
    "\n",
    "# Set figure title\n",
    "plt.title('История цен закрытия акций', fontsize=16)\n",
    "# Set x label\n",
    "plt.xlabel('Дата', fontsize=14)\n",
    "# Set y label\n",
    "plt.ylabel('Цена акции, $', fontsize=14)\n",
    "\n",
    "# Rotate and align the x labels\n",
    "fig.autofmt_xdate()\n",
    "\n",
    "# Show plot\n",
    "plt.show()"
   ]
  },
  {
   "cell_type": "markdown",
   "metadata": {},
   "source": [
    "## Обучение модели парной линейной регрессии\n",
    " \n",
    "Наша цель - обучение модели линейной регрессии вида\n",
    "$$\n",
    "Y = \\beta_0 + \\beta_1 X\n",
    "$$\n",
    "\n",
    "где   \n",
    "* $Y$  - отклик (цена акции)\n",
    "* $X$  - независимая переменная (момент времени)\n",
    "* $\\beta_0$, $\\beta_1$ коэффициенты регрессии\n",
    "\n",
    "Обучение регрессии состоит в подборе таких $\\beta_0$ и $\\beta_1$ , чтобы  **Сумма квадратов отклонений (RSS)** была минимальна."
   ]
  },
  {
   "cell_type": "markdown",
   "metadata": {},
   "source": [
    "📌📌📌 **Задание 3**\n",
    "\n",
    "Разделите датасет `df` на тренировочный (`train`) и тестовый (`test`) в соотношении 80:20.\n",
    "\n",
    "В датасет `X_train` отделите информацию о значениях предиктора  *момент времени* из датасета `train`(он находится в индексе), в \n",
    "`y_train` - значения отклика *цена* из датасета `train`.\n",
    "\n",
    "Аналогично создайте `X_test` и `y_test`.\n",
    "\n",
    "Обучите линейную регрессию на `(X_train, y_train)`\n",
    "\n",
    "Вычислите значение коэффициента детерминации полученной модели на тренировочном датасете.\n",
    "\n",
    "Хорошо ли линейная регрессия объясняет дисперсию отклика на обучающей выборке?"
   ]
  },
  {
   "cell_type": "code",
   "execution_count": 11,
   "metadata": {},
   "outputs": [],
   "source": [
    "# импорт модуля для случайного разделения выборок \n",
    "from sklearn.model_selection import train_test_split"
   ]
  },
  {
   "cell_type": "code",
   "execution_count": 12,
   "metadata": {},
   "outputs": [],
   "source": [
    "# Ваш код - разделение выборки"
   ]
  },
  {
   "cell_type": "code",
   "execution_count": 14,
   "metadata": {},
   "outputs": [],
   "source": [
    "# импорт линейного регрессора из модуля, содержащего различные линейные модели\n",
    "from sklearn.linear_model import LinearRegression"
   ]
  },
  {
   "cell_type": "code",
   "execution_count": 15,
   "metadata": {},
   "outputs": [
    {
     "data": {
      "text/plain": [
       "LinearRegression()"
      ]
     },
     "execution_count": 15,
     "metadata": {},
     "output_type": "execute_result"
    }
   ],
   "source": [
    "# Ваш код - обучение линейной модели"
   ]
  },
  {
   "cell_type": "code",
   "execution_count": null,
   "metadata": {},
   "outputs": [],
   "source": [
    "#Вычисляем R^2 на обучающей выборке\n",
    "model.score(X_train, y_train)"
   ]
  },
  {
   "cell_type": "markdown",
   "metadata": {},
   "source": [
    "### Изобразим линию регрессии"
   ]
  },
  {
   "cell_type": "code",
   "execution_count": null,
   "metadata": {},
   "outputs": [],
   "source": [
    "plt.figure(1, figsize=(16,10))\n",
    "plt.title('Linear Regression | Price vs Time')\n",
    "plt.scatter(X_train, y_train, edgecolor='w', label='Actual Price')\n",
    "plt.plot(np.array(X_train), model.predict(X_train), color='r', label='Predicted Price')\n",
    "plt.xlabel('Integer Date')\n",
    "plt.ylabel('Stock Price')\n",
    "plt.legend()\n",
    "plt.show()"
   ]
  },
  {
   "cell_type": "markdown",
   "metadata": {},
   "source": [
    "## Оценка модели регрессии\n",
    "**Метрики ошибки:**\n",
    "\n",
    "   **Mean Squared Error (MSE)** - среднеквадратичная ошибка:\n",
    "    $$\n",
    "    \\frac{1}{N} \\sum_{i = 1}^{N} (y_i - \\hat{y}_i)^2\n",
    "    $$\n",
    "\n",
    "   **Root Mean Squared Error (RMSE)** - корень из среднеквадратичной ошибки:\n",
    "    $$\n",
    "    \\sqrt{\\frac{1}{N} \\sum_{i = 1}^{N} (y_i - \\hat{y}_i)^2}\n",
    "    $$\n",
    "\n",
    "Это те метрики, которые необходимо минимизировать.\n",
    "\n",
    "**Метрики качества:**\n",
    "\n",
    "   **Coefficient of determination** - коэффициент детерминации (измеряет, насколько хорошо общая дисперсия отклика объясняется моделью регрессии):\n",
    "    $$\n",
    "    R^2 = 1 - \\frac{RSS}{TSS}\n",
    "    $$\n",
    "\n",
    "   где\n",
    "\n",
    "   **Residual Sum of Squares (RSS)** - сумма квадратов регрессионных остатков\n",
    "    $$\n",
    "    RSS = \\sum_{i = 1}^{N} \\epsilon_i^2 = \\sum_{i = 1}^{N} (y_i - \\hat{y}_i)^2\n",
    "    $$\n",
    "\n",
    "   **Total Sum of Squares (TSS)**  - общая сумма квадратов отклонений от среднего значения\n",
    "    $$\n",
    "    TSS = \\sum_{i = 1}^{N} (y_i - \\bar{y}_i)^2\n",
    "    $$\n",
    "\n",
    "$R^2$ - метрика, которую необходимо максимизировать."
   ]
  },
  {
   "cell_type": "markdown",
   "metadata": {},
   "source": [
    "📌📌📌 **Задание 4**\n",
    "\n",
    "С помощью полученной вами модели регрессии постройте прогноз на тестовой выборке (используйте функцию `LinearRegression.predict()`).\n",
    "\n",
    "\n",
    "На тестовой выборке вычислите значения метрик **MSE**, **RMSE**, **$R^2$** (используйте функции  `metrics.mean_squared_error()` и `metrics.r2_score()` )\n",
    "\n",
    "По аналогии с предыдущим заданием, изобразите линию регрессии вместе с точками данных из тестовой выборки.\n",
    "\n",
    "Как вы оцениваете качество регрессионной модели на тестовой выборке?"
   ]
  },
  {
   "cell_type": "code",
   "execution_count": 19,
   "metadata": {},
   "outputs": [],
   "source": [
    "# импортируем из sklearn модуль, содержащие метрики качества\n",
    "from sklearn import metrics"
   ]
  },
  {
   "cell_type": "code",
   "execution_count": 44,
   "metadata": {},
   "outputs": [],
   "source": [
    "# Ваш код"
   ]
  },
  {
   "cell_type": "markdown",
   "metadata": {},
   "source": [
    "📌📌📌 **Задание 5**\n",
    "\n",
    "Теперь обучите линейную регрессионную модель и оцените ее качество, по-другому разбив датасет на тренировочный и тестовый.\n",
    "Разбивать необходимо также в соотношении 80:20, но не случайным образом, а поместив в обучающую выборку первые 80% объектов, а в тестовую - последние 20%.\n",
    "\n",
    "В ячейках ниже напишите код, который:\n",
    "1. Разбивает датасет `df` на новые тренировочный и тестовый датасеты.\n",
    "2. Обучает модель регрессии и на тренировочном датасете вычисляет значение $R^2$\n",
    "3. Строит прогноз на тестовом датасете и вычисляет на нем метрики **MSE**, **RMSE**, **$R^2$**\n",
    "4. На одном графике отображает объекты тренировочного и тестового датасета и линию регрессии.\n",
    "\n",
    "Как вам качество регрессии: стало лучше или хуже по сравнению со случаем случайного разбиения на тренировочный и тестовый датасеты? Как думаете, почему?"
   ]
  },
  {
   "cell_type": "code",
   "execution_count": 22,
   "metadata": {},
   "outputs": [],
   "source": [
    "# Ваш код"
   ]
  },
  {
   "cell_type": "markdown",
   "metadata": {},
   "source": [
    "## Квазилинейная регрессия\n",
    "\n",
    "В случае, если линейная модель плохо объясняет дисперсию отклика, можно использовать обощение линейной модели - квазилинейную регрессию, в которую предикторы входят нелинейным образом.\n",
    "\n",
    "Например, если в $f(x)$ кроме тренда присутствуют циклические колебания значений отклика, можно попробовать использовать в качестве предикторов не только $x$, но и элементы тригонометрического ряда Фурье функции $f(x)$: $$\\sin\\left(\\frac{2 n\\pi}{w} \\cdot x\\right) \\text{ и } \\cos\\left(\\frac{2 n\\pi }{w} \\cdot x\\right),$$\n",
    "гдe $w$ - период колебаний, значения $n=1,2,3...w$ "
   ]
  },
  {
   "cell_type": "markdown",
   "metadata": {},
   "source": [
    "📌📌📌 **Задание 6 (только для варианта 4)**\n",
    "\n",
    "В датасет `df` добавьте столбцы со значениями предикторов, полученных как элементы ряда Фурье, где переменная $x$ - момент времени из `df.index`, период колебаний $w$ подберите по графикам выше. \n",
    "\n",
    "Число элементов ряда Фурье выберите самостоятельно (начните с $n=\\{1, 2\\}$, затем увеличивайте число элементов, пока качество регрессии продолжает существенно улучшаться)\n",
    "\n",
    "Повторите работу, проведенную вами в задании 3 и задании 4.\n",
    "\n",
    "Сравните качество линейной и квазилинейной регрессии. Удалось ли улучшить качество линейной модели добавлением нелинейных предикторов? \n"
   ]
  },
  {
   "cell_type": "code",
   "execution_count": 29,
   "metadata": {},
   "outputs": [],
   "source": [
    "t=df.index\n",
    "df['time']=t\n",
    "w=... # запишите подобранный по графику период колебаний\n",
    "\n",
    "for i in range(1,...):# вместо ... вставьте свое число элементов ряда Фурье\n",
    "    sin=\"s\"+str(i)\n",
    "    cos=\"c\"+str(i)\n",
    "    df[sin]=np.sin(2*i*np.pi*t/w)\n",
    "    df[cos]=np.cos(2*i*np.pi*t/w)\n",
    "df.head()"
   ]
  },
  {
   "cell_type": "code",
   "execution_count": null,
   "metadata": {},
   "outputs": [],
   "source": [
    "# Ваш код"
   ]
  }
 ],
 "metadata": {
  "kernelspec": {
   "display_name": "Python 3",
   "language": "python",
   "name": "python3"
  },
  "language_info": {
   "codemirror_mode": {
    "name": "ipython",
    "version": 3
   },
   "file_extension": ".py",
   "mimetype": "text/x-python",
   "name": "python",
   "nbconvert_exporter": "python",
   "pygments_lexer": "ipython3",
   "version": "3.6.13"
  }
 },
 "nbformat": 4,
 "nbformat_minor": 2
}
