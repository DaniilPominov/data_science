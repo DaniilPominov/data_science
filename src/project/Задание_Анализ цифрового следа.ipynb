{
 "cells": [
  {
   "cell_type": "markdown",
   "id": "f5f240dd",
   "metadata": {},
   "source": [
    "# Задание\n",
    "\n",
    "На основе анонимизированных данных цифрового следа обучающихся в электронном обучающем курсе проверить гипотезу о наличии связи между активными действиями в электронном курсе и просмотрами. При наличии связи провести регрессионный анализ и подобрать оптимальный вид и параметры функциональной зависимости между переменными Активные действия и Просмотры. Сделать вывод.\n",
    "\n",
    "Под **просмотрами** считать следующие названия событий: *['Модуль курса просмотрен', 'HotPot attempt reviewed', 'Страница вики просмотрена', 'Показана карта страниц Вики', 'Версия страницы вики просмотрена', 'Комментарии просмотрены',\n",
    "'Запись просмотрена', 'Отзыв просмотрен', 'Страница состояния представленного ответа просмотрена', 'Глава просмотрена',\n",
    "'Содержимое страницы просмотрено', 'Вопрос просмотрен', 'Ответ на задание типа «Эссе» просмотрен', 'Отчет просмотрен',\n",
    "'Работа просмотрена', 'Попытка теста просмотрена', 'Завершенная попытка теста просмотрена', 'Сводка попытки теста просмотрена', 'Тема просмотрена', 'Отчет по пользователю просмотрен', 'Сессии просмотрены']*\n",
    "\n",
    "Под **активными действиями** считать следующие названия событий: *['Ответ на анкету отправлен', 'Запись создана', 'Запись обновлена', 'Комментарий создан', 'Страница вики создана', 'Страница вики обновлена', 'Комментарий создан', 'Категория создана', 'Категория обновлена', 'Комментарий создан', 'Запись создана', 'Запись обновлена', 'Работа представлена.', 'Представленный ответ обновлен.', 'Комментарий создан', 'Дан ответ на вопрос', 'Лекция закончена', 'Ответ представлен', 'Ответ на опрос добавлен', 'Sco запущен', 'Посещаемость отмечена студентом', 'Работа оценена', 'Работа переоценена', 'Представление работы создано', 'Работа была загружена', 'Работа обновлена', 'Попытка теста завершена и отправлена на оценку', 'Тема создана', 'Сообщение создано', 'Отправлено сообщение']*\n",
    "\n",
    "**Алгоритм действий:**\n",
    "1. Считать данные.\n",
    "2. Исключить данные до начала (до 01.09.2023) и после окончания (до 15.01.2024) осеннего семестра.\n",
    "3. Агрегировать данные для каждого пользователя по количеству активных действий и просмотров в течение осеннего семестра.\n",
    "4. Проверить гипотезу независимости критерием хи-квадрат Пирсона (учесть замечание по использованию критерия: $\\nu_{ij}>5$).\n",
    "5. Сделать вывод.\n",
    "6. При наличии статистически значимой зависимости между количеством активных действий и просмотров, провести регрессионный анализ:\n",
    "    - вычислить выборочный коэффициент корреляции Пирсона между количеством активных действий и просмотров, проверить его статистическую значимость, сделать вывод о возможности приближения зависимости между количеством активных действий и просмотров линейной функцией;\n",
    "    - построить линейную регрессию количества активных действий от просмотров, оценить статистическую значимость коэффициентов уравнения линейной регрессии и значимость всего уравнения в целом;\n",
    "    - проверить выполнение условия адекватности каждой из полученных моделей регрессии (нормальность распределения регрессионных остатков), построив Q-Q график;\n",
    "    - выбрать еще 2-3 функциональные формы (квадратическая, логарифмическая, экспоненциальная, обратная и т.д.) зависимости количества активных действий от просмотров, оценить коэффициенты для каждого вида зависимости,  проверить выполнение условия адекватности моделей;\n",
    "    - выбрать оптимальную модель на основании коэффициента детерминации;\n",
    "    - с помощью оптимальной модели найти прогноз количества активных действий в курсе, произвольным образом задав для него значение просмотров.\n",
    "7. Сделать выводы."
   ]
  },
  {
   "cell_type": "markdown",
   "id": "8a5a0df4",
   "metadata": {},
   "source": [
    "## Цифровой след из ЭОК по вариантам:\n",
    "1. Высшая математика (09.03.03 Прикладная информатика). 1-й семестр (осень 2023)\n",
    "2. Базовая математика (1 семестр) (осень 2023)\n",
    "3. Теория вероятностей и математическая статистика (ИБ, программная инженерия) (осень 2023)\n",
    "4. Теория вероятностей и математическая статистика - часть 2 (осень 2023)\n",
    "5. Математический анализ (09.03.02.31 Разработка компьютерных игр и приложений) 1 семестр (осень 2023)\n",
    "6. Теория вероятностей и математическая статистика (ИВТ) (осень 2023)\n",
    "7. Математическая логика и теория алгоритмов ПАОС (осень 2023)\n",
    "8. Математический анализ (ВТ) 1 семестр (осень 2023)\n",
    "9. Математический анализ (Часть 1) (осень 2023)\n",
    "10. Разработка программного обеспечения на языке Python (осень 2023)\n",
    "11. Теория вероятности и математическая статистика (Разработка компьютерных игр и приложений) (осень 2023)"
   ]
  },
  {
   "cell_type": "code",
   "execution_count": 20,
   "id": "575b03f7",
   "metadata": {},
   "outputs": [],
   "source": [
    "views = ['Модуль курса просмотрен', 'HotPot attempt reviewed', 'Страница вики просмотрена', 'Показана карта страниц Вики', 'Версия страницы вики просмотрена', 'Комментарии просмотрены',\n",
    "'Запись просмотрена', 'Отзыв просмотрен', 'Страница состояния представленного ответа просмотрена', 'Глава просмотрена',\n",
    "'Содержимое страницы просмотрено', 'Вопрос просмотрен', 'Ответ на задание типа «Эссе» просмотрен', 'Отчет просмотрен',\n",
    "'Работа просмотрена', 'Попытка теста просмотрена', 'Завершенная попытка теста просмотрена', 'Сводка попытки теста просмотрена', 'Тема просмотрена', 'Отчет по пользователю просмотрен', 'Сессии просмотрены']\n",
    "active = ['Ответ на анкету отправлен', 'Запись создана', 'Запись обновлена', 'Комментарий создан', 'Страница вики создана', 'Страница вики обновлена', 'Комментарий создан', 'Категория создана', 'Категория обновлена', 'Комментарий создан', 'Запись создана', 'Запись обновлена', 'Работа представлена.', 'Представленный ответ обновлен.', 'Комментарий создан', 'Дан ответ на вопрос', 'Лекция закончена', 'Ответ представлен', 'Ответ на опрос добавлен', 'Sco запущен', 'Посещаемость отмечена студентом', 'Работа оценена', 'Работа переоценена', 'Представление работы создано', 'Работа была загружена', 'Работа обновлена', 'Попытка теста завершена и отправлена на оценку', 'Тема создана', 'Сообщение создано', 'Отправлено сообщение']"
   ]
  },
  {
   "cell_type": "code",
   "execution_count": 13,
   "id": "c2b41eff",
   "metadata": {},
   "outputs": [],
   "source": [
    "import pandas as pd\n",
    "import numpy as np\n",
    "import matplotlib.pyplot as plt\n",
    "import seaborn as sns"
   ]
  },
  {
   "cell_type": "code",
   "execution_count": 14,
   "id": "e658f230",
   "metadata": {},
   "outputs": [
    {
     "name": "stdout",
     "output_type": "stream",
     "text": [
      "<class 'pandas.core.frame.DataFrame'>\n",
      "RangeIndex: 275779 entries, 0 to 275778\n",
      "Data columns (total 7 columns):\n",
      " #   Column                   Non-Null Count   Dtype         \n",
      "---  ------                   --------------   -----         \n",
      " 0   Время                    275779 non-null  datetime64[ns]\n",
      " 1   Полное имя пользователя  248362 non-null  object        \n",
      " 2   Затронутый пользователь  60934 non-null   object        \n",
      " 3   Контекст события         275779 non-null  object        \n",
      " 4   Компонент                275779 non-null  object        \n",
      " 5   Название события         275779 non-null  object        \n",
      " 6   Источник                 275779 non-null  object        \n",
      "dtypes: datetime64[ns](1), object(6)\n",
      "memory usage: 14.7+ MB\n"
     ]
    }
   ],
   "source": [
    "df = pd.read_csv('df_var_10.csv')\n",
    "df[\"Время\"] = pd.to_datetime(df[\"Время\"], format=\"%Y-%m-%d %H:%M:%S\")\n",
    "df.info()"
   ]
  },
  {
   "cell_type": "code",
   "execution_count": 17,
   "id": "f61be666",
   "metadata": {},
   "outputs": [
    {
     "data": {
      "application/vnd.microsoft.datawrangler.viewer.v0+json": {
       "columns": [
        {
         "name": "index",
         "rawType": "object",
         "type": "string"
        },
        {
         "name": "Полное имя пользователя",
         "rawType": "object",
         "type": "unknown"
        },
        {
         "name": "Затронутый пользователь",
         "rawType": "object",
         "type": "unknown"
        },
        {
         "name": "Контекст события",
         "rawType": "object",
         "type": "unknown"
        },
        {
         "name": "Компонент",
         "rawType": "object",
         "type": "unknown"
        },
        {
         "name": "Название события",
         "rawType": "object",
         "type": "unknown"
        },
        {
         "name": "Источник",
         "rawType": "object",
         "type": "unknown"
        }
       ],
       "ref": "64ad5c69-331e-485b-98c4-550c6827cffe",
       "rows": [
        [
         "count",
         "90504",
         "22608",
         "98355",
         "98355",
         "98355",
         "98355"
        ],
        [
         "unique",
         "605",
         "708",
         "100",
         "19",
         "61",
         "4"
        ],
        [
         "top",
         "c399bfb7f172272d7dcfacf292fe1b9a",
         "99974a0749c6f36933e808a1caf09e5b",
         "Курс: Разработка программного обеспечения на языке Python",
         "Задание",
         "Модуль курса просмотрен",
         "web"
        ],
        [
         "freq",
         "7629",
         "265",
         "24904",
         "39326",
         "30955",
         "98040"
        ]
       ],
       "shape": {
        "columns": 6,
        "rows": 4
       }
      },
      "text/html": [
       "<div>\n",
       "<style scoped>\n",
       "    .dataframe tbody tr th:only-of-type {\n",
       "        vertical-align: middle;\n",
       "    }\n",
       "\n",
       "    .dataframe tbody tr th {\n",
       "        vertical-align: top;\n",
       "    }\n",
       "\n",
       "    .dataframe thead th {\n",
       "        text-align: right;\n",
       "    }\n",
       "</style>\n",
       "<table border=\"1\" class=\"dataframe\">\n",
       "  <thead>\n",
       "    <tr style=\"text-align: right;\">\n",
       "      <th></th>\n",
       "      <th>Полное имя пользователя</th>\n",
       "      <th>Затронутый пользователь</th>\n",
       "      <th>Контекст события</th>\n",
       "      <th>Компонент</th>\n",
       "      <th>Название события</th>\n",
       "      <th>Источник</th>\n",
       "    </tr>\n",
       "  </thead>\n",
       "  <tbody>\n",
       "    <tr>\n",
       "      <th>count</th>\n",
       "      <td>90504</td>\n",
       "      <td>22608</td>\n",
       "      <td>98355</td>\n",
       "      <td>98355</td>\n",
       "      <td>98355</td>\n",
       "      <td>98355</td>\n",
       "    </tr>\n",
       "    <tr>\n",
       "      <th>unique</th>\n",
       "      <td>605</td>\n",
       "      <td>708</td>\n",
       "      <td>100</td>\n",
       "      <td>19</td>\n",
       "      <td>61</td>\n",
       "      <td>4</td>\n",
       "    </tr>\n",
       "    <tr>\n",
       "      <th>top</th>\n",
       "      <td>c399bfb7f172272d7dcfacf292fe1b9a</td>\n",
       "      <td>99974a0749c6f36933e808a1caf09e5b</td>\n",
       "      <td>Курс: Разработка программного обеспечения на я...</td>\n",
       "      <td>Задание</td>\n",
       "      <td>Модуль курса просмотрен</td>\n",
       "      <td>web</td>\n",
       "    </tr>\n",
       "    <tr>\n",
       "      <th>freq</th>\n",
       "      <td>7629</td>\n",
       "      <td>265</td>\n",
       "      <td>24904</td>\n",
       "      <td>39326</td>\n",
       "      <td>30955</td>\n",
       "      <td>98040</td>\n",
       "    </tr>\n",
       "  </tbody>\n",
       "</table>\n",
       "</div>"
      ],
      "text/plain": [
       "                 Полное имя пользователя           Затронутый пользователь  \\\n",
       "count                              90504                             22608   \n",
       "unique                               605                               708   \n",
       "top     c399bfb7f172272d7dcfacf292fe1b9a  99974a0749c6f36933e808a1caf09e5b   \n",
       "freq                                7629                               265   \n",
       "\n",
       "                                         Контекст события Компонент  \\\n",
       "count                                               98355     98355   \n",
       "unique                                                100        19   \n",
       "top     Курс: Разработка программного обеспечения на я...   Задание   \n",
       "freq                                                24904     39326   \n",
       "\n",
       "               Название события Источник  \n",
       "count                     98355    98355  \n",
       "unique                       61        4  \n",
       "top     Модуль курса просмотрен      web  \n",
       "freq                      30955    98040  "
      ]
     },
     "execution_count": 17,
     "metadata": {},
     "output_type": "execute_result"
    }
   ],
   "source": [
    "df.describe(include=\"object\")"
   ]
  },
  {
   "cell_type": "code",
   "execution_count": 16,
   "id": "3c2865dd",
   "metadata": {},
   "outputs": [
    {
     "data": {
      "application/vnd.microsoft.datawrangler.viewer.v0+json": {
       "columns": [
        {
         "name": "index",
         "rawType": "object",
         "type": "string"
        },
        {
         "name": "Время",
         "rawType": "object",
         "type": "unknown"
        }
       ],
       "ref": "f3bab45d-cfc9-4ebe-83d1-7b35432e26a2",
       "rows": [
        [
         "count",
         "98355"
        ],
        [
         "mean",
         "2023-10-29 21:17:36.319658496"
        ],
        [
         "min",
         "2023-09-02 00:00:00"
        ],
        [
         "25%",
         "2023-10-04 12:59:00"
        ],
        [
         "50%",
         "2023-11-05 19:02:00"
        ],
        [
         "75%",
         "2023-11-23 17:37:00"
        ],
        [
         "max",
         "2024-01-14 20:43:00"
        ]
       ],
       "shape": {
        "columns": 1,
        "rows": 7
       }
      },
      "text/html": [
       "<div>\n",
       "<style scoped>\n",
       "    .dataframe tbody tr th:only-of-type {\n",
       "        vertical-align: middle;\n",
       "    }\n",
       "\n",
       "    .dataframe tbody tr th {\n",
       "        vertical-align: top;\n",
       "    }\n",
       "\n",
       "    .dataframe thead th {\n",
       "        text-align: right;\n",
       "    }\n",
       "</style>\n",
       "<table border=\"1\" class=\"dataframe\">\n",
       "  <thead>\n",
       "    <tr style=\"text-align: right;\">\n",
       "      <th></th>\n",
       "      <th>Время</th>\n",
       "    </tr>\n",
       "  </thead>\n",
       "  <tbody>\n",
       "    <tr>\n",
       "      <th>count</th>\n",
       "      <td>98355</td>\n",
       "    </tr>\n",
       "    <tr>\n",
       "      <th>mean</th>\n",
       "      <td>2023-10-29 21:17:36.319658496</td>\n",
       "    </tr>\n",
       "    <tr>\n",
       "      <th>min</th>\n",
       "      <td>2023-09-02 00:00:00</td>\n",
       "    </tr>\n",
       "    <tr>\n",
       "      <th>25%</th>\n",
       "      <td>2023-10-04 12:59:00</td>\n",
       "    </tr>\n",
       "    <tr>\n",
       "      <th>50%</th>\n",
       "      <td>2023-11-05 19:02:00</td>\n",
       "    </tr>\n",
       "    <tr>\n",
       "      <th>75%</th>\n",
       "      <td>2023-11-23 17:37:00</td>\n",
       "    </tr>\n",
       "    <tr>\n",
       "      <th>max</th>\n",
       "      <td>2024-01-14 20:43:00</td>\n",
       "    </tr>\n",
       "  </tbody>\n",
       "</table>\n",
       "</div>"
      ],
      "text/plain": [
       "                               Время\n",
       "count                          98355\n",
       "mean   2023-10-29 21:17:36.319658496\n",
       "min              2023-09-02 00:00:00\n",
       "25%              2023-10-04 12:59:00\n",
       "50%              2023-11-05 19:02:00\n",
       "75%              2023-11-23 17:37:00\n",
       "max              2024-01-14 20:43:00"
      ]
     },
     "execution_count": 16,
     "metadata": {},
     "output_type": "execute_result"
    }
   ],
   "source": [
    "#Исключить данные до начала (до 01.09.2023) и после окончания (до 15.01.2024) осеннего семестра\n",
    "df = df[(df[\"Время\"] >= \"2023-09-01\") & (df[\"Время\"] <= \"2024-01-15\")]\n",
    "df.describe()"
   ]
  },
  {
   "cell_type": "code",
   "execution_count": 21,
   "id": "785f5b10",
   "metadata": {},
   "outputs": [
    {
     "data": {
      "application/vnd.microsoft.datawrangler.viewer.v0+json": {
       "columns": [
        {
         "name": "index",
         "rawType": "int64",
         "type": "integer"
        },
        {
         "name": "Время",
         "rawType": "datetime64[ns]",
         "type": "datetime"
        },
        {
         "name": "Полное имя пользователя",
         "rawType": "object",
         "type": "string"
        },
        {
         "name": "Затронутый пользователь",
         "rawType": "object",
         "type": "unknown"
        },
        {
         "name": "Контекст события",
         "rawType": "object",
         "type": "string"
        },
        {
         "name": "Компонент",
         "rawType": "object",
         "type": "string"
        },
        {
         "name": "Название события",
         "rawType": "object",
         "type": "string"
        },
        {
         "name": "Источник",
         "rawType": "object",
         "type": "string"
        },
        {
         "name": "is_active",
         "rawType": "int64",
         "type": "integer"
        },
        {
         "name": "is_view",
         "rawType": "int64",
         "type": "integer"
        }
       ],
       "ref": "1c6937c9-8294-4d4c-91b5-a0e5f008751d",
       "rows": [
        [
         "484",
         "2024-01-02 12:58:00",
         "e183e099e8dcfa9514593f8e0f38090f",
         null,
         "Курс: Разработка программного обеспечения на языке Python",
         "Система",
         "Курс просмотрен",
         "web",
         "0",
         "0"
        ],
        [
         "485",
         "2024-01-02 10:44:00",
         "723da1798d02be192c9217409bc1064d",
         null,
         "Задание: ИТОГОВАЯ АТТЕСТАЦИОННАЯ РАБОТА",
         "Задание",
         "Страница состояния представленного ответа просмотрена",
         "web",
         "0",
         "1"
        ],
        [
         "486",
         "2024-01-02 10:44:00",
         "723da1798d02be192c9217409bc1064d",
         "723da1798d02be192c9217409bc1064d",
         "Задание: ИТОГОВАЯ АТТЕСТАЦИОННАЯ РАБОТА",
         "Задание",
         "Отзыв просмотрен",
         "web",
         "0",
         "1"
        ],
        [
         "487",
         "2024-01-02 10:44:00",
         "723da1798d02be192c9217409bc1064d",
         null,
         "Задание: ИТОГОВАЯ АТТЕСТАЦИОННАЯ РАБОТА",
         "Задание",
         "Модуль курса просмотрен",
         "web",
         "0",
         "1"
        ],
        [
         "488",
         "2024-01-02 10:44:00",
         "723da1798d02be192c9217409bc1064d",
         null,
         "Задание: Стажировка ",
         "Задание",
         "Страница состояния представленного ответа просмотрена",
         "web",
         "0",
         "1"
        ]
       ],
       "shape": {
        "columns": 9,
        "rows": 5
       }
      },
      "text/html": [
       "<div>\n",
       "<style scoped>\n",
       "    .dataframe tbody tr th:only-of-type {\n",
       "        vertical-align: middle;\n",
       "    }\n",
       "\n",
       "    .dataframe tbody tr th {\n",
       "        vertical-align: top;\n",
       "    }\n",
       "\n",
       "    .dataframe thead th {\n",
       "        text-align: right;\n",
       "    }\n",
       "</style>\n",
       "<table border=\"1\" class=\"dataframe\">\n",
       "  <thead>\n",
       "    <tr style=\"text-align: right;\">\n",
       "      <th></th>\n",
       "      <th>Время</th>\n",
       "      <th>Полное имя пользователя</th>\n",
       "      <th>Затронутый пользователь</th>\n",
       "      <th>Контекст события</th>\n",
       "      <th>Компонент</th>\n",
       "      <th>Название события</th>\n",
       "      <th>Источник</th>\n",
       "      <th>is_active</th>\n",
       "      <th>is_view</th>\n",
       "    </tr>\n",
       "  </thead>\n",
       "  <tbody>\n",
       "    <tr>\n",
       "      <th>484</th>\n",
       "      <td>2024-01-02 12:58:00</td>\n",
       "      <td>e183e099e8dcfa9514593f8e0f38090f</td>\n",
       "      <td>NaN</td>\n",
       "      <td>Курс: Разработка программного обеспечения на я...</td>\n",
       "      <td>Система</td>\n",
       "      <td>Курс просмотрен</td>\n",
       "      <td>web</td>\n",
       "      <td>0</td>\n",
       "      <td>0</td>\n",
       "    </tr>\n",
       "    <tr>\n",
       "      <th>485</th>\n",
       "      <td>2024-01-02 10:44:00</td>\n",
       "      <td>723da1798d02be192c9217409bc1064d</td>\n",
       "      <td>NaN</td>\n",
       "      <td>Задание: ИТОГОВАЯ АТТЕСТАЦИОННАЯ РАБОТА</td>\n",
       "      <td>Задание</td>\n",
       "      <td>Страница состояния представленного ответа прос...</td>\n",
       "      <td>web</td>\n",
       "      <td>0</td>\n",
       "      <td>1</td>\n",
       "    </tr>\n",
       "    <tr>\n",
       "      <th>486</th>\n",
       "      <td>2024-01-02 10:44:00</td>\n",
       "      <td>723da1798d02be192c9217409bc1064d</td>\n",
       "      <td>723da1798d02be192c9217409bc1064d</td>\n",
       "      <td>Задание: ИТОГОВАЯ АТТЕСТАЦИОННАЯ РАБОТА</td>\n",
       "      <td>Задание</td>\n",
       "      <td>Отзыв просмотрен</td>\n",
       "      <td>web</td>\n",
       "      <td>0</td>\n",
       "      <td>1</td>\n",
       "    </tr>\n",
       "    <tr>\n",
       "      <th>487</th>\n",
       "      <td>2024-01-02 10:44:00</td>\n",
       "      <td>723da1798d02be192c9217409bc1064d</td>\n",
       "      <td>NaN</td>\n",
       "      <td>Задание: ИТОГОВАЯ АТТЕСТАЦИОННАЯ РАБОТА</td>\n",
       "      <td>Задание</td>\n",
       "      <td>Модуль курса просмотрен</td>\n",
       "      <td>web</td>\n",
       "      <td>0</td>\n",
       "      <td>1</td>\n",
       "    </tr>\n",
       "    <tr>\n",
       "      <th>488</th>\n",
       "      <td>2024-01-02 10:44:00</td>\n",
       "      <td>723da1798d02be192c9217409bc1064d</td>\n",
       "      <td>NaN</td>\n",
       "      <td>Задание: Стажировка</td>\n",
       "      <td>Задание</td>\n",
       "      <td>Страница состояния представленного ответа прос...</td>\n",
       "      <td>web</td>\n",
       "      <td>0</td>\n",
       "      <td>1</td>\n",
       "    </tr>\n",
       "  </tbody>\n",
       "</table>\n",
       "</div>"
      ],
      "text/plain": [
       "                  Время           Полное имя пользователя  \\\n",
       "484 2024-01-02 12:58:00  e183e099e8dcfa9514593f8e0f38090f   \n",
       "485 2024-01-02 10:44:00  723da1798d02be192c9217409bc1064d   \n",
       "486 2024-01-02 10:44:00  723da1798d02be192c9217409bc1064d   \n",
       "487 2024-01-02 10:44:00  723da1798d02be192c9217409bc1064d   \n",
       "488 2024-01-02 10:44:00  723da1798d02be192c9217409bc1064d   \n",
       "\n",
       "              Затронутый пользователь  \\\n",
       "484                               NaN   \n",
       "485                               NaN   \n",
       "486  723da1798d02be192c9217409bc1064d   \n",
       "487                               NaN   \n",
       "488                               NaN   \n",
       "\n",
       "                                      Контекст события Компонент  \\\n",
       "484  Курс: Разработка программного обеспечения на я...   Система   \n",
       "485            Задание: ИТОГОВАЯ АТТЕСТАЦИОННАЯ РАБОТА   Задание   \n",
       "486            Задание: ИТОГОВАЯ АТТЕСТАЦИОННАЯ РАБОТА   Задание   \n",
       "487            Задание: ИТОГОВАЯ АТТЕСТАЦИОННАЯ РАБОТА   Задание   \n",
       "488                               Задание: Стажировка    Задание   \n",
       "\n",
       "                                      Название события Источник  is_active  \\\n",
       "484                                    Курс просмотрен      web          0   \n",
       "485  Страница состояния представленного ответа прос...      web          0   \n",
       "486                                   Отзыв просмотрен      web          0   \n",
       "487                            Модуль курса просмотрен      web          0   \n",
       "488  Страница состояния представленного ответа прос...      web          0   \n",
       "\n",
       "     is_view  \n",
       "484        0  \n",
       "485        1  \n",
       "486        1  \n",
       "487        1  \n",
       "488        1  "
      ]
     },
     "execution_count": 21,
     "metadata": {},
     "output_type": "execute_result"
    }
   ],
   "source": [
    "#добавить столбцы is_active, is_view для событий\n",
    "df['is_active'] = df[\"Название события\"].apply(lambda x: 1 if x in active else 0)\n",
    "df['is_view'] = df[\"Название события\"].apply(lambda x: 1 if x in views else 0)\n",
    "df.head()"
   ]
  },
  {
   "cell_type": "code",
   "execution_count": 25,
   "id": "00b5a9ee",
   "metadata": {},
   "outputs": [
    {
     "data": {
      "application/vnd.microsoft.datawrangler.viewer.v0+json": {
       "columns": [
        {
         "name": "index",
         "rawType": "int64",
         "type": "integer"
        },
        {
         "name": "Полное имя пользователя",
         "rawType": "object",
         "type": "string"
        },
        {
         "name": "total_active",
         "rawType": "int64",
         "type": "integer"
        },
        {
         "name": "total_views",
         "rawType": "int64",
         "type": "integer"
        }
       ],
       "ref": "991b3356-65c4-40c3-ace3-8af7119beb19",
       "rows": [
        [
         "0",
         "0013cbbe04f4ef7e3b68427130879265",
         "51",
         "221"
        ],
        [
         "1",
         "005b103b8dab7a44c8fa0032dd3ce71e",
         "20",
         "163"
        ],
        [
         "2",
         "009811d0356ea306907acb74f86132b4",
         "39",
         "143"
        ],
        [
         "3",
         "009844f1c773a4576914819aeb9aadc3",
         "0",
         "469"
        ],
        [
         "4",
         "00c8ab9c7d42d289a27de525176419bf",
         "1",
         "50"
        ]
       ],
       "shape": {
        "columns": 3,
        "rows": 5
       }
      },
      "text/html": [
       "<div>\n",
       "<style scoped>\n",
       "    .dataframe tbody tr th:only-of-type {\n",
       "        vertical-align: middle;\n",
       "    }\n",
       "\n",
       "    .dataframe tbody tr th {\n",
       "        vertical-align: top;\n",
       "    }\n",
       "\n",
       "    .dataframe thead th {\n",
       "        text-align: right;\n",
       "    }\n",
       "</style>\n",
       "<table border=\"1\" class=\"dataframe\">\n",
       "  <thead>\n",
       "    <tr style=\"text-align: right;\">\n",
       "      <th></th>\n",
       "      <th>Полное имя пользователя</th>\n",
       "      <th>total_active</th>\n",
       "      <th>total_views</th>\n",
       "    </tr>\n",
       "  </thead>\n",
       "  <tbody>\n",
       "    <tr>\n",
       "      <th>0</th>\n",
       "      <td>0013cbbe04f4ef7e3b68427130879265</td>\n",
       "      <td>51</td>\n",
       "      <td>221</td>\n",
       "    </tr>\n",
       "    <tr>\n",
       "      <th>1</th>\n",
       "      <td>005b103b8dab7a44c8fa0032dd3ce71e</td>\n",
       "      <td>20</td>\n",
       "      <td>163</td>\n",
       "    </tr>\n",
       "    <tr>\n",
       "      <th>2</th>\n",
       "      <td>009811d0356ea306907acb74f86132b4</td>\n",
       "      <td>39</td>\n",
       "      <td>143</td>\n",
       "    </tr>\n",
       "    <tr>\n",
       "      <th>3</th>\n",
       "      <td>009844f1c773a4576914819aeb9aadc3</td>\n",
       "      <td>0</td>\n",
       "      <td>469</td>\n",
       "    </tr>\n",
       "    <tr>\n",
       "      <th>4</th>\n",
       "      <td>00c8ab9c7d42d289a27de525176419bf</td>\n",
       "      <td>1</td>\n",
       "      <td>50</td>\n",
       "    </tr>\n",
       "  </tbody>\n",
       "</table>\n",
       "</div>"
      ],
      "text/plain": [
       "            Полное имя пользователя  total_active  total_views\n",
       "0  0013cbbe04f4ef7e3b68427130879265            51          221\n",
       "1  005b103b8dab7a44c8fa0032dd3ce71e            20          163\n",
       "2  009811d0356ea306907acb74f86132b4            39          143\n",
       "3  009844f1c773a4576914819aeb9aadc3             0          469\n",
       "4  00c8ab9c7d42d289a27de525176419bf             1           50"
      ]
     },
     "execution_count": 25,
     "metadata": {},
     "output_type": "execute_result"
    }
   ],
   "source": [
    "#3. Агрегировать данные для каждого пользователя по количеству активных действий и просмотров в течение осеннего семестра.\n",
    "agg_df = df.groupby('Полное имя пользователя').agg({'is_active': 'sum', 'is_view': 'sum'}).reset_index()\n",
    "agg_df.rename(columns={'is_active': 'total_active', 'is_view': 'total_views'}, inplace=True)\n",
    "agg_df.head()"
   ]
  },
  {
   "cell_type": "code",
   "execution_count": 30,
   "id": "8a180db4",
   "metadata": {},
   "outputs": [],
   "source": [
    "# Пример: 3 интервала по квантилям\n",
    "agg_df['active_group'] = pd.qcut(agg_df['total_active'], q=8, duplicates='drop')\n",
    "agg_df['views_group']  = pd.qcut(agg_df['total_views'],  q=8, duplicates='drop')\n",
    "contingency_table = pd.crosstab(agg_df['active_group'], agg_df['views_group'])"
   ]
  },
  {
   "cell_type": "code",
   "execution_count": 31,
   "id": "f89b5391",
   "metadata": {},
   "outputs": [
    {
     "name": "stdout",
     "output_type": "stream",
     "text": [
      "Chi2: 665.9370031135775, p-value: 2.5575192939496763e-122, dof: 28\n",
      "Отвергаем нулевую гипотезу: существует связь между активными действиями и просмотрами.\n"
     ]
    },
    {
     "data": {
      "text/plain": [
       "Text(0.5, 1.0, 'Распределение активных действий и просмотров')"
      ]
     },
     "execution_count": 31,
     "metadata": {},
     "output_type": "execute_result"
    },
    {
     "data": {
      "image/png": "[encoded data removed]",
      "text/plain": [
       "<Figure size 1200x600 with 1 Axes>"
      ]
     },
     "metadata": {},
     "output_type": "display_data"
    }
   ],
   "source": [
    "#проверить гипотезу о наличии связи между активными действиями в электронном курсе и просмотрами.\n",
    "#роверить гипотезу независимости критерием хи-квадрат Пирсона (учесть замечание по использованию критерия: $\\nu_{ij}>5$).\n",
    "from scipy.stats import chi2_contingency\n",
    "chi2, p, dof, expected = chi2_contingency(contingency_table)\n",
    "print(f'Chi2: {chi2}, p-value: {p}, dof: {dof}')\n",
    "if p < 0.05:\n",
    "    print(\"Отвергаем нулевую гипотезу: существует связь между активными действиями и просмотрами.\")\n",
    "\n",
    "#визуализировать распределение активных действий и просмотров\n",
    "plt.figure(figsize=(12, 6))\n",
    "sns.scatterplot(data=agg_df, x='total_active', y='total_views')\n",
    "plt.title('Распределение активных действий и просмотров')\n"
   ]
  },
  {
   "cell_type": "code",
   "execution_count": 32,
   "id": "499ecefd",
   "metadata": {},
   "outputs": [
    {
     "name": "stdout",
     "output_type": "stream",
     "text": [
      "Коэффициент корреляции Пирсона: 0.4968707129616828, p-value: 4.871443519543865e-39\n",
      "Корреляция статистически значима.\n"
     ]
    }
   ],
   "source": [
    "#- вычислить выборочный коэффициент корреляции Пирсона между количеством активных действий и просмотров, проверить его статистическую значимость, сделать вывод о возможности приближения зависимости между количеством активных действий и просмотров линейной функцией;\n",
    "from scipy.stats import pearsonr\n",
    "corr, p_value = pearsonr(agg_df['total_active'], agg_df['total_views'])\n",
    "print(f'Коэффициент корреляции Пирсона: {corr}, p-value: {p_value}')\n",
    "if p_value < 0.05:\n",
    "    print(\"Корреляция статистически значима.\")"
   ]
  },
  {
   "cell_type": "code",
   "execution_count": 33,
   "id": "56139693",
   "metadata": {},
   "outputs": [
    {
     "name": "stdout",
     "output_type": "stream",
     "text": [
      "                            OLS Regression Results                            \n",
      "==============================================================================\n",
      "Dep. Variable:           total_active   R-squared:                       0.247\n",
      "Model:                            OLS   Adj. R-squared:                  0.246\n",
      "Method:                 Least Squares   F-statistic:                     197.7\n",
      "Date:                 Пт, 10 окт 2025   Prob (F-statistic):           4.87e-39\n",
      "Time:                        15:23:33   Log-Likelihood:                -2678.2\n",
      "No. Observations:                 605   AIC:                             5360.\n",
      "Df Residuals:                     603   BIC:                             5369.\n",
      "Df Model:                           1                                         \n",
      "Covariance Type:            nonrobust                                         \n",
      "===============================================================================\n",
      "                  coef    std err          t      P>|t|      [0.025      0.975]\n",
      "-------------------------------------------------------------------------------\n",
      "const           5.6209      0.920      6.111      0.000       3.814       7.427\n",
      "total_views     0.0629      0.004     14.060      0.000       0.054       0.072\n",
      "==============================================================================\n",
      "Omnibus:                      208.294   Durbin-Watson:                   2.011\n",
      "Prob(Omnibus):                  0.000   Jarque-Bera (JB):            11646.222\n",
      "Skew:                           0.667   Prob(JB):                         0.00\n",
      "Kurtosis:                      24.453   Cond. No.                         229.\n",
      "==============================================================================\n",
      "\n",
      "Notes:\n",
      "[1] Standard Errors assume that the covariance matrix of the errors is correctly specified.\n"
     ]
    }
   ],
   "source": [
    "   #- построить линейную регрессию количества активных действий от просмотров, оценить статистическую значимость коэффициентов уравнения линейной регрессии и значимость всего уравнения в целом;\n",
    "import statsmodels.api as sm\n",
    "X = sm.add_constant(agg_df['total_views'])\n",
    "y = agg_df['total_active']\n",
    "model = sm.OLS(y, X).fit()\n",
    "print(model.summary())"
   ]
  },
  {
   "cell_type": "code",
   "execution_count": null,
   "id": "e1ecde5a",
   "metadata": {},
   "outputs": [
    {
     "data": {
      "image/png": "[encoded data removed]",
      "text/plain": [
       "<Figure size 640x480 with 1 Axes>"
      ]
     },
     "execution_count": 34,
     "metadata": {},
     "output_type": "execute_result"
    },
    {
     "data": {
      "image/png": "[encoded data removed]",
      "text/plain": [
       "<Figure size 640x480 with 1 Axes>"
      ]
     },
     "metadata": {},
     "output_type": "display_data"
    }
   ],
   "source": [
    "#- проверить выполнение условия адекватности каждой из полученных моделей регрессии (нормальность распределения регрессионных остатков), построив Q-Q график;\n",
    "residuals = model.resid\n",
    "sm.qqplot(residuals, line ='45')"
   ]
  },
  {
   "cell_type": "code",
   "execution_count": null,
   "id": "48b5f503",
   "metadata": {},
   "outputs": [],
   "source": [
    " #- выбрать еще 2-3 функциональные формы (квадратическая, логарифмическая, экспоненциальная, обратная и т.д.) зависимости количества активных действий от просмотров, оценить коэффициенты для каждого вида зависимости,  проверить выполнение условия адекватности моделей;\n",
    "    #- выбрать оптимальную модель на основании коэффициента детерминации;\n",
    "    #- с помощью оптимальной модели найти прогноз количества активных действий в курсе, произвольным образом задав для него значение просмотров."
   ]
  }
 ],
 "metadata": {
  "kernelspec": {
   "display_name": "data_science (3.13.5)",
   "language": "python",
   "name": "python3"
  },
  "language_info": {
   "codemirror_mode": {
    "name": "ipython",
    "version": 3
   },
   "file_extension": ".py",
   "mimetype": "text/x-python",
   "name": "python",
   "nbconvert_exporter": "python",
   "pygments_lexer": "ipython3",
   "version": "3.13.5"
  }
 },
 "nbformat": 4,
 "nbformat_minor": 5
}
