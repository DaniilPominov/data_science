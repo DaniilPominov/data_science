{
 "cells": [
  {
   "cell_type": "code",
   "execution_count": null,
   "id": "3b9e02ff",
   "metadata": {},
   "outputs": [],
   "source": [
    "import numpy as np\n",
    "import matplotlib.pyplot as plt\n",
    "\n",
    "# Исходные данные\n",
    "cov_matrix = np.array([\n",
    "    [0.000189, 0.000103, 0.000102, 0.00037,  8.1e-05,  3.7e-05],\n",
    "    [0.000103, 0.000377, 0.00046,  0.000146, 0.000342, 0.000225],\n",
    "    [0.000102, 0.00046,  0.000612, 0.000131, 0.000409, 0.000358],\n",
    "    [0.00037,  0.000146, 0.000131, 0.000808, 0.00016,  8.7e-05],\n",
    "    [8.1e-05,  0.000342, 0.000409, 0.00016,  0.000425, 0.000194],\n",
    "    [3.7e-05,  0.000225, 0.000358, 8.7e-05,  0.000194, 0.000407]\n",
    "])\n",
    "\n",
    "mu = np.array([0.0407, 0.0464, 0.0705, 0.0994, 0.0857, 0.125])\n",
    "\n",
    "# Текущее состояние\n",
    "current_lambda = 0.004\n",
    "external_indices = [1, 2]  # x2 и x3\n",
    "internal_indices = [0, 3, 4, 5]  # x1, x4, x5, x6\n",
    "\n",
    "# Формируем подматрицы для внутренних переменных\n",
    "cov_II = cov_matrix[np.ix_(internal_indices, internal_indices)]\n",
    "mu_I = mu[internal_indices]\n",
    "e = np.ones(len(internal_indices))\n",
    "\n",
    "# Расширенная матрица системы\n",
    "A = np.block([\n",
    "    [cov_II, -e.reshape(-1, 1)],\n",
    "    [e, 0]\n",
    "])\n",
    "\n",
    "# Векторы правой части\n",
    "b0 = np.zeros(len(internal_indices) + 1)\n",
    "b0[-1] = 1\n",
    "b1 = np.hstack([mu_I, 0])\n",
    "\n",
    "# Решаем системы\n",
    "x0 = np.linalg.solve(A, b0)\n",
    "x1 = np.linalg.solve(A, b1)\n"
   ]
  }
 ],
 "metadata": {
  "kernelspec": {
   "display_name": "data_science (3.13.5)",
   "language": "python",
   "name": "python3"
  },
  "language_info": {
   "codemirror_mode": {
    "name": "ipython",
    "version": 3
   },
   "file_extension": ".py",
   "mimetype": "text/x-python",
   "name": "python",
   "nbconvert_exporter": "python",
   "pygments_lexer": "ipython3",
   "version": "3.13.5"
  }
 },
 "nbformat": 4,
 "nbformat_minor": 5
}
